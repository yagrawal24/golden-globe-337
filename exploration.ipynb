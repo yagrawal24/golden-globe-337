{
 "cells": [
  {
   "cell_type": "code",
   "execution_count": 24,
   "metadata": {},
   "outputs": [],
   "source": [
    "import pandas as pd\n",
    "import re\n",
    "import emoji\n",
    "from ftfy import fix_text \n",
    "import unidecode\n",
    "from langdetect import detect, detect_langs\n",
    "import spacy"
   ]
  },
  {
   "cell_type": "code",
   "execution_count": 25,
   "metadata": {},
   "outputs": [],
   "source": [
    "# df = pd.read_json(r'C:\\Users\\rockm\\golden-globe-337\\gg2013.json')['text']\n",
    "df = pd.read_json('gg2013.json')['text']"
   ]
  },
  {
   "cell_type": "code",
   "execution_count": 26,
   "metadata": {},
   "outputs": [],
   "source": [
    "df.to_csv('text.csv')"
   ]
  },
  {
   "cell_type": "code",
   "execution_count": 27,
   "metadata": {},
   "outputs": [
    {
     "data": {
      "text/plain": [
       "0                    JLo's dress! #eredcarpet #GoldenGlobes\n",
       "1         What's making Sofia Vergara's boobs stay like ...\n",
       "2         RT @FabSugar: Kerry Washington is EVERYTHING. ...\n",
       "3            Anne Hathaway has got me living. #GoldenGlobes\n",
       "4         Jennifer Lopez's lace dress? Thoughts? #Golden...\n",
       "                                ...                        \n",
       "174638    RT @authorViviAnna: I was sad that Mandy Patin...\n",
       "174639    RT @_ItzelMartinez_: Jennifer Lawrence aceptan...\n",
       "174640    Golden Globes, lots of fashion messes...but gl...\n",
       "174641    Did they have mug shots at the golden globes?!...\n",
       "174642    Says @BenAffleck: \"I also didn't get the Actin...\n",
       "Name: text, Length: 174643, dtype: object"
      ]
     },
     "execution_count": 27,
     "metadata": {},
     "output_type": "execute_result"
    }
   ],
   "source": [
    "df"
   ]
  },
  {
   "cell_type": "code",
   "execution_count": 28,
   "metadata": {},
   "outputs": [],
   "source": [
    "def clean(text):\n",
    "    text = fix_text(text)\n",
    "    # Remove URLs\n",
    "    text = re.sub(r'http\\S+|www\\S+|pic.twitter\\S+', '', text)\n",
    "    # Remove emojis\n",
    "    # new_text = unidecode(text)\n",
    "    text = emoji.replace_emoji(text, replace='')\n",
    "    # Remove hashtags\n",
    "    text = re.sub(r'#\\S+', '', text)\n",
    "    \n",
    "    text = re.sub(r'[^A-Za-z0-9@ \"]+', '', text)\n",
    "    \n",
    "    text = re.sub(' +', ' ', text)\n",
    "    \n",
    "    text = text.lower()\n",
    "    \n",
    "    # if text.str.strip() != '':\n",
    "    #     detect(text.split(' ')[0])\n",
    "    \n",
    "    return text"
   ]
  },
  {
   "cell_type": "code",
   "execution_count": 29,
   "metadata": {},
   "outputs": [],
   "source": [
    "df = df.apply(clean)"
   ]
  },
  {
   "cell_type": "code",
   "execution_count": 30,
   "metadata": {},
   "outputs": [],
   "source": [
    "cleaned_data = df[df.str.strip() != \"\"]"
   ]
  },
  {
   "cell_type": "code",
   "execution_count": 31,
   "metadata": {},
   "outputs": [],
   "source": [
    "cleaned_data.to_csv('text_cleaned.csv')"
   ]
  },
  {
   "cell_type": "code",
   "execution_count": 46,
   "metadata": {},
   "outputs": [
    {
     "name": "stdout",
     "output_type": "stream",
     "text": [
      "0                                      [(jlos, PERSON)]\n",
      "1                                                    []\n",
      "2        [(rt @fabsugar kerry, ORG), (washington, GPE)]\n",
      "3                             [(anne hathaway, PERSON)]\n",
      "4                                  [(jennifer, PERSON)]\n",
      "5     [(su maniquere pero jams, PERSON), (tela de ju...\n",
      "6                                                    []\n",
      "7                                           [(al, ORG)]\n",
      "8                              [(hugh jackman, PERSON)]\n",
      "9                                                    []\n",
      "10                          [(hellen mirren o, PERSON)]\n",
      "11                                 [(jennifer, PERSON)]\n",
      "12                             [(jessica alba, PERSON)]\n",
      "13                            [(@kerrywashington, ORG)]\n",
      "14                                                   []\n",
      "15                            [(@amsdiva, WORK_OF_ART)]\n",
      "16                                    [(one, CARDINAL)]\n",
      "17                                                   []\n",
      "18                             [(hugh jackman, PERSON)]\n",
      "19           [(rt @audrinapatridge @sofiavergara, ORG)]\n",
      "20    [(jessica alba, PERSON), (anne hathaway, PERSON)]\n",
      "21                                                   []\n",
      "22                                                   []\n",
      "23                                    [(la noche, GPE)]\n",
      "24                                  [(all night, TIME)]\n",
      "Name: text, dtype: object\n"
     ]
    }
   ],
   "source": [
    "nlp = spacy.load('en_core_web_sm')\n",
    "\n",
    "def extract_entities(text):\n",
    "    doc = nlp(text)\n",
    "    entities = [(ent.text, ent.label_) for ent in doc.ents]\n",
    "    return entities\n",
    "\n",
    "# doc = nlp(cleaned_data[1])\n",
    "print( df.head(25).apply(extract_entities))\n",
    "\n",
    "# print(df[['entities']].head(100))"
   ]
  },
  {
   "cell_type": "code",
   "execution_count": 47,
   "metadata": {},
   "outputs": [
    {
     "name": "stdout",
     "output_type": "stream",
     "text": [
      "Names found in text:\n",
      "Yash\n"
     ]
    }
   ],
   "source": [
    "text = \"\"\"\n",
    "Hi My name is Yash\n",
    "\"\"\"\n",
    "\n",
    "# Process the text using the spaCy NLP model\n",
    "doc = nlp(text)\n",
    "\n",
    "# Extract and print entities recognized as persons\n",
    "print(\"Names found in text:\")\n",
    "for ent in doc.ents:\n",
    "    if ent.label_ == \"PERSON\":  # Checking for entities labeled as 'PERSON'\n",
    "        print(ent.text)"
   ]
  },
  {
   "cell_type": "code",
   "execution_count": 96,
   "metadata": {},
   "outputs": [
    {
     "data": {
      "text/plain": [
       "1474      rt @possessionista if jennifer lawrence starts...\n",
       "2983      id watch the but scripted tv wins out over awa...\n",
       "6538      golden globes 2013 list of winners from this y...\n",
       "7038                      bill murray wins the beard award \n",
       "8289      the begins hope django unchained wins an award...\n",
       "                                ...                        \n",
       "174357    rt @instyle looking every bit a winner stopped...\n",
       "174399    golden globes 2013 british stars take home awa...\n",
       "174457    golden globes 2013 british stars take home awa...\n",
       "174496    rt @thr complete list of the winners at the 70...\n",
       "174553    winner at our @goldenglobes party practice rou...\n",
       "Name: text, Length: 646, dtype: object"
      ]
     },
     "execution_count": 96,
     "metadata": {},
     "output_type": "execute_result"
    }
   ],
   "source": [
    "cleaned_data[cleaned_data.apply(lambda x: re.search('(?=.*award|AWARD)(?=.*wins|Wins|WINS|winner|WINNER).*', x) != None)]"
   ]
  },
  {
   "cell_type": "code",
   "execution_count": 97,
   "metadata": {},
   "outputs": [],
   "source": [
    "win_data = cleaned_data[cleaned_data.apply(lambda x: re.search('(wins|Wins|WINS|winner|WINNER)', x) != None)]"
   ]
  },
  {
   "cell_type": "code",
   "execution_count": 98,
   "metadata": {},
   "outputs": [
    {
     "data": {
      "text/plain": [
       "125       \"@gustavocadile oscar winner actress anjelica ...\n",
       "351       too busy for the this go around somebody tweet...\n",
       "553       jessica chastain looks like the mozilla firefo...\n",
       "612       lmao \"@morocca hey nbc shouldve gotten a \"mani...\n",
       "624       rt @morocca hey nbc shouldve gotten a \"mani ca...\n",
       "                                ...                        \n",
       "174560    les miserables best picture musical or comedy ...\n",
       "174574    listen to winners from the golden globes adele...\n",
       "174605    jessica chastain best actress drama winner at ...\n",
       "174626    all of the tv award winners at the are on cabl...\n",
       "174632    rt @piersmorgan great amusingly hosted memorab...\n",
       "Name: text, Length: 7495, dtype: object"
      ]
     },
     "execution_count": 98,
     "metadata": {},
     "output_type": "execute_result"
    }
   ],
   "source": [
    "win_data"
   ]
  }
 ],
 "metadata": {
  "kernelspec": {
   "display_name": "gg337",
   "language": "python",
   "name": "python3"
  },
  "language_info": {
   "codemirror_mode": {
    "name": "ipython",
    "version": 3
   },
   "file_extension": ".py",
   "mimetype": "text/x-python",
   "name": "python",
   "nbconvert_exporter": "python",
   "pygments_lexer": "ipython3",
   "version": "3.10.15"
  }
 },
 "nbformat": 4,
 "nbformat_minor": 2
}
