{
 "cells": [
  {
   "cell_type": "code",
   "execution_count": 1,
   "metadata": {},
   "outputs": [
    {
     "name": "stdout",
     "output_type": "stream",
     "text": [
      "game change | best miniseries | winner\n",
      "the hour | best miniseries | nominee\n",
      "argo | best drama | winner\n"
     ]
    }
   ],
   "source": [
    "###\n",
    "### PYTHON PACKAGES\n",
    "###\n",
    "import pandas as pd\n",
    "import re\n",
    "import emoji\n",
    "from ftfy import fix_text \n",
    "import unidecode\n",
    "from langdetect import detect, detect_langs\n",
    "import spacy\n",
    "from spacy import displacy\n",
    "\n",
    "###\n",
    "### USER-DEVELOPED IMPORTS\n",
    "###\n",
    "# from project import *\n",
    "from capture_group import *"
   ]
  },
  {
   "cell_type": "markdown",
   "metadata": {},
   "source": [
    "### New Idea\n",
    "\n",
    "1) loop through cleaned dataframe to find tweets with \"win,\" \"present,\" \"nominate,\" \"best\" (maybe), \"award\" (maybe)\n",
    "2) with a match, get any names"
   ]
  },
  {
   "cell_type": "code",
   "execution_count": 2,
   "metadata": {},
   "outputs": [],
   "source": [
    "cleaned_data = pd.read_csv('text_cleaned.csv')['text']\n",
    "win_data = pd.read_csv('wins.csv')['text']\n",
    "spacy_data = pd.read_csv('spacy_info.csv')"
   ]
  },
  {
   "cell_type": "code",
   "execution_count": 3,
   "metadata": {},
   "outputs": [],
   "source": [
    "spacy_size = 1500"
   ]
  },
  {
   "cell_type": "code",
   "execution_count": 4,
   "metadata": {},
   "outputs": [
    {
     "data": {
      "text/plain": [
       "'Yash | best student | nominee'"
      ]
     },
     "execution_count": 4,
     "metadata": {},
     "output_type": "execute_result"
    }
   ],
   "source": [
    "# win_data.head(50).apply(lambda x: find_award_winner(x))x\n",
    "find_award_winner(\"I hope Yash or Sorie wins best student \")"
   ]
  },
  {
   "cell_type": "code",
   "execution_count": 5,
   "metadata": {},
   "outputs": [],
   "source": [
    "def nominee_search(text):\n",
    "    doc = nlp(text)\n",
    "    \n",
    "    entities = extract_entities(doc)\n",
    "    \n",
    "    gen_patterns = r'(is nominated for|is a nominee for)'\n",
    "    if re.search(gen_patterns, text, re.IGNORECASE):\n",
    "        for ent in entities:\n",
    "            if ent[1] == \"PERSON\":\n",
    "                alleged_winner = ent[0]\n",
    "        \n",
    "        award = extract_award_name_after_best(doc)\n",
    "        \n",
    "        if award != None:\n",
    "            return alleged_winner, award\n",
    "        \n",
    "        word_list = [\"award\", \"prize\", \"honor\", \"medal\", \"trophy\"]\n",
    "        pattern = r\"(\\w+)\\s+\" + gen_patterns + r\"(.*?\\b(?:\" + \"|\".join(re.escape(word) for word in word_list) + r\")\\b)\"\n",
    "        match = re.search(pattern, text, re.IGNORECASE)\n",
    "        \n",
    "        return alleged_winner, match.group(3)"
   ]
  },
  {
   "cell_type": "code",
   "execution_count": 6,
   "metadata": {},
   "outputs": [
    {
     "ename": "NameError",
     "evalue": "name 'extract_entities' is not defined",
     "output_type": "error",
     "traceback": [
      "\u001b[1;31m---------------------------------------------------------------------------\u001b[0m",
      "\u001b[1;31mNameError\u001b[0m                                 Traceback (most recent call last)",
      "Cell \u001b[1;32mIn[6], line 1\u001b[0m\n\u001b[1;32m----> 1\u001b[0m \u001b[43mnominee_search\u001b[49m\u001b[43m(\u001b[49m\u001b[38;5;124;43m\"\u001b[39;49m\u001b[38;5;124;43mYash is a nominee for best student\u001b[39;49m\u001b[38;5;124;43m\"\u001b[39;49m\u001b[43m)\u001b[49m\n",
      "Cell \u001b[1;32mIn[5], line 4\u001b[0m, in \u001b[0;36mnominee_search\u001b[1;34m(text)\u001b[0m\n\u001b[0;32m      1\u001b[0m \u001b[38;5;28;01mdef\u001b[39;00m \u001b[38;5;21mnominee_search\u001b[39m(text):\n\u001b[0;32m      2\u001b[0m     doc \u001b[38;5;241m=\u001b[39m nlp(text)\n\u001b[1;32m----> 4\u001b[0m     entities \u001b[38;5;241m=\u001b[39m \u001b[43mextract_entities\u001b[49m(doc)\n\u001b[0;32m      6\u001b[0m     gen_patterns \u001b[38;5;241m=\u001b[39m \u001b[38;5;124mr\u001b[39m\u001b[38;5;124m'\u001b[39m\u001b[38;5;124m(is nominated for|is a nominee for)\u001b[39m\u001b[38;5;124m'\u001b[39m\n\u001b[0;32m      7\u001b[0m     \u001b[38;5;28;01mif\u001b[39;00m re\u001b[38;5;241m.\u001b[39msearch(gen_patterns, text, re\u001b[38;5;241m.\u001b[39mIGNORECASE):\n",
      "\u001b[1;31mNameError\u001b[0m: name 'extract_entities' is not defined"
     ]
    }
   ],
   "source": [
    "nominee_search(\"Yash is a nominee for best student\")"
   ]
  },
  {
   "cell_type": "markdown",
   "metadata": {},
   "source": [
    "### Notes from office hours\n",
    "\n",
    "There may be accounts (i.e. newspapers) that HAVE to post who the nominees are, look through data for that\n",
    "Can use ordering of events (i.e. award A goes Speaker -> Nominees -> Winner)\n",
    "Start by looking at data that has information you know you need\n",
    "Try inputting JSON into ChatGPT and ask it to return tweets where nominees for awards are mentioned\n",
    "Somebody mentioned frequently near mention of an award winner\n",
    "\n",
    "For Spacy, find nsubj+, check IMDB to see if it's actually a movie or actor/actress (if time)\n",
    "\n",
    "Based on award name, can tell if you need a movie or actor / actress / song\n",
    "\n",
    "See what Spacy outputs for \"movie wins x award\"\n"
   ]
  },
  {
   "cell_type": "code",
   "execution_count": null,
   "metadata": {},
   "outputs": [
    {
     "name": "stdout",
     "output_type": "stream",
     "text": [
      "['@goldenglobes', '@eonline', '@perezhilton', '@theellenshow', '@emwatson', '@vanityfair', '@nbcsnl', '@cnnshowbiz', '@ciudadbizarra', '@ew']\n"
     ]
    }
   ],
   "source": [
    "from itertools import islice\n",
    "\n",
    "account_rts = {}\n",
    "\n",
    "for text in cleaned_data:\n",
    "    tweet = text.split(' ')\n",
    "    if tweet[0] == 'rt':\n",
    "        if tweet[1] in account_rts:\n",
    "            account_rts[tweet[1]] += 1\n",
    "        else:\n",
    "            account_rts.update({tweet[1]:1})\n",
    "\n",
    "account_dicts = dict(sorted(account_rts.items(), key=lambda item: item[1], reverse=True))\n",
    "\n",
    "top_accounts = list(islice(account_dicts, 10))\n",
    "top_accounts\n",
    "\n",
    "print(top_accounts)"
   ]
  },
  {
   "cell_type": "code",
   "execution_count": null,
   "metadata": {},
   "outputs": [],
   "source": [
    "retweet_pattern = r're\\s' + '|'.join(top_accounts)\n",
    "match = re.search(retweet_pattern, text, re.IGNORECASE)"
   ]
  },
  {
   "cell_type": "code",
   "execution_count": null,
   "metadata": {},
   "outputs": [],
   "source": [
    "def account_rt(text):\n",
    "    doc = nlp(text)\n",
    "    print(text, \" --- 1\")\n",
    "    \n",
    "    pattern = r're \\s' + '|'.join(top_accounts)\n",
    "    \n",
    "    if re.search(pattern, text, re.IGNORECASE):     \n",
    "        print(text, \" --- 2\")   \n",
    "        return find_award_winner(text)"
   ]
  },
  {
   "cell_type": "code",
   "execution_count": null,
   "metadata": {},
   "outputs": [],
   "source": [
    "text = \"rt @goldenglobes best screenplay quentin tarantino django unchained\""
   ]
  },
  {
   "cell_type": "code",
   "execution_count": null,
   "metadata": {},
   "outputs": [
    {
     "name": "stdout",
     "output_type": "stream",
     "text": [
      "rt @goldenglobes best screenplay quentin tarantino django unchained  --- 1\n"
     ]
    }
   ],
   "source": [
    "account_rt(text)"
   ]
  },
  {
   "cell_type": "code",
   "execution_count": null,
   "metadata": {},
   "outputs": [],
   "source": [
    "df = pd.read_json('gg2013.json')['text']"
   ]
  },
  {
   "cell_type": "code",
   "execution_count": null,
   "metadata": {},
   "outputs": [
    {
     "data": {
      "text/plain": [
       "'RT @goldenglobes: Best Screenplay - Quentin Tarantino - Django Unchained - #GoldenGlobes'"
      ]
     },
     "execution_count": 97,
     "metadata": {},
     "output_type": "execute_result"
    }
   ],
   "source": [
    "df[102541]"
   ]
  },
  {
   "cell_type": "code",
   "execution_count": 12,
   "metadata": {},
   "outputs": [],
   "source": [
    "nominee_data = cleaned_data[cleaned_data.apply(lambda x: re.search(r'(\\bnominated\\b|\\bnominee\\b|\\bnomination\\b|nominated\\b)', x) != None)]\n",
    "\n",
    "nominee_data.to_csv(\"nominees.csv\")"
   ]
  },
  {
   "cell_type": "code",
   "execution_count": 13,
   "metadata": {},
   "outputs": [
    {
     "data": {
      "text/plain": [
       "46        RT @Loki_Page: #GoldenGlobes Times! We wish go...\n",
       "132       I've seen a grand total of one nominated film....\n",
       "290       RT @Zap2itRick: Can Kerry Washington be nomina...\n",
       "391       If Leo could wear a tux everyday ... He still ...\n",
       "629       I wish my dad was an award-winning/nominated a...\n",
       "                                ...                        \n",
       "152540    RT @JessicaCapshaw: Thank u all for your play ...\n",
       "152550    RT @VanityFair: Best nominee cutaway of the ni...\n",
       "152644    RT @JessicaCapshaw: Thank u all for your play ...\n",
       "152707    RT @oskrNYC: \"7 Cajas\" should have been nomina...\n",
       "152787    RT @MaPeel: #Skyfall. Yes. Should have been no...\n",
       "Name: text, Length: 1023, dtype: object"
      ]
     },
     "execution_count": 13,
     "metadata": {},
     "output_type": "execute_result"
    }
   ],
   "source": [
    "nominee_data"
   ]
  },
  {
   "cell_type": "code",
   "execution_count": 14,
   "metadata": {},
   "outputs": [],
   "source": [
    "win_data = pd.read_csv('wins.csv')['text']\n",
    "win_output = win_data.apply(find_award_winner)"
   ]
  },
  {
   "cell_type": "code",
   "execution_count": 15,
   "metadata": {},
   "outputs": [],
   "source": [
    "nominee_data = pd.read_csv('nominees.csv')['text']\n",
    "nom_output = nominee_data.apply(find_nominee)"
   ]
  },
  {
   "cell_type": "code",
   "execution_count": 16,
   "metadata": {},
   "outputs": [],
   "source": [
    "pd.concat([win_output, nom_output]).to_csv('winners_nominees.csv', index=False)"
   ]
  },
  {
   "cell_type": "code",
   "execution_count": null,
   "metadata": {},
   "outputs": [],
   "source": [
    "winner = ['damien', 'anne', 'amy']\n",
    "\n",
    "re.search(f'{winner}+but I love+')"
   ]
  },
  {
   "cell_type": "code",
   "execution_count": 108,
   "metadata": {},
   "outputs": [
    {
     "data": {
      "text/plain": [
       "0                                                     NaN\n",
       "1                                                     NaN\n",
       "2                                                     NaN\n",
       "3                                                     NaN\n",
       "4                                                     NaN\n",
       "                              ...                        \n",
       "4072                   Hugh Jackman | best actor | winner\n",
       "4073                   Hugh Jackman | Best Actor | winner\n",
       "4074                                                  NaN\n",
       "4075    a video Jennifer Lawrence | Best Actress | winner\n",
       "4076        Les Miserables | Best Motion Picture | winner\n",
       "Name: text, Length: 4077, dtype: object"
      ]
     },
     "execution_count": 108,
     "metadata": {},
     "output_type": "execute_result"
    }
   ],
   "source": [
    "answers = pd.read_csv('winners_and_awards.csv')['text']\n",
    "answers"
   ]
  },
  {
   "cell_type": "code",
   "execution_count": 109,
   "metadata": {},
   "outputs": [],
   "source": [
    "# award class to store information about each award\n",
    "class award:\n",
    "    def __init__(self, name):\n",
    "        self.name = name\n",
    "        self.winner = {}\n",
    "        self.nominees = {}\n",
    "        self.presenters = {}\n",
    "        self.votes = 1\n",
    "    \n",
    "    # add a new person associted with the award\n",
    "    def new_person(self, name, role):\n",
    "        if role == 'winner':\n",
    "            self.winner.update({name:1})\n",
    "        elif role == 'nominee':\n",
    "            self.nominees.update({name:1})\n",
    "        elif role == 'presenter':\n",
    "            self.presenters.update({name:1})\n",
    "    \n",
    "    # a repeat-appearence of a person in a role gives them an additional vote for that role (more votes = more likely)\n",
    "    def person_vote(self, name, role):\n",
    "        if role == 'winner':\n",
    "            self.winner[name] += 1\n",
    "        elif role == 'nominee':\n",
    "            self.nominees[name] += 1\n",
    "        elif role == 'presenter':\n",
    "            self.presenters[name] += 1\n",
    "    \n",
    "    # a repeat award gets more votes (more votes = more likely)\n",
    "    def award_vote(self):\n",
    "        self.votes += 1\n",
    "    \n",
    "    # check if a person is already present in a particular award\n",
    "    def contains(self, name, role):\n",
    "        if role == 'winner':\n",
    "            return name in self.winner\n",
    "        elif role == 'nominee':\n",
    "            return name in self.nominees\n",
    "        elif role == 'presenter':\n",
    "            return name in self.presenters\n",
    "    \n",
    "    def output(self):\n",
    "        return {self.name:\n",
    "                { \n",
    "                    \"nominees\": [(n, self.nominees[n]) for n in self.nominees],\n",
    "                    \"presenters\":[(p, self.presenters[p]) for p in self.presenters], \n",
    "                    \"winner\":[(w, self.winner[w]) for w in self.winner],\n",
    "                    \"votes\":self.votes\n",
    "                }\n",
    "        }"
   ]
  },
  {
   "cell_type": "code",
   "execution_count": 114,
   "metadata": {},
   "outputs": [],
   "source": [
    "# list of awards and their respective winners, nominees, and presenters, along with the number of times they appear in our data\n",
    "awards = {}\n",
    "\n",
    "# Split up each row of our dataframe and apply appropriate function to update our answers\n",
    "def extract_answers(text):\n",
    "    nominee, curr_award, role = text.split(' | ')\n",
    "    \n",
    "    if curr_award not in awards:\n",
    "        awards.update({curr_award:award(curr_award)})\n",
    "    else:\n",
    "        awards[curr_award].award_vote()\n",
    "        \n",
    "    if not awards[curr_award].contains(nominee, role):\n",
    "        awards[curr_award].new_person(nominee, role)\n",
    "    else:\n",
    "        awards[curr_award].person_vote(nominee, role)"
   ]
  },
  {
   "cell_type": "code",
   "execution_count": 115,
   "metadata": {},
   "outputs": [],
   "source": [
    "answers = answers.dropna()"
   ]
  },
  {
   "cell_type": "code",
   "execution_count": 116,
   "metadata": {},
   "outputs": [
    {
     "data": {
      "text/plain": [
       "18      None\n",
       "25      None\n",
       "26      None\n",
       "30      None\n",
       "36      None\n",
       "        ... \n",
       "4071    None\n",
       "4072    None\n",
       "4073    None\n",
       "4075    None\n",
       "4076    None\n",
       "Name: text, Length: 2729, dtype: object"
      ]
     },
     "execution_count": 116,
     "metadata": {},
     "output_type": "execute_result"
    }
   ],
   "source": [
    "answers.apply(extract_answers)"
   ]
  },
  {
   "cell_type": "code",
   "execution_count": 117,
   "metadata": {},
   "outputs": [
    {
     "name": "stdout",
     "output_type": "stream",
     "text": [
      "{'best personality': {'nominees': [], 'presenters': [], 'winner': [('Dustin Hoffman', 1)], 'votes': 1}}\n",
      "{'best': {'nominees': [], 'presenters': [], 'winner': [('he', 1), ('Tina Fey', 1), ('Christoph Waltz', 52), ('# GoldenGlobes', 2), ('christoph Waltz', 1), ('Christopher Waltz', 1), ('Cristoph Waltz', 1), ('Maggie Smith', 5), ('Julianne', 1), ('who', 1), ('Adele', 1), ('LINCOLN', 1), ('GoldenGlobes Ed Harris', 1), ('Ed Harris', 3), ('Anne Hathaway', 75), ('GoldenGlobes Anne Hathaway', 1), ('student Anne Hathaway', 1), ('# AnneHathaway', 1), ('Hathaway', 1), ('Brave', 18), ('# Brave', 16), ('None', 1), ('GoldenGlobes', 2), ('# Goldenglobes', 2), ('DDL', 1)], 'votes': 191}}\n",
      "{'the beard award': {'nominees': [], 'presenters': [], 'winner': [('Bill Murray', 1)], 'votes': 1}}\n",
      "{'an award': {'nominees': [('GoldenGlobes', 1), ('someone', 1), ('hope', 1)], 'presenters': [], 'winner': [('Christoph Waltz', 2), ('a Dowager Countess', 1), ('Everytime Life', 1), ('she', 4), ('Who', 1), ('Anne Hathaway', 1), ('anne hathaway', 1), ('Anytime Angela Chase', 1), ('Lena Dunham', 2), ('who', 1), ('She', 1)], 'votes': 19}}\n",
      "{'best movie': {'nominees': [], 'presenters': [], 'winner': [('linings', 1), ('Whohoooo # JenniferLawrence', 1), ('Yay', 1)], 'votes': 3}}\n",
      "{'best facial hair': {'nominees': [], 'presenters': [], 'winner': [('Bill Murray', 3)], 'votes': 3}}\n",
      "{'Best Supporting Actor': {'nominees': [('Christoph Waltz', 1)], 'presenters': [], 'winner': [('Christoph Waltz', 28), ('Actress', 1), ('Ed Harris', 2), ('GoldenGlobes Ed Harris', 1), ('Mychael Danna', 2)], 'votes': 35}}\n",
      "{'Best': {'nominees': [('Brave', 1)], 'presenters': [], 'winner': [('Christoph Waltz', 14), ('Maggie Smith', 16), ('MaggieSmith', 1), ('ChristophterWaltz', 1), ('# MaggieSmith', 7), ('Damian Lewis', 1), ('Homeland', 1), ('R2D2', 1), ('Anne Hathaway', 89), ('Ed Harris', 1), ('# AnneHathaway', 1), ('she', 4), ('AnneHathaway', 1), ('BRAVE', 2), ('Best Animated Feature Film', 1), ('Anne Hathway', 1), ('Brave', 15), ('YAY', 1), ('# Argo', 2)], 'votes': 161}}\n",
      "{\"it's first award\": {'nominees': [], 'presenters': [], 'winner': [('Django', 1)], 'votes': 1}}\n",
      "{'the first award': {'nominees': [], 'presenters': [], 'winner': [('Christoph Waltz', 2), ('Django', 1), ('I', 1)], 'votes': 4}}\n",
      "{'best actor alive': {'nominees': [], 'presenters': [], 'winner': [('The actor', 1)], 'votes': 1}}\n",
      "{'the award': {'nominees': [], 'presenters': [], 'winner': [('Christoph Waltz', 1), ('Jennifer Lopez', 1), ('adele', 1), ('Adele', 1), ('Anne Hathaway', 1), ('Jodie Foster', 4), ('Lena Dunham', 1), ('Hugh Jackman', 1)], 'votes': 11}}\n",
      "{'first award': {'nominees': [], 'presenters': [], 'winner': [('Christoph Waltz', 4)], 'votes': 4}}\n",
      "{'every award': {'nominees': [('Walter White', 1)], 'presenters': [], 'winner': [('Maggie Smith', 1), ('he', 1)], 'votes': 3}}\n",
      "{'Best Director': {'nominees': [('Jared Leto', 1), ('Hope', 3), ('Ben Affleck', 2)], 'presenters': [], 'winner': [('who', 1), ('Hoping', 1), ('it', 1), ('Ben Affleck', 86), ('snub Ben Affleck', 1), ('BenAffleck', 7), ('Yay Ben Affleck', 1), ('.@BenAffleck', 4), ('Affleck', 1), ('GoldenGlobes', 1), ('Hey , Academy', 1), ('affleck', 1), ('he', 1), ('# BenAffleck', 2), ('a boo', 1), ('Argo director', 2), ('India Ben Affleck', 1)], 'votes': 119}}\n",
      "{'supporting actress, foreigners living in America give award': {'nominees': [], 'presenters': [], 'winner': [('Maggie Smith', 1)], 'votes': 1}}\n",
      "{'a well deserved award': {'nominees': [], 'presenters': [], 'winner': [('Christoph Waltz', 1)], 'votes': 1}}\n",
      "{'the Leni Riefenstahl award': {'nominees': [], 'presenters': [], 'winner': [('Katherine Bigelow', 3)], 'votes': 3}}\n",
      "{'best speech': {'nominees': [], 'presenters': [], 'winner': [('she', 1)], 'votes': 1}}\n",
      "{'Best Miniseries': {'nominees': [('the Hour', 1)], 'presenters': [], 'winner': [('Game Change', 1)], 'votes': 2}}\n",
      "{'best mini': {'nominees': [], 'presenters': [], 'winner': [('# GameChange', 3), ('GameChange', 3), ('Game change', 1), ('GoldenGlobes Game Change', 1)], 'votes': 8}}\n",
      "{'Best Mini': {'nominees': [], 'presenters': [], 'winner': [('Game Change', 5)], 'votes': 5}}\n",
      "{'best miniseries/ tv movie': {'nominees': [], 'presenters': [], 'winner': [('Game Change', 1)], 'votes': 1}}\n",
      "{'special award': {'nominees': [], 'presenters': [], 'winner': [('yoshiki', 1)], 'votes': 1}}\n",
      "{'Best Supp': {'nominees': [], 'presenters': [], 'winner': [('Christoph Waltz', 1)], 'votes': 1}}\n",
      "{'best mini series/ TV movie': {'nominees': [], 'presenters': [], 'winner': [('GoldenGlobes game Change', 1)], 'votes': 1}}\n",
      "{'Best TV Movie': {'nominees': [], 'presenters': [], 'winner': [('Game Change', 5)], 'votes': 5}}\n",
      "{'best Miniseries # GoldenGlobes': {'nominees': [], 'presenters': [], 'winner': [('GAME CHANGE', 1)], 'votes': 1}}\n",
      "{'Best TV Mini Series': {'nominees': [], 'presenters': [], 'winner': [('Game Change', 2)], 'votes': 2}}\n",
      "{'best TV movie': {'nominees': [], 'presenters': [], 'winner': [('the Palin thing', 1), ('Game Change', 1), ('HBO', 2)], 'votes': 4}}\n",
      "{'Best Mini Series': {'nominees': [], 'presenters': [], 'winner': [('Game Change', 1)], 'votes': 1}}\n",
      "{'award': {'nominees': [], 'presenters': [], 'winner': [('Maggie Smith', 1), ('Michael J. Fox', 1), ('Daniel Day - Lewis', 1)], 'votes': 3}}\n",
      "{'best TV miniseries': {'nominees': [], 'presenters': [], 'winner': [('Game Change', 1)], 'votes': 1}}\n",
      "{'Best Actress': {'nominees': [('GoldenGlobes', 1), ('Lena Dunham', 1)], 'presenters': [], 'winner': [('Julianne Moore', 10), ('.@_JulianneMoore', 4), ('JulianneMoore', 1), ('GoldenGlobes Julianne Moore', 2), ('Jennifer Lawrence', 57), ('J Law', 2), ('Anne Hathaway', 4), ('Claire Danes', 28), ('crush Jennifer Lawrence', 1), ('Amy Poehler', 1), ('None', 1), ('.@LenaDunham', 1), ('Lena Dunham', 3), ('Best Actress', 2), ('The actress', 1), ('Jessica Chastain', 36), ('The Jessica Chastain', 1), ('Review', 1), ('a video Jennifer Lawrence', 1)], 'votes': 159}}\n",
      "{'best picture': {'nominees': [('Lincoln', 1)], 'presenters': [], 'winner': [('it', 1), ('who', 1), ('None', 1), ('Les Miserables', 39), ('# LesMis', 4), ('LesMis', 1), ('GoldenGlobes Les Miserables', 1), ('♥ # LesMis', 1), ('Argo', 20), ('# Argo', 9), ('Trouble', 1), ('Arsego', 1)], 'votes': 81}}\n",
      "{'best actress': {'nominees': [('Lena Dunham', 1)], 'presenters': [], 'winner': [('Julianne Moore', 16), ('Julianna Moore', 1), ('Jennifer Lawrence', 49), ('Lawrence', 12), ('GoldenGlobes Jennifer Lawrence', 3), ('Anne Hathaway', 1), ('A boy', 9), ('J. Lawrence', 1), ('Claire Danes', 27), ('Clare Danes', 1), ('Goldenglobes Claire Danes', 1), ('A Claire Danes', 22), ('Lena Dunham', 19), ('HBO', 1), ('WINNER', 2), ('jennifer lawrence', 1), ('Jessica Chastain', 50)], 'votes': 219}}\n",
      "{'best miniseries': {'nominees': [], 'presenters': [], 'winner': [('Yay', 1)], 'votes': 1}}\n",
      "{'best comedy': {'nominees': [('Les Mis', 1)], 'presenters': [], 'winner': [('Girls', 9), ('Les Miserable', 1), ('Les Miserables', 4), ('Les Mis', 2)], 'votes': 17}}\n",
      "{'best Life': {'nominees': [], 'presenters': [], 'winner': [('Bill Murray', 1)], 'votes': 1}}\n",
      "{'best TV actress': {'nominees': [], 'presenters': [], 'winner': [('Julianne Moore', 1)], 'votes': 1}}\n",
      "{'Best tv movie # goldenglobes': {'nominees': [('Game Change', 1)], 'presenters': [], 'winner': [], 'votes': 1}}\n",
      "{'the sassy stereotype in the most overrated sitcom ever award': {'nominees': [], 'presenters': [], 'winner': [('The Latina lady', 1)], 'votes': 1}}\n",
      "{'Best Performance': {'nominees': [], 'presenters': [], 'winner': [('Julianne Moore', 1), ('Don Cheadle', 1), ('Claire Danes', 2), ('.@lenadunham', 2), ('Daniel Day Lewis', 1)], 'votes': 7}}\n",
      "{'her #GoldenGlobes award': {'nominees': [('Adele', 3)], 'presenters': [], 'winner': [], 'votes': 3}}\n",
      "{'Best Tux': {'nominees': [], 'presenters': [], 'winner': [('Ben Affleck', 1)], 'votes': 1}}\n",
      "{'Best part': {'nominees': [], 'presenters': [], 'winner': [('Everybody', 1)], 'votes': 1}}\n",
      "{'best exotic marigold hotel wins': {'nominees': [('None', 1)], 'presenters': [], 'winner': [], 'votes': 1}}\n",
      "{'best show': {'nominees': [], 'presenters': [], 'winner': [('Damian Lewis', 1), ('OoOoO # Homeland', 1), ('something', 2)], 'votes': 4}}\n",
      "{'best actor': {'nominees': [('Hugh Jackman', 1)], 'presenters': [], 'winner': [('Damian Lewis', 13), ('Brit Damien Lewis', 2), ('Kevin Costner', 6), ('Don Cheadle', 13), ('GoldenGlobes Don Cheadle', 3), ('Brody', 1), ('Hugh Jackman', 113), ('crush Hugh Jackman', 1), ('# HughJackman', 1), ('GoldenGlobes Hugh Jackman', 5), ('Daniel Day Lewis', 60), ('Lincoln', 1), ('film wajib tonton ini', 1), ('Day Lewis', 2)], 'votes': 223}}\n",
      "{'Best Actor TV Series': {'nominees': [], 'presenters': [], 'winner': [('Damien Lewis', 1), ('Damian Lewis', 2)], 'votes': 3}}\n",
      "{'Best Actor Drama': {'nominees': [], 'presenters': [], 'winner': [('Damien Lewis', 1)], 'votes': 1}}\n",
      "{'Best Actor': {'nominees': [('Hugh Jackman', 1), ('Jean Valjean', 4)], 'presenters': [], 'winner': [('Damian Lewis', 10), ('Homeland', 2), ('Jon Hamm', 1), ('Damien Lewis', 1), ('HOMELAND', 1), ('Kevin Costner', 18), ('GoldenGlobes Kevin Costner', 1), ('McCoys', 6), ('Ed Harris', 1), ('Don Cheadle', 13), ('.@IamDonCheadle', 4), ('Yay', 1), ('Lena Dunham', 4), ('Hugh Jackman', 59), ('LesMis', 1), ('the guy', 11), ('Jean Valjean', 1), ('who', 1), ('Wolverine', 1), ('Daniel Day Lewis', 30), ('Les Miserables', 1), ('Best Actor &', 1), ('Day Lewis', 11), ('The Best Actor', 1), ('GoldenGlobes', 1), ('This', 1), ('Mitt Romney', 1)], 'votes': 189}}\n",
      "{'a gold sphere trophy': {'nominees': [('Steven Booshemmy', 1)], 'presenters': [], 'winner': [], 'votes': 1}}\n",
      "{'best drama': {'nominees': [], 'presenters': [], 'winner': [('# Homeland', 2), ('Homeland', 23), ('Argo', 1), ('Woah Ben Affleck', 1), ('ARGO', 1), ('# argo', 1), ('it', 1)], 'votes': 30}}\n",
      "{'Best TV Series': {'nominees': [('Girls', 1)], 'presenters': [], 'winner': [('Homeland', 15), ('Girls', 13)], 'votes': 29}}\n",
      "{'Best TV Series Drama': {'nominees': [], 'presenters': [], 'winner': [('Homeland', 1)], 'votes': 1}}\n",
      "{'Best Television Series': {'nominees': [], 'presenters': [], 'winner': [('Homeland', 6), ('Girls', 1)], 'votes': 7}}\n",
      "{'best TV series': {'nominees': [], 'presenters': [], 'winner': [('Homeland', 12), ('# Girls', 6), ('# GIRLS', 2)], 'votes': 20}}\n",
      "{'Best TV Drama': {'nominees': [], 'presenters': [], 'winner': [('# Homeland', 1), ('Homeland', 1)], 'votes': 2}}\n",
      "{'Best Drama TV': {'nominees': [], 'presenters': [], 'winner': [('Homeland', 1)], 'votes': 1}}\n",
      "{'best TV drama # GoldenGlobes': {'nominees': [], 'presenters': [], 'winner': [('GoldenGlobes', 8), ('Homeland', 6)], 'votes': 14}}\n",
      "{'best series': {'nominees': [], 'presenters': [], 'winner': [('# Homeland', 1)], 'votes': 1}}\n",
      "{'best TV drama # goldenglobes': {'nominees': [], 'presenters': [], 'winner': [('WINNER', 2)], 'votes': 2}}\n",
      "{'Best Drama': {'nominees': [('Homeland', 1)], 'presenters': [], 'winner': [('Homeland', 2), ('HOMELAND', 1), ('Argo', 2), ('movies', 1)], 'votes': 7}}\n",
      "{'best TV series drama # GoldenGlobes': {'nominees': [], 'presenters': [], 'winner': [('Homeland', 5), ('FuckYeah # Homeland', 1), ('# Homeland', 1)], 'votes': 7}}\n",
      "{'Best TV Drama Series': {'nominees': [], 'presenters': [], 'winner': [('# Homeland', 1)], 'votes': 1}}\n",
      "{'best TV drama series': {'nominees': [], 'presenters': [], 'winner': [('Homeland', 8)], 'votes': 8}}\n",
      "{'best Drama': {'nominees': [('Homeland', 1)], 'presenters': [], 'winner': [], 'votes': 1}}\n",
      "{'best TV Drama': {'nominees': [], 'presenters': [], 'winner': [('Homeland', 2)], 'votes': 2}}\n",
      "{'best something': {'nominees': [], 'presenters': [], 'winner': [('Homeland', 1)], 'votes': 1}}\n",
      "{'best Drama series': {'nominees': [], 'presenters': [], 'winner': [('Homeland', 1)], 'votes': 1}}\n",
      "{'Best Telelvision Series': {'nominees': [], 'presenters': [], 'winner': [('Homeland', 1)], 'votes': 1}}\n",
      "{'Best Well': {'nominees': [], 'presenters': [], 'winner': [('Homeland', 1)], 'votes': 1}}\n",
      "{'Best TV Series drama # GoldenGlobes': {'nominees': [('Homeland', 4)], 'presenters': [], 'winner': [], 'votes': 4}}\n",
      "{'best dress': {'nominees': [('Jennifer Lawrence', 1)], 'presenters': [], 'winner': [], 'votes': 1}}\n",
      "{'Best TV Series Drama # GoldenGlobes': {'nominees': [], 'presenters': [], 'winner': [('Homeland', 1)], 'votes': 1}}\n",
      "{'Best American accent': {'nominees': [], 'presenters': [], 'winner': [('# goldenglobes', 1)], 'votes': 1}}\n",
      "{'Best Picture': {'nominees': [('Fargo', 1)], 'presenters': [], 'winner': [('anddd Les Miserables', 1), ('Les Mis', 2), ('Les Miserables', 1), ('Les Miz', 1), ('GoldenGlobes', 1), ('Argo', 15), ('# Argo', 5), ('ARGO', 9), ('# LesMis', 1)], 'votes': 37}}\n",
      "{'Best Original Score': {'nominees': [], 'presenters': [], 'winner': [('LifeOfPie', 1), ('Life', 1), ('Skyfall', 1), ('# Argo', 1)], 'votes': 4}}\n",
      "{'Best original score': {'nominees': [], 'presenters': [], 'winner': [('GoldenGlobes Life', 2)], 'votes': 2}}\n",
      "{'Best Score': {'nominees': [], 'presenters': [], 'winner': [('Life', 2), ('Mychael Danna', 2)], 'votes': 4}}\n",
      "{'best Score': {'nominees': [], 'presenters': [], 'winner': [('Canada', 5)], 'votes': 5}}\n",
      "{'Best Score category': {'nominees': [], 'presenters': [], 'winner': [('favorite', 1)], 'votes': 1}}\n",
      "{'best score': {'nominees': [], 'presenters': [], 'winner': [('Life', 5)], 'votes': 5}}\n",
      "{'best original score': {'nominees': [], 'presenters': [], 'winner': [('Life', 1), ('Michael Danna', 1)], 'votes': 2}}\n",
      "{'best soundtrack score': {'nominees': [], 'presenters': [], 'winner': [('who', 1)], 'votes': 1}}\n",
      "{'best original score # goldenglobes': {'nominees': [], 'presenters': [], 'winner': [('Life', 2)], 'votes': 2}}\n",
      "{'Best Song': {'nominees': [('Skyfall', 7)], 'presenters': [], 'winner': [('Madonna', 1), ('Skyfall', 6), ('Adele', 7), ('Yaaaaay', 1), ('Best Song', 1), ('mom Adele', 1)], 'votes': 24}}\n",
      "{'best original song': {'nominees': [], 'presenters': [], 'winner': [('taylor swift', 1), ('# Skyfall', 21), ('Skyfall', 8), ('Adele', 18), ('adele', 3)], 'votes': 51}}\n",
      "{'Best Original Song Motion Picture': {'nominees': [], 'presenters': [], 'winner': [('Skyfall', 3)], 'votes': 3}}\n",
      "{'Best Original Song': {'nominees': [('Skyfall', 1)], 'presenters': [], 'winner': [('Yayyyy Adele', 1), ('Adele', 47), ('Skyfall', 20), ('singer Adele', 1), ('she', 1), ('tv appearance', 1), ('Best Original Song', 1), ('GoldenGlobes', 1), ('ADELE', 6), ('Queen Madonna', 2)], 'votes': 82}}\n",
      "{'best bond theme': {'nominees': [], 'presenters': [], 'winner': [('Adele', 1)], 'votes': 1}}\n",
      "{'best song': {'nominees': [], 'presenters': [], 'winner': [('Adele', 23), ('Skyfall', 1)], 'votes': 24}}\n",
      "{\"best winner 's reaction # GoldenGlobes\": {'nominees': [], 'presenters': [], 'winner': [('Adele', 13)], 'votes': 13}}\n",
      "{'Best bond song ever': {'nominees': [], 'presenters': [], 'winner': [('skyfall', 1)], 'votes': 1}}\n",
      "{'best acceptance speeches': {'nominees': [], 'presenters': [], 'winner': [('Skyfall', 1)], 'votes': 1}}\n",
      "{'best song # GoldenGlobes # Adel': {'nominees': [], 'presenters': [], 'winner': [('Skyfall', 1)], 'votes': 1}}\n",
      "{'Golden Globe award': {'nominees': [], 'presenters': [], 'winner': [('Canadian', 5)], 'votes': 5}}\n",
      "{'best wins': {'nominees': [], 'presenters': [], 'winner': [('GoldenGlobes', 1)], 'votes': 1}}\n",
      "{'best song #': {'nominees': [], 'presenters': [], 'winner': [('Adele', 1)], 'votes': 1}}\n",
      "{'Best Acceptance Speech': {'nominees': [], 'presenters': [], 'winner': [('Adele', 1)], 'votes': 1}}\n",
      "{'best drama series': {'nominees': [], 'presenters': [], 'winner': [('homeland', 1)], 'votes': 1}}\n",
      "{\"best loser 's reaction\": {'nominees': [], 'presenters': [], 'winner': [('Taylor Swift', 1)], 'votes': 1}}\n",
      "{'best acceptance speech': {'nominees': [], 'presenters': [], 'winner': [('Adele', 1)], 'votes': 1}}\n",
      "{'Best TV Drama is': {'nominees': [], 'presenters': [], 'winner': [('None', 1)], 'votes': 1}}\n",
      "{'best Original Song': {'nominees': [], 'presenters': [], 'winner': [('Skyfall', 1)], 'votes': 1}}\n",
      "{'best acceptance speech so far # goldenglobes': {'nominees': [], 'presenters': [], 'winner': [('Adele', 1)], 'votes': 1}}\n",
      "{\"Best Original Song w/ ' Skyfall\": {'nominees': [], 'presenters': [], 'winner': [('Adele', 1)], 'votes': 1}}\n",
      "{'best speech so far': {'nominees': [], 'presenters': [], 'winner': [('Adele', 1)], 'votes': 1}}\n",
      "{'a #GoldenGlobes award': {'nominees': [], 'presenters': [], 'winner': [('Adele', 1)], 'votes': 1}}\n",
      "{'best necklace': {'nominees': [], 'presenters': [], 'winner': [('Jessica Alba', 1)], 'votes': 1}}\n",
      "{'best # animatedfeature someone will get': {'nominees': [], 'presenters': [], 'winner': [('# riseoftheguardians', 1)], 'votes': 1}}\n",
      "{'Best Animation Golden Globes': {'nominees': [], 'presenters': [], 'winner': [('who', 1)], 'votes': 1}}\n",
      "{'best TV drama': {'nominees': [], 'presenters': [], 'winner': [('None', 5), ('# Homeland', 2)], 'votes': 7}}\n",
      "{'an acting award': {'nominees': [], 'presenters': [], 'winner': [('Kevin Costner', 1)], 'votes': 1}}\n",
      "{'Best Actor Mini Series': {'nominees': [], 'presenters': [], 'winner': [('Kevin Costner', 1)], 'votes': 1}}\n",
      "{'best TV drama # hollywood': {'nominees': [], 'presenters': [], 'winner': [('None', 1)], 'votes': 1}}\n",
      "{'best actor who did not': {'nominees': [], 'presenters': [], 'winner': [('Bill Clinton', 10)], 'votes': 10}}\n",
      "{'best everything': {'nominees': [], 'presenters': [], 'winner': [('jessica alba', 1)], 'votes': 1}}\n",
      "{'best heist': {'nominees': [], 'presenters': [], 'winner': [('Adele', 1)], 'votes': 1}}\n",
      "{'best reaction': {'nominees': [], 'presenters': [], 'winner': [('Pimp Billy', 1)], 'votes': 1}}\n",
      "{'him an award': {'nominees': [], 'presenters': [], 'winner': [('that', 1)], 'votes': 1}}\n",
      "{'best pic': {'nominees': [('it', 1)], 'presenters': [], 'winner': [('Lincoln', 1)], 'votes': 2}}\n",
      "{'best presenter': {'nominees': [], 'presenters': [], 'winner': [('Feral', 1)], 'votes': 1}}\n",
      "{'best facial expression': {'nominees': [], 'presenters': [], 'winner': [('Tommy Lee Jones', 1)], 'votes': 1}}\n",
      "{'Best Actress Motion Picture': {'nominees': [], 'presenters': [], 'winner': [('JenniferLawrence', 11)], 'votes': 11}}\n",
      "{'Best Actress Motion Picture Comedy': {'nominees': [], 'presenters': [], 'winner': [('Jennifer Lawrence', 3)], 'votes': 3}}\n",
      "{'Best actress': {'nominees': [], 'presenters': [], 'winner': [('Jennifer Lawrence', 1), ('Lena Dunham', 1)], 'votes': 2}}\n",
      "{'Best Picture award': {'nominees': [('any film', 1)], 'presenters': [], 'winner': [], 'votes': 1}}\n",
      "{'Best Actress Comedy': {'nominees': [], 'presenters': [], 'winner': [('Jennifer Lawrence', 4)], 'votes': 4}}\n",
      "{'Best Actress # goldenglobes': {'nominees': [], 'presenters': [], 'winner': [('Jennifer Lawrence', 1)], 'votes': 1}}\n",
      "{'Best Actress Award': {'nominees': [], 'presenters': [], 'winner': [('Jennifer Lawrence', 17)], 'votes': 17}}\n",
      "{'best new actor': {'nominees': [('goatee', 1)], 'presenters': [], 'winner': [], 'votes': 1}}\n",
      "{'Best movie': {'nominees': [], 'presenters': [], 'winner': [('movie', 1), ('# Argo', 1)], 'votes': 2}}\n",
      "{'Best speech': {'nominees': [], 'presenters': [], 'winner': [('Jennifer Lawrence', 1)], 'votes': 1}}\n",
      "{'best actress motion picture': {'nominees': [], 'presenters': [], 'winner': [('Goldenglobes Jennifer Lawrence', 1)], 'votes': 1}}\n",
      "{'best face': {'nominees': [], 'presenters': [], 'winner': [('Taylor Swift', 1)], 'votes': 1}}\n",
      "{'best beard': {'nominees': [], 'presenters': [], 'winner': [('Mandy Patinkin', 1)], 'votes': 1}}\n",
      "{'a Golden Globe award': {'nominees': [], 'presenters': [], 'winner': [('Andrew McCutchen', 1)], 'votes': 1}}\n",
      "{'Best Peter Pan Haircut': {'nominees': [], 'presenters': [], 'winner': [('Anne Hathaway', 1)], 'votes': 1}}\n",
      "{'Best Eight Year Old Boy': {'nominees': [], 'presenters': [], 'winner': [('Anne Hathaway', 1)], 'votes': 1}}\n",
      "{'best # supportingactress # LesMiserables # 4thtake # goldenglobes': {'nominees': [], 'presenters': [], 'winner': [('Anne Hathaway', 1)], 'votes': 1}}\n",
      "{'best dressed': {'nominees': [], 'presenters': [], 'winner': [('John Krasinski', 1)], 'votes': 1}}\n",
      "{'the #GoldenGlobes award': {'nominees': [], 'presenters': [], 'winner': [('Anne Hathaway', 1)], 'votes': 1}}\n",
      "{'another award': {'nominees': [], 'presenters': [], 'winner': [('Game Change', 1)], 'votes': 1}}\n",
      "{'best director': {'nominees': [], 'presenters': [], 'winner': [('who', 1), ('Tarentino', 1), ('Ben Affleck', 30), ('Non - Oscar', 1), ('Argo', 1), ('Hooray', 1), ('man', 1), ('ben afleck', 1), ('Ben Afflect', 1), ('None', 1), ('Globes', 1)], 'votes': 40}}\n",
      "{'Golden Globes. No award': {'nominees': [], 'presenters': [], 'winner': [('Adele', 3)], 'votes': 3}}\n",
      "{'Best Actor Miniseries': {'nominees': [], 'presenters': [], 'winner': [('Kevin Costner', 1)], 'votes': 1}}\n",
      "{'#BestSupportingActress #GoldenGlobes lucky cow got to snog Batman &amp; won an award': {'nominees': [], 'presenters': [], 'winner': [('Anne Hathaway', 1)], 'votes': 1}}\n",
      "{'best screenplay': {'nominees': [], 'presenters': [], 'winner': [('Quentin Tarantino', 7), ('Tarantino', 2), ('Django', 1)], 'votes': 10}}\n",
      "{'Best Screenplay': {'nominees': [], 'presenters': [], 'winner': [('Quentin Tarantino', 34), ('Quentin', 2), ('Tarantino', 5), ('QT', 1)], 'votes': 42}}\n",
      "{'Best Original Screenplay': {'nominees': [], 'presenters': [], 'winner': [('FUCK YES Quentin Tarantino', 1), ('Quentin Tarantino', 2), ('Quentin', 1)], 'votes': 4}}\n",
      "{'best motion picture screenplay': {'nominees': [], 'presenters': [], 'winner': [('Quentin Tarantino', 12)], 'votes': 12}}\n",
      "{'best original screenplay': {'nominees': [], 'presenters': [], 'winner': [('Quentin Tarantino', 2)], 'votes': 2}}\n",
      "{'best writer': {'nominees': [], 'presenters': [], 'winner': [('Tarantino', 1)], 'votes': 1}}\n",
      "{'Best Gauze Bandage': {'nominees': [], 'presenters': [], 'winner': [('Amanda Seyfried', 1), ('LOLOL Amanda Seyfried', 1)], 'votes': 2}}\n",
      "{'Best Screenplay # GoldenGlobes': {'nominees': [], 'presenters': [], 'winner': [('Django Unchained', 1)], 'votes': 1}}\n",
      "{'best Screenplay well': {'nominees': [], 'presenters': [], 'winner': [('Quentin Tarantino', 1)], 'votes': 1}}\n",
      "{'screenplay award': {'nominees': [], 'presenters': [], 'winner': [('Quentin Tarantino', 1)], 'votes': 1}}\n",
      "{'best original screenplay # GoldenGlobes # Django': {'nominees': [], 'presenters': [], 'winner': [('Quentin Tarantino', 1)], 'votes': 1}}\n",
      "{'best performance': {'nominees': [], 'presenters': [], 'winner': [('Don Cheadle', 2), ('Lena Dunham', 3), ('Hugh Jackman', 1)], 'votes': 6}}\n",
      "{'best # television comedy': {'nominees': [], 'presenters': [], 'winner': [('Don Cheadle', 1)], 'votes': 1}}\n",
      "{'best screenplay for Django': {'nominees': [], 'presenters': [], 'winner': [('Quentin Tarantino', 4)], 'votes': 4}}\n",
      "{'Best Actor TV Comedy Series': {'nominees': [], 'presenters': [], 'winner': [('Don Cheadle', 1)], 'votes': 1}}\n",
      "{'Best Actor Comedy': {'nominees': [], 'presenters': [], 'winner': [('Don Cheadle', 1), ('Hugh Jackman', 1)], 'votes': 2}}\n",
      "{'another #GoldenGlobes award': {'nominees': [], 'presenters': [], 'winner': [('Django', 4)], 'votes': 4}}\n",
      "{'best Screenplay': {'nominees': [], 'presenters': [], 'winner': [('Quentin # Tarantino', 2)], 'votes': 2}}\n",
      "{'the Token Black award': {'nominees': [], 'presenters': [], 'winner': [('Don Cheadle', 1)], 'votes': 1}}\n",
      "{'best facial hair # goldenglobes': {'nominees': [], 'presenters': [], 'winner': [('Billy Murray', 1), ('Bill Murray', 1)], 'votes': 2}}\n",
      "{'Best Foreign Language Film # GoldenGlobes': {'nominees': [], 'presenters': [], 'winner': [('AMOUR', 1)], 'votes': 1}}\n",
      "{'Best Foreign Film': {'nominees': [], 'presenters': [], 'winner': [('AMOUR', 1), ('Amour', 1)], 'votes': 5}}\n",
      "{'Best Foreign Language Film': {'nominees': [], 'presenters': [], 'winner': [('Amour', 2)], 'votes': 2}}\n",
      "{'the Foreign Film award': {'nominees': [('GoldenGlobes Amour', 1)], 'presenters': [], 'winner': [], 'votes': 1}}\n",
      "{'best foreign language # film # GoldenGlobes': {'nominees': [], 'presenters': [], 'winner': [('Amour', 1)], 'votes': 1}}\n",
      "{'best foreign film # goldenglobes': {'nominees': [], 'presenters': [], 'winner': [('# Amour', 2)], 'votes': 2}}\n",
      "{'Best Drama TV Actress': {'nominees': [], 'presenters': [], 'winner': [('Claire Danes', 1)], 'votes': 1}}\n",
      "{'one more award': {'nominees': [], 'presenters': [], 'winner': [('Amour', 2)], 'votes': 2}}\n",
      "{'best part': {'nominees': [], 'presenters': [], 'winner': [('people', 1), ('Leo', 1)], 'votes': 2}}\n",
      "{'Best Actess': {'nominees': [], 'presenters': [], 'winner': [('Claire Danes', 1)], 'votes': 1}}\n",
      "{'too!! I love how her last award': {'nominees': [], 'presenters': [], 'winner': [('Claire Danes', 1)], 'votes': 1}}\n",
      "{'best actress #': {'nominees': [], 'presenters': [], 'winner': [('Claire Danes', 1)], 'votes': 1}}\n",
      "{'best foreign language film': {'nominees': [], 'presenters': [], 'winner': [('Amour', 9), ('Globes', 3)], 'votes': 12}}\n",
      "{'Best Actress TV Series- Drama': {'nominees': [], 'presenters': [], 'winner': [('# ClaireDanes', 2)], 'votes': 2}}\n",
      "{'Best Actress # BollyWood': {'nominees': [], 'presenters': [], 'winner': [('Globes Jennifer Lawrence', 1)], 'votes': 1}}\n",
      "{'BEST PART': {'nominees': [], 'presenters': [], 'winner': [('thing', 3)], 'votes': 3}}\n",
      "{'Best Actress TV': {'nominees': [], 'presenters': [], 'winner': [('Claire Danes', 1)], 'votes': 1}}\n",
      "{'best TV drama actress': {'nominees': [], 'presenters': [], 'winner': [('Claire Danes', 2)], 'votes': 2}}\n",
      "{'Best actor': {'nominees': [], 'presenters': [], 'winner': [('None', 1), ('category Hugh Jackman', 1)], 'votes': 2}}\n",
      "{'Best Animated Feature': {'nominees': [], 'presenters': [], 'winner': [('Brave', 2)], 'votes': 2}}\n",
      "{'Best Animated Film': {'nominees': [], 'presenters': [], 'winner': [('Brave', 3)], 'votes': 3}}\n",
      "{'Best Animated Feature Film': {'nominees': [], 'presenters': [], 'winner': [('The archery lady', 1)], 'votes': 1}}\n",
      "{'Best Animated Film # GoldenGlobes': {'nominees': [], 'presenters': [], 'winner': [('Brave', 6)], 'votes': 6}}\n",
      "{'best moments': {'nominees': [], 'presenters': [], 'winner': [('None', 1)], 'votes': 1}}\n",
      "{'best weed backstage': {'nominees': [], 'presenters': [], 'winner': [('# AzizAnsari', 1)], 'votes': 1}}\n",
      "{'best actress is': {'nominees': [], 'presenters': [], 'winner': [('Lena Dunham', 1)], 'votes': 1}}\n",
      "{'Best TV actress': {'nominees': [], 'presenters': [], 'winner': [('Lena Dunham', 1)], 'votes': 1}}\n",
      "{'best TV comedy actress': {'nominees': [], 'presenters': [], 'winner': [('Lena Dunham', 2)], 'votes': 2}}\n",
      "{'Best TV Actress': {'nominees': [], 'presenters': [], 'winner': [('Jack', 1)], 'votes': 1}}\n",
      "{'Best seat': {'nominees': [], 'presenters': [], 'winner': [('Amy', 1)], 'votes': 1}}\n",
      "{'best hosts ever': {'nominees': [], 'presenters': [], 'winner': [('Globes', 1)], 'votes': 1}}\n",
      "{'Best TV Series Actress': {'nominees': [], 'presenters': [], 'winner': [('Lena Dunham', 1)], 'votes': 1}}\n",
      "{'important award': {'nominees': [], 'presenters': [], 'winner': [('star Lena Dunham', 1)], 'votes': 1}}\n",
      "{'best cleavage award': {'nominees': [], 'presenters': [], 'winner': [('She', 1)], 'votes': 1}}\n",
      "{'Cecil B. Demille lifetime achievement award': {'nominees': [], 'presenters': [], 'winner': [('Jodie Foster', 4)], 'votes': 4}}\n",
      "{'an extremely deserved honorary Cecille B. DeMille Award': {'nominees': [], 'presenters': [], 'winner': [('Jodie Foster', 2)], 'votes': 2}}\n",
      "{'best speech writer': {'nominees': [], 'presenters': [], 'winner': [('Mel Gibson', 1)], 'votes': 1}}\n",
      "{'Best Dressed': {'nominees': [], 'presenters': [], 'winner': [('Halle Berry', 1), ('Jessica Chastain', 1)], 'votes': 2}}\n",
      "{'Best Director award': {'nominees': [], 'presenters': [], 'winner': [('Affleck', 1), ('Ben Affleck', 1)], 'votes': 2}}\n",
      "{'best wife': {'nominees': [], 'presenters': [], 'winner': [('Ben Affleck', 1)], 'votes': 1}}\n",
      "{'best movies i ve': {'nominees': [('Life', 1)], 'presenters': [], 'winner': [], 'votes': 1}}\n",
      "{'best director # GoldenGlobes': {'nominees': [], 'presenters': [], 'winner': [('Idiocy of # OscarNoms Affleck', 2)], 'votes': 2}}\n",
      "{'best film director': {'nominees': [], 'presenters': [], 'winner': [('Ben Affleck', 1)], 'votes': 1}}\n",
      "{'best recovery': {'nominees': [], 'presenters': [], 'winner': [('Ben Affleck', 1)], 'votes': 1}}\n",
      "{'Best Director # GoldenGlobes yet was': {'nominees': [], 'presenters': [], 'winner': [('Ben # Affleck', 1)], 'votes': 1}}\n",
      "{'Best director': {'nominees': [], 'presenters': [], 'winner': [('Ben Affleck', 1)], 'votes': 1}}\n",
      "{'the pretty award': {'nominees': [], 'presenters': [], 'winner': [('Jennifer Gardner', 1)], 'votes': 1}}\n",
      "{'Best Director # GoldenGlobes award': {'nominees': [], 'presenters': [], 'winner': [('Ben Affleck', 25)], 'votes': 25}}\n",
      "{'lifetime achievement award': {'nominees': [], 'presenters': [], 'winner': [('Jodie Foster', 1)], 'votes': 1}}\n",
      "{'best director category': {'nominees': [], 'presenters': [], 'winner': [('Ben Affleck', 34)], 'votes': 34}}\n",
      "{'Best Actor # GoldenGlobes': {'nominees': [], 'presenters': [], 'winner': [('Ben Affleck', 1)], 'votes': 1}}\n",
      "{'best comedy series': {'nominees': [], 'presenters': [], 'winner': [('Girls', 17), ('# Girls', 1), ('GIRLS', 1)], 'votes': 19}}\n",
      "{'the #GoldenGlobes director award': {'nominees': [], 'presenters': [], 'winner': [('HA', 1)], 'votes': 1}}\n",
      "{'best # television comedy # GoldenGlobes': {'nominees': [], 'presenters': [], 'winner': [('Girls', 1)], 'votes': 1}}\n",
      "{'Best Comedy': {'nominees': [('# LesMiserables', 2)], 'presenters': [], 'winner': [('# GIRLS', 1), ('Girls', 3), ('# LesMiserables', 1), ('Les Miserables', 2), ('Congrats Les Mis', 1), ('Les Mis', 1)], 'votes': 11}}\n",
      "{'Best Musical': {'nominees': [], 'presenters': [], 'winner': [('# GIRLS', 1), ('Les Miserables', 1), ('# LesMiserables', 1), ('# LesMis', 1)], 'votes': 4}}\n",
      "{'again a #GoldenGlobes award': {'nominees': [], 'presenters': [], 'winner': [('Girls', 1)], 'votes': 1}}\n",
      "{'best Comedy': {'nominees': [], 'presenters': [], 'winner': [('Girls', 1)], 'votes': 1}}\n",
      "{'Best Television Show Musical': {'nominees': [], 'presenters': [], 'winner': [('XOXOXOXO', 1)], 'votes': 1}}\n",
      "{'Best TV series -Comedy': {'nominees': [], 'presenters': [], 'winner': [('Girls', 1)], 'votes': 1}}\n",
      "{'Best TV Series Comedy': {'nominees': [], 'presenters': [], 'winner': [('Girls', 1)], 'votes': 1}}\n",
      "{'best tv series': {'nominees': [], 'presenters': [], 'winner': [('GIRLS', 1), ('Homeland', 1)], 'votes': 2}}\n",
      "{'best drama TV series': {'nominees': [], 'presenters': [], 'winner': [('Homeland', 1)], 'votes': 1}}\n",
      "{'best foreign film': {'nominees': [], 'presenters': [], 'winner': [('Amour', 8)], 'votes': 8}}\n",
      "{'Best Director prize': {'nominees': [], 'presenters': [], 'winner': [('Ben Affleck', 2)], 'votes': 2}}\n",
      "{'best TV comedy': {'nominees': [], 'presenters': [], 'winner': [('# LenaDunham', 1)], 'votes': 3}}\n",
      "{'best comedy # parforthecourse # GoldenGlobes': {'nominees': [], 'presenters': [], 'winner': [('a show', 1)], 'votes': 1}}\n",
      "{'Best TV Comedy': {'nominees': [], 'presenters': [], 'winner': [('# Girls', 1)], 'votes': 1}}\n",
      "{'Best Comedy TV Series': {'nominees': [], 'presenters': [], 'winner': [('Girls', 1)], 'votes': 1}}\n",
      "{'best director # GoldenGlobes #': {'nominees': [], 'presenters': [], 'winner': [('Ben Affleck', 1)], 'votes': 1}}\n",
      "{'best Best Television Comedy': {'nominees': [], 'presenters': [], 'winner': [('# Girls', 7)], 'votes': 7}}\n",
      "{'Best Actress TV Drama': {'nominees': [], 'presenters': [], 'winner': [('Claire Danes', 1)], 'votes': 1}}\n",
      "{'Best Comedy Series': {'nominees': [], 'presenters': [], 'winner': [('Lena Dunham', 3)], 'votes': 3}}\n",
      "{'Best Actor Motion Picture': {'nominees': [], 'presenters': [], 'winner': [('Hugh Jackman', 1), ('Daniel Day Lewis', 12)], 'votes': 13}}\n",
      "{'the husband award': {'nominees': [], 'presenters': [], 'winner': [('Hugh Jackman', 1)], 'votes': 1}}\n",
      "{'best motion picture movie': {'nominees': [('None', 1)], 'presenters': [], 'winner': [], 'votes': 1}}\n",
      "{'best motion picture': {'nominees': [('Les Miserables', 1)], 'presenters': [], 'winner': [('Les Miserables', 27), ('Argo', 12)], 'votes': 40}}\n",
      "{'Best Husband': {'nominees': [], 'presenters': [], 'winner': [('Hugh Jackmon', 2), ('Aaaand Hugh Jackman', 1)], 'votes': 3}}\n",
      "{'Best Motion Picture': {'nominees': [('Moonrise Kingdom', 1)], 'presenters': [], 'winner': [('Les Miserables', 102), ('Best Motion Picture', 1), ('LesMis', 4), ('# LesMiserables', 3), ('.@LesMiserables', 9), ('Argo', 27), ('The film', 4), ('Ben Affleck', 2), ('None', 1), ('# LesMis', 1), ('LesMiserables', 1)], 'votes': 156}}\n",
      "{'the hottest human being alive award': {'nominees': [], 'presenters': [], 'winner': [('Bradley Cooper', 1)], 'votes': 1}}\n",
      "{\"best actress I ' m\": {'nominees': [], 'presenters': [], 'winner': [('Chastain', 1)], 'votes': 1}}\n",
      "{'the big award': {'nominees': [], 'presenters': [], 'winner': [('Les Miz', 1), ('Argo', 1)], 'votes': 2}}\n",
      "{'comedy/musical award': {'nominees': [], 'presenters': [], 'winner': [('Les Mis', 1)], 'votes': 1}}\n",
      "{'Best Picture Musical': {'nominees': [], 'presenters': [], 'winner': [('Les Miserables', 1)], 'votes': 1}}\n",
      "{'best movie comedy': {'nominees': [], 'presenters': [], 'winner': [('Awesome Les Miserables', 1)], 'votes': 1}}\n",
      "{'best musical': {'nominees': [], 'presenters': [], 'winner': [('Les Miserables', 2), ('Les Mis', 1), ('# LesMis', 1)], 'votes': 4}}\n",
      "{'Best Comedy # GoldenGlobes': {'nominees': [], 'presenters': [], 'winner': [('Les Miserables', 1)], 'votes': 1}}\n",
      "{'Best Picture Comedy': {'nominees': [], 'presenters': [], 'winner': [('Les Miserables', 2)], 'votes': 2}}\n",
      "{'Best Directorial Erasure': {'nominees': [], 'presenters': [], 'winner': [('Ben Affleck', 1)], 'votes': 1}}\n",
      "{'all the freaking awards. Gosh ... Moonrise Kingdom deserved an award': {'nominees': [], 'presenters': [], 'winner': [('Moonrise Kingdom', 1)], 'votes': 1}}\n",
      "{'Best Director Award': {'nominees': [], 'presenters': [], 'winner': [('Ben Affleck', 1)], 'votes': 1}}\n",
      "{'Best Motion Picture Comedy': {'nominees': [], 'presenters': [], 'winner': [('# LesMiserables', 2), ('GoldenGlobes Les Miserables', 2)], 'votes': 4}}\n",
      "{'Best Picture Oscar race is pretty much f****ed': {'nominees': [], 'presenters': [], 'winner': [('Affleck', 1)], 'votes': 1}}\n",
      "{'Best Kanye Interruption': {'nominees': [], 'presenters': [], 'winner': [('Anne Hathaway', 1)], 'votes': 1}}\n",
      "{'best director Globe': {'nominees': [], 'presenters': [], 'winner': [('Affleck', 1)], 'votes': 1}}\n",
      "{'Best Actress Drama # GoldenGlobes': {'nominees': [], 'presenters': [], 'winner': [('Jessica Chastain', 1)], 'votes': 1}}\n",
      "{'BEST PICTURE': {'nominees': [], 'presenters': [], 'winner': [('BEST PICTURE - MUSIC OR', 1)], 'votes': 1}}\n",
      "{'best is when': {'nominees': [], 'presenters': [], 'winner': [('the underdog', 2)], 'votes': 2}}\n",
      "{'best actress # GoldenGlobes': {'nominees': [], 'presenters': [], 'winner': [('Jessica Chastain', 1)], 'votes': 1}}\n",
      "{'Best Bipartisan Freak': {'nominees': [], 'presenters': [], 'winner': [('Jessica Chastain', 1)], 'votes': 1}}\n",
      "{'Best Actress # GoldenGlobes': {'nominees': [], 'presenters': [], 'winner': [('girl', 1)], 'votes': 1}}\n",
      "{'best musical picture': {'nominees': [], 'presenters': [], 'winner': [('lesmiz movie', 1)], 'votes': 1}}\n",
      "{'Best Actor- Drama': {'nominees': [], 'presenters': [], 'winner': [('Best Actor- Drama', 1)], 'votes': 1}}\n",
      "{'the most excellent human being award': {'nominees': [], 'presenters': [], 'winner': [('jessica chastain', 1)], 'votes': 1}}\n",
      "{'golden globes. No award': {'nominees': [], 'presenters': [], 'winner': [('Adele', 1)], 'votes': 1}}\n",
      "{'best film': {'nominees': [], 'presenters': [], 'winner': [('Les Miserables', 18), ('argo', 1), ('Argo', 1)], 'votes': 20}}\n",
      "{'best lead actor': {'nominees': [], 'presenters': [], 'winner': [('Daniel Day Lewis', 3)], 'votes': 3}}\n",
      "{'Best motion picture': {'nominees': [], 'presenters': [], 'winner': [('Les Miserables', 1), ('ARGO', 1)], 'votes': 2}}\n",
      "{'best foreign language film # hollywood': {'nominees': [], 'presenters': [], 'winner': [('Amour', 1)], 'votes': 1}}\n",
      "{'best award speech': {'nominees': [], 'presenters': [], 'winner': [('Day Lewis', 1)], 'votes': 1}}\n",
      "{'#goldenglobes award': {'nominees': [], 'presenters': [], 'winner': [('adele', 1)], 'votes': 1}}\n",
      "{'Best Actor Award': {'nominees': [], 'presenters': [], 'winner': [('Day Lewis', 1)], 'votes': 1}}\n",
      "{'Best Motion Picture # GoldenGlobes': {'nominees': [], 'presenters': [], 'winner': [('Argo', 2), ('# Argo', 1)], 'votes': 3}}\n",
      "{'Best Actor Motion Picture Drama': {'nominees': [], 'presenters': [], 'winner': [('Daniel Day Lewis', 1)], 'votes': 1}}\n",
      "{'best Motion Picture': {'nominees': [], 'presenters': [], 'winner': [('Argo', 2)], 'votes': 2}}\n",
      "{'best dramatic picture': {'nominees': [], 'presenters': [], 'winner': [('Argo', 1), ('# Argo', 2)], 'votes': 3}}\n",
      "{'best motiion picture': {'nominees': [], 'presenters': [], 'winner': [('Argo', 1)], 'votes': 1}}\n",
      "{'Best Picture -Drama': {'nominees': [], 'presenters': [], 'winner': [('Argo', 1)], 'votes': 1}}\n",
      "{'Best Drama Motion Picture # GoldenGlobes': {'nominees': [], 'presenters': [], 'winner': [('Argo', 2)], 'votes': 2}}\n",
      "{'best Motion picture Drama': {'nominees': [], 'presenters': [], 'winner': [('Argo', 1)], 'votes': 1}}\n",
      "{'best picture drama': {'nominees': [], 'presenters': [], 'winner': [('Argo', 1), ('# Argo', 1)], 'votes': 2}}\n",
      "{'Best Motion Picture Drama': {'nominees': [], 'presenters': [], 'winner': [('Argo', 3), ('# Argo', 2)], 'votes': 5}}\n",
      "{'Best Drama Movie': {'nominees': [], 'presenters': [], 'winner': [('Argo', 1)], 'votes': 1}}\n",
      "{'Best Motion Picture Drama #': {'nominees': [], 'presenters': [], 'winner': [('Argo', 1)], 'votes': 1}}\n",
      "{'Best Motion Picture Drama # GoldenGlobes': {'nominees': [], 'presenters': [], 'winner': [('Argo', 2), ('# Argo', 1)], 'votes': 3}}\n",
      "{'Best Picture- Drama': {'nominees': [], 'presenters': [], 'winner': [('Argo', 1)], 'votes': 1}}\n",
      "{'Best Picture Drama': {'nominees': [], 'presenters': [], 'winner': [('Argo', 2)], 'votes': 2}}\n",
      "{'Best Motion PIcture': {'nominees': [], 'presenters': [], 'winner': [('# Argo', 1)], 'votes': 1}}\n",
      "{'the last award': {'nominees': [], 'presenters': [], 'winner': [('Argo', 4)], 'votes': 4}}\n",
      "{'best surprised face when he': {'nominees': [], 'presenters': [], 'winner': [('he', 1)], 'votes': 1}}\n",
      "{'best drama I': {'nominees': [], 'presenters': [], 'winner': [('# argo', 1)], 'votes': 1}}\n",
      "{\"Best Motion Picture Drama yet it was n't\": {'nominees': [], 'presenters': [], 'winner': [('Argo', 1)], 'votes': 1}}\n",
      "{'best drama to': {'nominees': [], 'presenters': [], 'winner': [('Argo', 4)], 'votes': 4}}\n",
      "{'Best Picture # GoldenGlobes': {'nominees': [], 'presenters': [], 'winner': [('Argo', 1)], 'votes': 1}}\n",
      "{'best # actor # drama': {'nominees': [], 'presenters': [], 'winner': [('#', 3)], 'votes': 3}}\n",
      "{'Best Movie Drama': {'nominees': [], 'presenters': [], 'winner': [('# Argo', 1)], 'votes': 1}}\n",
      "{'best film drama # GoldenGlobes': {'nominees': [], 'presenters': [], 'winner': [('ARGO', 1)], 'votes': 1}}\n",
      "{'the Academy Award': {'nominees': [('it', 1)], 'presenters': [], 'winner': [], 'votes': 1}}\n",
      "{'best Drama # Golden Globes what': {'nominees': [], 'presenters': [], 'winner': [('Argo', 1)], 'votes': 1}}\n",
      "{'Best Pic': {'nominees': [('Oscar', 1)], 'presenters': [], 'winner': [], 'votes': 1}}\n",
      "{'best movie drama': {'nominees': [], 'presenters': [], 'winner': [('Argo', 1)], 'votes': 1}}\n",
      "{'the Cecil B. DeMille award': {'nominees': [], 'presenters': [], 'winner': [('Chris Tucker', 1), ('Jodie Foster', 1)], 'votes': 2}}\n",
      "{'best school': {'nominees': [], 'presenters': [], 'winner': [('Gandhi school', 1)], 'votes': 1}}\n",
      "{'Best Drama Film': {'nominees': [], 'presenters': [], 'winner': [('Argo', 1)], 'votes': 1}}\n",
      "{'Best Movie': {'nominees': [], 'presenters': [], 'winner': [('Les Miserables', 1)], 'votes': 1}}\n",
      "{'best awards': {'nominees': [('Amy', 1)], 'presenters': [], 'winner': [], 'votes': 1}}\n",
      "{'best Hollywood movie': {'nominees': [], 'presenters': [], 'winner': [('Argo', 1)], 'votes': 1}}\n",
      "{'Best Original Song Motion Picture Golden Globes 2013': {'nominees': [], 'presenters': [], 'winner': [('Adele', 1)], 'votes': 1}}\n",
      "{'the prize': {'nominees': [], 'presenters': [], 'winner': [('Jon Hamm', 1)], 'votes': 1}}\n",
      "{'best TV drama # F4F': {'nominees': [], 'presenters': [], 'winner': [('None', 1)], 'votes': 1}}\n",
      "{'the original screenplay award': {'nominees': [], 'presenters': [], 'winner': [('Quentin Tarantino', 1)], 'votes': 1}}\n",
      "{'for TV comedy/musical - HBO&amp;rsquo;s &amp;ldquo;Girls&amp;rdquo; won a Golden Globe award': {'nominees': [], 'presenters': [], 'winner': [('Globes', 1)], 'votes': 1}}\n"
     ]
    }
   ],
   "source": [
    "for a in awards:\n",
    "    print(awards[a].output())"
   ]
  },
  {
   "cell_type": "code",
   "execution_count": null,
   "metadata": {},
   "outputs": [],
   "source": []
  }
 ],
 "metadata": {
  "kernelspec": {
   "display_name": "gg337",
   "language": "python",
   "name": "python3"
  },
  "language_info": {
   "codemirror_mode": {
    "name": "ipython",
    "version": 3
   },
   "file_extension": ".py",
   "mimetype": "text/x-python",
   "name": "python",
   "nbconvert_exporter": "python",
   "pygments_lexer": "ipython3",
   "version": "3.10.15"
  }
 },
 "nbformat": 4,
 "nbformat_minor": 2
}
