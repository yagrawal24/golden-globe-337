{
 "cells": [
  {
   "cell_type": "code",
   "execution_count": 1,
   "metadata": {},
   "outputs": [],
   "source": [
    "###\n",
    "### PYTHON PACKAGES\n",
    "###\n",
    "import pandas as pd\n",
    "import re\n",
    "import emoji\n",
    "from ftfy import fix_text \n",
    "import unidecode\n",
    "from langdetect import detect, detect_langs\n",
    "import spacy\n",
    "from spacy import displacy\n",
    "\n",
    "###\n",
    "### USER-DEVELOPED IMPORTS\n",
    "###\n",
    "# from project import *\n",
    "from capture_group import *\n",
    "from output_format import *"
   ]
  },
  {
   "cell_type": "code",
   "execution_count": 26,
   "metadata": {},
   "outputs": [],
   "source": [
    "cleaned_data = pd.read_csv('text_cleaned.csv')['text']\n",
    "win_data = pd.read_csv('wins.csv')['text']\n",
    "spacy_data = pd.read_csv('spacy_info.csv')"
   ]
  },
  {
   "cell_type": "code",
   "execution_count": 45,
   "metadata": {},
   "outputs": [
    {
     "name": "stdout",
     "output_type": "stream",
     "text": [
      "['@goldenglobes:', '@eonline:', '@PerezHilton:', '@TheEllenShow:', '@EmWatson:', '@nbcsnl:', '@CNNshowbiz:', '@VanityFair:', '@EW:', '@BuzzFeed:', '@vulture:', '@nbc:', '@piersmorgan:', '@MARLONLWAYANS:', '@HuffingtonPost:', '@buckhollywood:', '@MarilynMonroeES:', '@DavidSpade:', '@THR:', '@MTVNews:']\n"
     ]
    }
   ],
   "source": [
    "from itertools import islice\n",
    "\n",
    "account_rts = {}\n",
    "\n",
    "for text in cleaned_data:\n",
    "    tweet = text.split(' ')\n",
    "    if tweet[0] == 'RT':\n",
    "        if tweet[1] in account_rts:\n",
    "            account_rts[tweet[1]] += 1\n",
    "        else:\n",
    "            account_rts.update({tweet[1]:1})\n",
    "\n",
    "account_dicts = dict(sorted(account_rts.items(), key=lambda item: item[1], reverse=True))\n",
    "\n",
    "top_accounts = list(islice(account_dicts, 20))\n",
    "top_accounts\n",
    "\n",
    "print(top_accounts)"
   ]
  },
  {
   "cell_type": "code",
   "execution_count": 46,
   "metadata": {},
   "outputs": [],
   "source": [
    "text = \"RT @goldenglobes: Best Actor in a Motion Picture - Comedy or Musical - Hugh Jackman (@RealHughJackman) - Les Miserables - #GoldenGlobes\""
   ]
  },
  {
   "cell_type": "code",
   "execution_count": 47,
   "metadata": {},
   "outputs": [],
   "source": [
    "retweet_pattern = r'RT\\s' + '|'.join(top_accounts)\n",
    "reputable_df = cleaned_data.apply(lambda text: text if re.search(retweet_pattern, text, re.IGNORECASE) else None)"
   ]
  },
  {
   "cell_type": "code",
   "execution_count": 48,
   "metadata": {},
   "outputs": [],
   "source": [
    "reputable_df.dropna(inplace=True)"
   ]
  },
  {
   "cell_type": "code",
   "execution_count": 49,
   "metadata": {},
   "outputs": [],
   "source": [
    "keys = r\"(\\bwin\\b|\\bwins\\b|\\bwon\\b|\\bawarded\\b|\\baward\\b|\\bprize\\b|\\bhonor\\b|\\bmedal\\b|\\btrophy\\b|\\bbest)\"\n",
    "reputable_df = reputable_df.apply(lambda x: x if re.search(keys, x.lower()) != None else None)\n",
    "reputable_df.dropna(inplace=True)"
   ]
  },
  {
   "cell_type": "code",
   "execution_count": 50,
   "metadata": {},
   "outputs": [],
   "source": [
    "reputable_df.to_csv(\"reputable_sources_only.csv\")"
   ]
  },
  {
   "cell_type": "code",
   "execution_count": 51,
   "metadata": {},
   "outputs": [],
   "source": [
    "text = 'RT @goldenglobes: Best Actor in a Motion Picture - Comedy or Musical - Hugh Jackman (@RealHughJackman) - Les Miserables - #GoldenGlobes'"
   ]
  },
  {
   "cell_type": "code",
   "execution_count": 52,
   "metadata": {},
   "outputs": [
    {
     "name": "stdout",
     "output_type": "stream",
     "text": [
      "RT @goldenglobes: Best Actor in a Motion Picture - Comedy or Musical - Hugh Jackman (@RealHughJackman) - Les Miserables - #GoldenGlobes\n"
     ]
    }
   ],
   "source": [
    "if re.search(keys, text.lower()) != None:\n",
    "    print(text)\n",
    "else:\n",
    "    print(\"fail\")"
   ]
  },
  {
   "cell_type": "code",
   "execution_count": 53,
   "metadata": {},
   "outputs": [],
   "source": [
    "results = reputable_df.apply(find_award_winner)"
   ]
  },
  {
   "cell_type": "code",
   "execution_count": 54,
   "metadata": {},
   "outputs": [],
   "source": [
    "results.dropna(inplace=True)"
   ]
  },
  {
   "cell_type": "code",
   "execution_count": 55,
   "metadata": {},
   "outputs": [
    {
     "data": {
      "text/plain": [
       "12350     None\n",
       "12370     None\n",
       "12373     None\n",
       "12459     None\n",
       "12610     None\n",
       "          ... \n",
       "152151    None\n",
       "152600    None\n",
       "152741    None\n",
       "152749    None\n",
       "152850    None\n",
       "Name: text, Length: 1090, dtype: object"
      ]
     },
     "execution_count": 55,
     "metadata": {},
     "output_type": "execute_result"
    }
   ],
   "source": [
    "results.apply(extract_answers)"
   ]
  },
  {
   "cell_type": "code",
   "execution_count": 57,
   "metadata": {},
   "outputs": [
    {
     "name": "stdout",
     "output_type": "stream",
     "text": [
      "{'best actor in a motion picture': {'nominees': [], 'presenters': [], 'winner': [('hugh jackman', 128), ('daniel day lewis', 18)], 'votes': 146}}\n",
      "{'best song at the': {'nominees': [], 'presenters': [], 'winner': [('adele', 144)], 'votes': 144}}\n",
      "{'best supporting actress in a motion picture is': {'nominees': [], 'presenters': [], 'winner': [('anne hathaway', 114), ('sudah ku', 2), ('yayyyy', 2)], 'votes': 118}}\n",
      "{'best director motion picture': {'nominees': [], 'presenters': [], 'winner': [('goldenglobe', 102)], 'votes': 102}}\n",
      "{'best director': {'nominees': [], 'presenters': [], 'winner': [('affleck', 2), ('ben affleck', 74)], 'votes': 76}}\n",
      "{'best motion picture': {'nominees': [], 'presenters': [], 'winner': [('les miserables', 39), ('lesmis', 4), ('goldenglobes', 10), ('argo', 12), ('the film', 4)], 'votes': 69}}\n",
      "{'best actor': {'nominees': [], 'presenters': [], 'winner': [('damien lewis', 42), ('hugh jackman', 2), ('daniel day lewis', 22), ('film wajib tonton ini', 1)], 'votes': 67}}\n",
      "{'best director category': {'nominees': [], 'presenters': [], 'winner': [('ben affleck', 64)], 'votes': 64}}\n",
      "{'best animated feature film is': {'nominees': [], 'presenters': [], 'winner': [('goldenglobes', 62)], 'votes': 62}}\n",
      "{'best actress in tv drama': {'nominees': [], 'presenters': [], 'winner': [('a claire danes', 44)], 'votes': 44}}\n",
      "{'best original score': {'nominees': [], 'presenters': [], 'winner': [('mychael danna', 32), ('joel zimmerman', 2), ('life', 1)], 'votes': 35}}\n",
      "{'best picture': {'nominees': [], 'presenters': [], 'winner': [('les miserables', 32)], 'votes': 32}}\n",
      "{'best supporting actress': {'nominees': [], 'presenters': [], 'winner': [('maggie smith', 2), ('anne hathaway', 27)], 'votes': 29}}\n",
      "{'best comedy series': {'nominees': [], 'presenters': [], 'winner': [('girls', 26)], 'votes': 26}}\n",
      "{'best motion picture drama': {'nominees': [], 'presenters': [], 'winner': [('none', 20), ('yay bne afflcke', 2), ('arog wins best', 2)], 'votes': 24}}\n",
      "{'best drama at the': {'nominees': [], 'presenters': [], 'winner': [('homeland', 22)], 'votes': 22}}\n",
      "{'best actress in a drama at the': {'nominees': [], 'presenters': [], 'winner': [('jessica chastain', 20)], 'votes': 20}}\n",
      "{'best actor in a drama for lincoln at the': {'nominees': [], 'presenters': [], 'winner': [('daniel day lewis', 20)], 'votes': 20}}\n",
      "{'best supporting actor at': {'nominees': [], 'presenters': [], 'winner': [('christoph waltz', 20)], 'votes': 20}}\n",
      "{'best actor at': {'nominees': [], 'presenters': [], 'winner': [('hugh jackman', 20)], 'votes': 20}}\n",
      "{'best actress in a motion picture': {'nominees': [], 'presenters': [], 'winner': [('best actress', 2), ('jessica chastain', 16)], 'votes': 18}}\n",
      "{'best actress at the': {'nominees': [], 'presenters': [], 'winner': [('jennifer lawrence', 18)], 'votes': 18}}\n",
      "{'best supporting actress in a motion picture win for les miserables': {'nominees': [], 'presenters': [], 'winner': [('anne hathaway', 18)], 'votes': 18}}\n",
      "{'best supporting actor in': {'nominees': [], 'presenters': [], 'winner': [('christoph waltz', 17)], 'votes': 17}}\n",
      "{'if i ever won an': {'nominees': [], 'presenters': [], 'winner': [('i', 16)], 'votes': 16}}\n",
      "{'best original song for skyfall': {'nominees': [], 'presenters': [], 'winner': [('adele', 16)], 'votes': 16}}\n",
      "{'best tv series': {'nominees': [], 'presenters': [], 'winner': [('homeland', 10), ('girls', 5)], 'votes': 15}}\n",
      "{'best original song in a motion picture': {'nominees': [], 'presenters': [], 'winner': [('skyfall', 14)], 'votes': 14}}\n",
      "{'best original song at the': {'nominees': [], 'presenters': [], 'winner': [('adele', 14)], 'votes': 14}}\n",
      "{'best actor in a tv series': {'nominees': [], 'presenters': [], 'winner': [('damian lewis', 4), ('don cheadle', 7), ('lena dunham', 2)], 'votes': 13}}\n",
      "{'best actor in a musical': {'nominees': [], 'presenters': [], 'winner': [('bill murray', 12)], 'votes': 12}}\n",
      "{'best screenplay for': {'nominees': [], 'presenters': [], 'winner': [('quentin tarantino', 12)], 'votes': 12}}\n",
      "{'best director for': {'nominees': [], 'presenters': [], 'winner': [('ben affleck', 12)], 'votes': 12}}\n",
      "{'best supporting actor globe for': {'nominees': [], 'presenters': [], 'winner': [('goldenglobes', 11)], 'votes': 11}}\n",
      "{'best original song motion picture award for': {'nominees': [], 'presenters': [], 'winner': [('she', 11)], 'votes': 11}}\n",
      "{'best supporting actress in': {'nominees': [], 'presenters': [], 'winner': [('anne hathaway', 11)], 'votes': 11}}\n",
      "{'best actress in a comedy series': {'nominees': [], 'presenters': [], 'winner': [('lena dunham', 11)], 'votes': 11}}\n",
      "{'best supporting actor in a motion picture for his role in django unchained': {'nominees': [], 'presenters': [], 'winner': [('christoph waltz', 9)], 'votes': 9}}\n",
      "{'best television series': {'nominees': [], 'presenters': [], 'winner': [('homeland', 4), ('the show', 2), ('goldenglobes', 3)], 'votes': 9}}\n",
      "{'best supporting actress for les mis': {'nominees': [], 'presenters': [], 'winner': [('anne hathaway', 9)], 'votes': 9}}\n",
      "{'best actress': {'nominees': [], 'presenters': [], 'winner': [('jessica chastain', 9)], 'votes': 9}}\n",
      "{'best score at the': {'nominees': [], 'presenters': [], 'winner': [('life', 8)], 'votes': 8}}\n",
      "{'best best television comedy': {'nominees': [], 'presenters': [], 'winner': [('# girls', 8)], 'votes': 8}}\n",
      "{'best actress in a drama series': {'nominees': [], 'presenters': [], 'winner': [('claire danes', 8)], 'votes': 8}}\n",
      "{'best actress in a miniseries': {'nominees': [], 'presenters': [], 'winner': [('amy poehler', 7)], 'votes': 7}}\n",
      "{'best picture tonight': {'nominees': [('les miserables', 4), ('silver linings playbook', 2), ('goldenglobes', 1)], 'presenters': [], 'winner': [], 'votes': 7}}\n",
      "{'best actress in a comedy or musical for': {'nominees': [], 'presenters': [], 'winner': [('jennifer lawrence', 7)], 'votes': 7}}\n",
      "{'best actress in a tv series': {'nominees': [], 'presenters': [], 'winner': [('claire danes', 6), ('best actress', 1)], 'votes': 7}}\n",
      "{'best animated film': {'nominees': [], 'presenters': [], 'winner': [('brave', 7)], 'votes': 7}}\n",
      "{'best comedy or musical tv series at the': {'nominees': [], 'presenters': [], 'winner': [('girls', 7)], 'votes': 7}}\n",
      "{'best supporting actress in a tv show': {'nominees': [], 'presenters': [], 'winner': [('maggie smith', 6)], 'votes': 6}}\n",
      "{'best actor in a television series': {'nominees': [], 'presenters': [], 'winner': [('damian lewis', 3), ('.@iamdoncheadle', 2), ('yay', 1)], 'votes': 6}}\n",
      "{'best performance by an actress in a supporting role': {'nominees': [], 'presenters': [], 'winner': [('anne hathaway', 6)], 'votes': 6}}\n",
      "{'best actress for homeland': {'nominees': [], 'presenters': [], 'winner': [('claire danes', 5)], 'votes': 5}}\n",
      "{'best actor in a musical or comedy': {'nominees': [], 'presenters': [], 'winner': [(\"hugh jackman 's\", 4)], 'votes': 4}}\n",
      "{'best drama at the golden globes': {'nominees': [], 'presenters': [], 'winner': [('none', 4)], 'votes': 4}}\n",
      "{'best actress in a miniseries or motion picture made for television for game change': {'nominees': [], 'presenters': [], 'winner': [('.@_juliannemoore', 4)], 'votes': 4}}\n",
      "{'best actor in a miniseries or tv movie for': {'nominees': [], 'presenters': [], 'winner': [('kevin costner', 4)], 'votes': 4}}\n",
      "{'best actress in a comedy for silver linings playbook': {'nominees': [], 'presenters': [], 'winner': [('jennifer lawrence', 4)], 'votes': 4}}\n",
      "{'best actress in a television series': {'nominees': [], 'presenters': [], 'winner': [('best actress', 4)], 'votes': 4}}\n",
      "{'best performance by actor in a motion picture musical or comedy win': {'nominees': [], 'presenters': [], 'winner': [('goldenglobes', 4)], 'votes': 4}}\n",
      "{'best actor in a miniseries or motion picture made for television for hatfields & amp': {'nominees': [], 'presenters': [], 'winner': [('kevin costner', 3)], 'votes': 3}}\n",
      "{'best foreign language film win': {'nominees': [], 'presenters': [], 'winner': [('amour', 3)], 'votes': 3}}\n",
      "{'best performance by an actor in a motion picture': {'nominees': [], 'presenters': [], 'winner': [('lincoln', 3)], 'votes': 3}}\n",
      "{'best actress in a comedy or musical': {'nominees': [], 'presenters': [], 'winner': [('jennifer lawrence', 2)], 'votes': 2}}\n",
      "{'best animated feature film': {'nominees': [], 'presenters': [], 'winner': [('the archery lady', 2)], 'votes': 2}}\n",
      "{'best animated film is awarded to': {'nominees': [], 'presenters': [], 'winner': [('boo brave', 2)], 'votes': 2}}\n",
      "{'best tv comedy at the golden globes': {'nominees': [], 'presenters': [], 'winner': [('none', 2)], 'votes': 2}}\n",
      "{'best actor in motion picture': {'nominees': [], 'presenters': [], 'winner': [('hugh jackman', 2)], 'votes': 2}}\n",
      "{'best foreign language film': {'nominees': [], 'presenters': [], 'winner': [('amour', 2)], 'votes': 2}}\n",
      "{'best tv movie or miniseries': {'nominees': [], 'presenters': [], 'winner': [('game change', 1)], 'votes': 1}}\n",
      "{'best actress in a miniseries or tv movie for': {'nominees': [], 'presenters': [], 'winner': [('julianne moore', 1)], 'votes': 1}}\n",
      "{'best score': {'nominees': [], 'presenters': [], 'winner': [('mychael danna', 1)], 'votes': 1}}\n",
      "{'best supporting actor': {'nominees': [], 'presenters': [], 'winner': [('ed harris', 1)], 'votes': 1}}\n",
      "{'best actor in a comedy for house of lies': {'nominees': [], 'presenters': [], 'winner': [('don cheadle', 1)], 'votes': 1}}\n",
      "{'best screenplay': {'nominees': [], 'presenters': [], 'winner': [('quentin tarantino', 1)], 'votes': 1}}\n"
     ]
    }
   ],
   "source": [
    "top_awards = dict(sorted(awards_list.items(), key=lambda item: item[1].votes, reverse=True))\n",
    "for i in top_awards:\n",
    "    print(top_awards[i].output())"
   ]
  },
  {
   "cell_type": "code",
   "execution_count": null,
   "metadata": {},
   "outputs": [],
   "source": []
  }
 ],
 "metadata": {
  "kernelspec": {
   "display_name": "gg337",
   "language": "python",
   "name": "python3"
  },
  "language_info": {
   "codemirror_mode": {
    "name": "ipython",
    "version": 3
   },
   "file_extension": ".py",
   "mimetype": "text/x-python",
   "name": "python",
   "nbconvert_exporter": "python",
   "pygments_lexer": "ipython3",
   "version": "3.10.15"
  }
 },
 "nbformat": 4,
 "nbformat_minor": 2
}
