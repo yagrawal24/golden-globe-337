{
 "cells": [
  {
   "cell_type": "code",
   "execution_count": 1,
   "metadata": {},
   "outputs": [
    {
     "ename": "ModuleNotFoundError",
     "evalue": "No module named 'pandas'",
     "output_type": "error",
     "traceback": [
      "\u001b[0;31m---------------------------------------------------------------------------\u001b[0m",
      "\u001b[0;31mModuleNotFoundError\u001b[0m                       Traceback (most recent call last)",
      "Cell \u001b[0;32mIn[1], line 4\u001b[0m\n\u001b[1;32m      1\u001b[0m \u001b[38;5;66;03m###\u001b[39;00m\n\u001b[1;32m      2\u001b[0m \u001b[38;5;66;03m### PYTHON PACKAGES\u001b[39;00m\n\u001b[1;32m      3\u001b[0m \u001b[38;5;66;03m###\u001b[39;00m\n\u001b[0;32m----> 4\u001b[0m \u001b[38;5;28;01mimport\u001b[39;00m \u001b[38;5;21;01mpandas\u001b[39;00m \u001b[38;5;28;01mas\u001b[39;00m \u001b[38;5;21;01mpd\u001b[39;00m\n\u001b[1;32m      5\u001b[0m \u001b[38;5;28;01mimport\u001b[39;00m \u001b[38;5;21;01mre\u001b[39;00m\n\u001b[1;32m      6\u001b[0m \u001b[38;5;28;01mimport\u001b[39;00m \u001b[38;5;21;01memoji\u001b[39;00m\n",
      "\u001b[0;31mModuleNotFoundError\u001b[0m: No module named 'pandas'"
     ]
    }
   ],
   "source": [
    "###\n",
    "### PYTHON PACKAGES\n",
    "###\n",
    "import pandas as pd\n",
    "import re\n",
    "import emoji\n",
    "from ftfy import fix_text \n",
    "import unidecode\n",
    "from langdetect import detect, detect_langs\n",
    "import spacy\n",
    "from spacy import displacy\n",
    "\n",
    "###\n",
    "### USER-DEVELOPED IMPORTS\n",
    "###\n",
    "from project import *\n",
    "from capture_group import *"
   ]
  },
  {
   "cell_type": "markdown",
   "metadata": {},
   "source": [
    "### New Idea\n",
    "\n",
    "1) loop through cleaned dataframe to find tweets with \"win,\" \"present,\" \"nominate,\" \"best\" (maybe), \"award\" (maybe)\n",
    "2) with a match, get any names"
   ]
  },
  {
   "cell_type": "code",
   "execution_count": 263,
   "metadata": {},
   "outputs": [],
   "source": [
    "cleaned_data = pd.read_csv('text_cleaned.csv')['text']\n",
    "win_data = pd.read_csv('wins.csv')['text']\n",
    "spacy_data = pd.read_csv('spacy_info.csv')"
   ]
  },
  {
   "cell_type": "code",
   "execution_count": null,
   "metadata": {},
   "outputs": [],
   "source": [
    "nlp = spacy.load('en_core_web_sm')"
   ]
  },
  {
   "cell_type": "code",
   "execution_count": 250,
   "metadata": {},
   "outputs": [],
   "source": [
    "test_tweet_1 = \"rt @galaxiemag lifetime achievement award winner jodie foster is 50 she has been acting for 47 of those years amazing\"\n",
    "test_tweet_2 = \"christoph waltz wins best supporting actor for django unchained\""
   ]
  },
  {
   "cell_type": "code",
   "execution_count": 252,
   "metadata": {},
   "outputs": [],
   "source": [
    "alleged_winner = \"\"\n",
    "subject = []\n",
    "actual_winner = \"\"\n",
    "\n",
    "nlp = spacy.load('en_core_web_sm')\n",
    "\n",
    "doc = nlp(test_tweet_1)\n",
    "\n",
    "def extract_entities_2(doc):\n",
    "    entities = [(ent.text, ent.label_) for ent in doc.ents]\n",
    "    return entities\n",
    "\n",
    "for ent in extract_entities_2(doc):\n",
    "    if ent[1] == \"PERSON\":\n",
    "        alleged_winner = ent[0]\n",
    "\n",
    "# for token in doc:\n",
    "#     if (token.dep_ == 'nsubj'):\n",
    "#         nsubj = token.text\n",
    "#     elif (token.dep_ == 'dobj'):\n",
    "#         dobj = token.text\n",
    "\n",
    "for token in doc:\n",
    "    # extract subject\n",
    "    if (token.dep_ == 'nsubj'):\n",
    "        subject.append(token.text)"
   ]
  },
  {
   "cell_type": "code",
   "execution_count": 253,
   "metadata": {},
   "outputs": [],
   "source": [
    "def pattern(word, text): \n",
    "    pat = re.compile(re.escape(word), re.IGNORECASE) \n",
    "    return bool(re.search(pat, text))"
   ]
  },
  {
   "cell_type": "code",
   "execution_count": 254,
   "metadata": {},
   "outputs": [
    {
     "name": "stdout",
     "output_type": "stream",
     "text": [
      "christoph waltz\n"
     ]
    }
   ],
   "source": [
    "entities = extract_entities_2(doc)\n",
    "for s in subject:\n",
    "    for e, _ in entities:\n",
    "        if pattern(s, e):\n",
    "            print(e)"
   ]
  },
  {
   "cell_type": "code",
   "execution_count": 255,
   "metadata": {},
   "outputs": [
    {
     "data": {
      "text/plain": [
       "(christoph waltz,)"
      ]
     },
     "execution_count": 255,
     "metadata": {},
     "output_type": "execute_result"
    }
   ],
   "source": [
    "doc.ents"
   ]
  },
  {
   "cell_type": "code",
   "execution_count": 256,
   "metadata": {},
   "outputs": [],
   "source": [
    "nlp = spacy.load('en_core_web_sm')\n",
    "def get_winner(text):\n",
    "    alleged_winner = \"\"\n",
    "    subject = []\n",
    "    actual_winner = \"\"\n",
    "    \n",
    "    doc = nlp(text)\n",
    "    entities = [(ent.text, ent.label_) for ent in doc.ents]\n",
    "    \n",
    "    # return entities\n",
    "    \n",
    "    # for ent in entities:\n",
    "    #     if ent[1] == \"PERSON\":\n",
    "    #         alleged_winner = ent[0]\n",
    "            \n",
    "    for token in doc:\n",
    "        # extract subject\n",
    "        if (token.dep_ == 'nsubj'):\n",
    "            subject.append(token.text)\n",
    "    \n",
    "    entities = extract_entities_2(doc)\n",
    "    for s in subject:\n",
    "        for e, _ in entities:\n",
    "            if pattern(s, e):\n",
    "                return e"
   ]
  },
  {
   "cell_type": "code",
   "execution_count": 257,
   "metadata": {},
   "outputs": [
    {
     "data": {
      "text/plain": [
       "4746"
      ]
     },
     "execution_count": 257,
     "metadata": {},
     "output_type": "execute_result"
    }
   ],
   "source": [
    "len(win_data)"
   ]
  },
  {
   "cell_type": "code",
   "execution_count": 258,
   "metadata": {},
   "outputs": [],
   "source": [
    "spacy_size = 1500"
   ]
  },
  {
   "cell_type": "code",
   "execution_count": 259,
   "metadata": {},
   "outputs": [],
   "source": [
    "test = win_data.head(spacy_size).to_frame()"
   ]
  },
  {
   "cell_type": "code",
   "execution_count": 260,
   "metadata": {},
   "outputs": [],
   "source": [
    "test['spacy'] = win_data.head(spacy_size).apply(get_winner)"
   ]
  },
  {
   "cell_type": "code",
   "execution_count": 206,
   "metadata": {},
   "outputs": [],
   "source": [
    "text = \"golden globe winner damian lewis wins best actor in a tv drama for \"\"homeland \"\n",
    "doc = nlp(text)\n",
    "entities = [(ent.text, ent.label_) for ent in doc.ents]\n",
    "subject = []\n",
    "\n",
    "# for ent in entities:\n",
    "#     if ent[1] == \"PERSON\":\n",
    "#         alleged_winner = ent[0]\n",
    "        \n",
    "for token in doc:\n",
    "    # extract subject\n",
    "    # if (token.dep_ == 'nsubj'):\n",
    "    print(token, token.dep_)\n",
    "\n",
    "subject "
   ]
  },
  {
   "cell_type": "code",
   "execution_count": 207,
   "metadata": {},
   "outputs": [],
   "source": [
    "nom_data = cleaned_data[cleaned_data.apply(lambda x: re.search('(nominee|nominate|nominated|nominees)', x) != None)]"
   ]
  },
  {
   "cell_type": "code",
   "execution_count": 208,
   "metadata": {},
   "outputs": [
    {
     "data": {
      "text/plain": [
       "49        rt @lokipage times we wish good luck tonight t...\n",
       "61        rt @twittermovies nominee @officialadele on th...\n",
       "154       ive seen a grand total of one nominated film s...\n",
       "338       rt @zap2itrick can kerry washington be nominat...\n",
       "505       rt @twittermovies nominee @officialadele on th...\n",
       "                                ...                        \n",
       "173059    the were amazing im so happy argo won but i th...\n",
       "173107    rt @oskrnyc \"7 cajas\" should have been nominat...\n",
       "173130    \"@itsjerrah i should be nominated as best acto...\n",
       "173172    congrats to all the 2013 golden globes winners...\n",
       "173203    rt @mapeel yes should have been nominated for ...\n",
       "Name: text, Length: 1385, dtype: object"
      ]
     },
     "execution_count": 208,
     "metadata": {},
     "output_type": "execute_result"
    }
   ],
   "source": [
    "nom_data"
   ]
  },
  {
   "cell_type": "code",
   "execution_count": 217,
   "metadata": {},
   "outputs": [
    {
     "data": {
      "text/plain": [
       "0     {'winner': None, 'nominees': None, 'presenters...\n",
       "1     {'winner': None, 'nominees': None, 'presenters...\n",
       "2     {'winner': None, 'nominees': None, 'presenters...\n",
       "3     {'winner': None, 'nominees': None, 'presenters...\n",
       "4     {'winner': None, 'nominees': None, 'presenters...\n",
       "5     {'winner': None, 'nominees': None, 'presenters...\n",
       "6     {'winner': None, 'nominees': None, 'presenters...\n",
       "7     {'winner': None, 'nominees': None, 'presenters...\n",
       "8     {'winner': None, 'nominees': None, 'presenters...\n",
       "9     {'winner': None, 'nominees': None, 'presenters...\n",
       "10    {'winner': None, 'nominees': None, 'presenters...\n",
       "11    {'winner': None, 'nominees': None, 'presenters...\n",
       "12    {'winner': None, 'nominees': None, 'presenters...\n",
       "13    {'winner': None, 'nominees': None, 'presenters...\n",
       "14    {'winner': None, 'nominees': None, 'presenters...\n",
       "15    {'winner': None, 'nominees': None, 'presenters...\n",
       "16    {'winner': None, 'nominees': None, 'presenters...\n",
       "17    {'winner': None, 'nominees': None, 'presenters...\n",
       "18    {'winner': None, 'nominees': None, 'presenters...\n",
       "19    {'winner': None, 'nominees': None, 'presenters...\n",
       "20    {'winner': None, 'nominees': None, 'presenters...\n",
       "21    {'winner': None, 'nominees': None, 'presenters...\n",
       "22    {'winner': None, 'nominees': None, 'presenters...\n",
       "23    {'winner': None, 'nominees': None, 'presenters...\n",
       "24    {'winner': None, 'nominees': None, 'presenters...\n",
       "25    {'winner': None, 'nominees': None, 'presenters...\n",
       "26    {'winner': None, 'nominees': None, 'presenters...\n",
       "27    {'winner': None, 'nominees': None, 'presenters...\n",
       "28    {'winner': None, 'nominees': None, 'presenters...\n",
       "29    {'winner': None, 'nominees': None, 'presenters...\n",
       "30    {'winner': None, 'nominees': None, 'presenters...\n",
       "31    {'winner': None, 'nominees': None, 'presenters...\n",
       "32    {'winner': None, 'nominees': None, 'presenters...\n",
       "33    {'winner': None, 'nominees': None, 'presenters...\n",
       "34    {'winner': None, 'nominees': None, 'presenters...\n",
       "35    {'winner': None, 'nominees': None, 'presenters...\n",
       "36    {'winner': None, 'nominees': None, 'presenters...\n",
       "37    {'winner': None, 'nominees': None, 'presenters...\n",
       "38    {'winner': None, 'nominees': None, 'presenters...\n",
       "39    {'winner': None, 'nominees': None, 'presenters...\n",
       "40    {'winner': None, 'nominees': None, 'presenters...\n",
       "41    {'winner': None, 'nominees': None, 'presenters...\n",
       "42    {'winner': None, 'nominees': None, 'presenters...\n",
       "43    {'winner': None, 'nominees': None, 'presenters...\n",
       "44    {'winner': None, 'nominees': None, 'presenters...\n",
       "45    {'winner': ['kerry washington'], 'nominees': [...\n",
       "46    {'winner': None, 'nominees': None, 'presenters...\n",
       "47    {'winner': None, 'nominees': None, 'presenters...\n",
       "48    {'winner': None, 'nominees': None, 'presenters...\n",
       "49    {'winner': None, 'nominees': None, 'presenters...\n",
       "Name: text, dtype: object"
      ]
     },
     "execution_count": 217,
     "metadata": {},
     "output_type": "execute_result"
    }
   ],
   "source": [
    "cleaned_data.head(50).apply(lambda x: extract_award_details(x))"
   ]
  },
  {
   "cell_type": "code",
   "execution_count": 228,
   "metadata": {},
   "outputs": [
    {
     "data": {
      "text/plain": [
       "'The award winner is: christoph waltz'"
      ]
     },
     "execution_count": 228,
     "metadata": {},
     "output_type": "execute_result"
    }
   ],
   "source": [
    "find_award_winner(test_tweet_2)"
   ]
  },
  {
   "cell_type": "code",
   "execution_count": 234,
   "metadata": {},
   "outputs": [
    {
     "data": {
      "text/plain": [
       "349                          No award mention found.\n",
       "607                          No award mention found.\n",
       "619               Possible award winner: rt @morocca\n",
       "836                          No award mention found.\n",
       "1462        Possible award winner: jennifer lawrence\n",
       "1466                         No award mention found.\n",
       "1783              Possible award winner: rt @morocca\n",
       "1876              Possible award winner: rt @morocca\n",
       "1919            Possible award winner: anne hathaway\n",
       "2185                         No award mention found.\n",
       "2363                         No award mention found.\n",
       "2507                         No award mention found.\n",
       "2826                         No award mention found.\n",
       "2944                         No award mention found.\n",
       "3088      Possible award winner: rt @vampirediariecw\n",
       "3168              Possible award winner: rt @morocca\n",
       "3320                  Possible award winner: kathryn\n",
       "4191                         No award mention found.\n",
       "4282                         No award mention found.\n",
       "4452                         No award mention found.\n",
       "4944        Possible award winner: jennifer lawrence\n",
       "5305                         No award mention found.\n",
       "5966                The award winner is: bill murray\n",
       "6087                         No award mention found.\n",
       "6106                         No award mention found.\n",
       "6368                         No award mention found.\n",
       "6654                         No award mention found.\n",
       "6932                The award winner is: bill murray\n",
       "7002             Possible award winner: bill murrays\n",
       "7291       Possible award winner: bill fuckin murray\n",
       "7615     The award winner is: bill murrays van buren\n",
       "8152                         No award mention found.\n",
       "8180                         No award mention found.\n",
       "8924                         No award mention found.\n",
       "9374       Possible award winner: james cameron burn\n",
       "9432                         No award mention found.\n",
       "9544         Possible award winner: katheryn bigelow\n",
       "9552                         No award mention found.\n",
       "10082                        No award mention found.\n",
       "10257                        No award mention found.\n",
       "10710                        No award mention found.\n",
       "11452               The award winner is: bill murray\n",
       "12836                        No award mention found.\n",
       "13487                        No award mention found.\n",
       "13571                        No award mention found.\n",
       "13610              The award winner is: daniel craig\n",
       "13777                        No award mention found.\n",
       "13799                        No award mention found.\n",
       "13802                        No award mention found.\n",
       "13836             Possible award winner: rt @morocca\n",
       "Name: text, dtype: object"
      ]
     },
     "execution_count": 234,
     "metadata": {},
     "output_type": "execute_result"
    }
   ],
   "source": [
    "win_data.head(50).apply(lambda x: find_award_winner(x))"
   ]
  },
  {
   "cell_type": "code",
   "execution_count": null,
   "metadata": {},
   "outputs": [],
   "source": []
  }
 ],
 "metadata": {
  "kernelspec": {
   "display_name": "gg337",
   "language": "python",
   "name": "python3"
  },
  "language_info": {
   "codemirror_mode": {
    "name": "ipython",
    "version": 3
   },
   "file_extension": ".py",
   "mimetype": "text/x-python",
   "name": "python",
   "nbconvert_exporter": "python",
   "pygments_lexer": "ipython3",
   "version": "3.10.15"
  }
 },
 "nbformat": 4,
 "nbformat_minor": 2
}
