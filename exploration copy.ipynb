{
 "cells": [
  {
   "cell_type": "code",
   "execution_count": 1,
   "metadata": {},
   "outputs": [],
   "source": [
    "###\n",
    "### PYTHON PACKAGES\n",
    "###\n",
    "import pandas as pd\n",
    "import re\n",
    "import emoji\n",
    "from ftfy import fix_text \n",
    "import unidecode\n",
    "from langdetect import detect, detect_langs\n",
    "import spacy\n",
    "from spacy import displacy\n",
    "\n",
    "###\n",
    "### USER-DEVELOPED IMPORTS\n",
    "###\n",
    "# from project import *\n",
    "from capture_group import *"
   ]
  },
  {
   "cell_type": "markdown",
   "metadata": {},
   "source": [
    "### New Idea\n",
    "\n",
    "1) loop through cleaned dataframe to find tweets with \"win,\" \"present,\" \"nominate,\" \"best\" (maybe), \"award\" (maybe)\n",
    "2) with a match, get any names"
   ]
  },
  {
   "cell_type": "code",
   "execution_count": 2,
   "metadata": {},
   "outputs": [],
   "source": [
    "cleaned_data = pd.read_csv('text_cleaned.csv')['text']\n",
    "win_data = pd.read_csv('wins.csv')['text']\n",
    "spacy_data = pd.read_csv('spacy_info.csv')"
   ]
  },
  {
   "cell_type": "code",
   "execution_count": 3,
   "metadata": {},
   "outputs": [],
   "source": [
    "spacy_size = 1500"
   ]
  },
  {
   "cell_type": "code",
   "execution_count": 4,
   "metadata": {},
   "outputs": [
    {
     "data": {
      "text/plain": [
       "'Yash | best student | nominee'"
      ]
     },
     "execution_count": 4,
     "metadata": {},
     "output_type": "execute_result"
    }
   ],
   "source": [
    "# win_data.head(50).apply(lambda x: find_award_winner(x))x\n",
    "find_award_winner(\"I hope Yash or Sorie wins best student \")"
   ]
  },
  {
   "cell_type": "code",
   "execution_count": 5,
   "metadata": {},
   "outputs": [],
   "source": [
    "def nominee_search(text):\n",
    "    doc = nlp(text)\n",
    "    \n",
    "    entities = extract_entities(doc)\n",
    "    \n",
    "    gen_patterns = r'(is nominated for|is a nominee for)'\n",
    "    if re.search(gen_patterns, text, re.IGNORECASE):\n",
    "        for ent in entities:\n",
    "            if ent[1] == \"PERSON\":\n",
    "                alleged_winner = ent[0]\n",
    "        \n",
    "        award = extract_award_name_after_best(doc)\n",
    "        \n",
    "        if award != None:\n",
    "            return alleged_winner, award\n",
    "        \n",
    "        word_list = [\"award\", \"prize\", \"honor\", \"medal\", \"trophy\"]\n",
    "        pattern = r\"(\\w+)\\s+\" + gen_patterns + r\"(.*?\\b(?:\" + \"|\".join(re.escape(word) for word in word_list) + r\")\\b)\"\n",
    "        match = re.search(pattern, text, re.IGNORECASE)\n",
    "        \n",
    "        return alleged_winner, match.group(3)"
   ]
  },
  {
   "cell_type": "code",
   "execution_count": 6,
   "metadata": {},
   "outputs": [
    {
     "ename": "NameError",
     "evalue": "name 'extract_entities' is not defined",
     "output_type": "error",
     "traceback": [
      "\u001b[1;31m---------------------------------------------------------------------------\u001b[0m",
      "\u001b[1;31mNameError\u001b[0m                                 Traceback (most recent call last)",
      "Cell \u001b[1;32mIn[6], line 1\u001b[0m\n\u001b[1;32m----> 1\u001b[0m \u001b[43mnominee_search\u001b[49m\u001b[43m(\u001b[49m\u001b[38;5;124;43m\"\u001b[39;49m\u001b[38;5;124;43mYash is a nominee for best student\u001b[39;49m\u001b[38;5;124;43m\"\u001b[39;49m\u001b[43m)\u001b[49m\n",
      "Cell \u001b[1;32mIn[5], line 4\u001b[0m, in \u001b[0;36mnominee_search\u001b[1;34m(text)\u001b[0m\n\u001b[0;32m      1\u001b[0m \u001b[38;5;28;01mdef\u001b[39;00m \u001b[38;5;21mnominee_search\u001b[39m(text):\n\u001b[0;32m      2\u001b[0m     doc \u001b[38;5;241m=\u001b[39m nlp(text)\n\u001b[1;32m----> 4\u001b[0m     entities \u001b[38;5;241m=\u001b[39m \u001b[43mextract_entities\u001b[49m(doc)\n\u001b[0;32m      6\u001b[0m     gen_patterns \u001b[38;5;241m=\u001b[39m \u001b[38;5;124mr\u001b[39m\u001b[38;5;124m'\u001b[39m\u001b[38;5;124m(is nominated for|is a nominee for)\u001b[39m\u001b[38;5;124m'\u001b[39m\n\u001b[0;32m      7\u001b[0m     \u001b[38;5;28;01mif\u001b[39;00m re\u001b[38;5;241m.\u001b[39msearch(gen_patterns, text, re\u001b[38;5;241m.\u001b[39mIGNORECASE):\n",
      "\u001b[1;31mNameError\u001b[0m: name 'extract_entities' is not defined"
     ]
    }
   ],
   "source": [
    "nominee_search(\"Yash is a nominee for best student\")"
   ]
  },
  {
   "cell_type": "markdown",
   "metadata": {},
   "source": [
    "### Notes from office hours\n",
    "\n",
    "There may be accounts (i.e. newspapers) that HAVE to post who the nominees are, look through data for that\n",
    "Can use ordering of events (i.e. award A goes Speaker -> Nominees -> Winner)\n",
    "Start by looking at data that has information you know you need\n",
    "Try inputting JSON into ChatGPT and ask it to return tweets where nominees for awards are mentioned\n",
    "Somebody mentioned frequently near mention of an award winner\n",
    "\n",
    "For Spacy, find nsubj+, check IMDB to see if it's actually a movie or actor/actress (if time)\n",
    "\n",
    "Based on award name, can tell if you need a movie or actor / actress / song\n",
    "\n",
    "See what Spacy outputs for \"movie wins x award\"\n"
   ]
  },
  {
   "cell_type": "code",
   "execution_count": null,
   "metadata": {},
   "outputs": [
    {
     "name": "stdout",
     "output_type": "stream",
     "text": [
      "[]\n"
     ]
    }
   ],
   "source": [
    "from itertools import islice\n",
    "\n",
    "account_rts = {}\n",
    "\n",
    "for text in cleaned_data:\n",
    "    tweet = text.split(' ')\n",
    "    if tweet[0] == 'rt':\n",
    "        if tweet[1] in account_rts:\n",
    "            account_rts[tweet[1]] += 1\n",
    "        else:\n",
    "            account_rts.update({tweet[1]:1})\n",
    "\n",
    "account_dicts = dict(sorted(account_rts.items(), key=lambda item: item[1], reverse=True))\n",
    "\n",
    "top_accounts = list(islice(account_dicts, 10))\n",
    "top_accounts\n",
    "\n",
    "print(top_accounts)"
   ]
  },
  {
   "cell_type": "code",
   "execution_count": 7,
   "metadata": {},
   "outputs": [
    {
     "ename": "NameError",
     "evalue": "name 'top_accounts' is not defined",
     "output_type": "error",
     "traceback": [
      "\u001b[1;31m---------------------------------------------------------------------------\u001b[0m",
      "\u001b[1;31mNameError\u001b[0m                                 Traceback (most recent call last)",
      "Cell \u001b[1;32mIn[7], line 1\u001b[0m\n\u001b[1;32m----> 1\u001b[0m retweet_pattern \u001b[38;5;241m=\u001b[39m \u001b[38;5;124mr\u001b[39m\u001b[38;5;124m'\u001b[39m\u001b[38;5;124mre\u001b[39m\u001b[38;5;124m\\\u001b[39m\u001b[38;5;124ms\u001b[39m\u001b[38;5;124m'\u001b[39m \u001b[38;5;241m+\u001b[39m \u001b[38;5;124m'\u001b[39m\u001b[38;5;124m|\u001b[39m\u001b[38;5;124m'\u001b[39m\u001b[38;5;241m.\u001b[39mjoin(\u001b[43mtop_accounts\u001b[49m)\n\u001b[0;32m      2\u001b[0m match \u001b[38;5;241m=\u001b[39m re\u001b[38;5;241m.\u001b[39msearch(retweet_pattern, text, re\u001b[38;5;241m.\u001b[39mIGNORECASE)\n",
      "\u001b[1;31mNameError\u001b[0m: name 'top_accounts' is not defined"
     ]
    }
   ],
   "source": [
    "retweet_pattern = r're\\s' + '|'.join(top_accounts)\n",
    "match = re.search(retweet_pattern, text, re.IGNORECASE)"
   ]
  },
  {
   "cell_type": "code",
   "execution_count": 8,
   "metadata": {},
   "outputs": [],
   "source": [
    "def account_rt(text):\n",
    "    doc = nlp(text)\n",
    "    print(text, \" --- 1\")\n",
    "    \n",
    "    pattern = r're \\s' + '|'.join(top_accounts)\n",
    "    \n",
    "    if re.search(pattern, text, re.IGNORECASE):     \n",
    "        print(text, \" --- 2\")   \n",
    "        return find_award_winner(text)"
   ]
  },
  {
   "cell_type": "code",
   "execution_count": 9,
   "metadata": {},
   "outputs": [],
   "source": [
    "text = \"rt @goldenglobes best screenplay quentin tarantino django unchained\""
   ]
  },
  {
   "cell_type": "code",
   "execution_count": 10,
   "metadata": {},
   "outputs": [
    {
     "name": "stdout",
     "output_type": "stream",
     "text": [
      "rt @goldenglobes best screenplay quentin tarantino django unchained  --- 1\n"
     ]
    },
    {
     "ename": "NameError",
     "evalue": "name 'top_accounts' is not defined",
     "output_type": "error",
     "traceback": [
      "\u001b[1;31m---------------------------------------------------------------------------\u001b[0m",
      "\u001b[1;31mNameError\u001b[0m                                 Traceback (most recent call last)",
      "Cell \u001b[1;32mIn[10], line 1\u001b[0m\n\u001b[1;32m----> 1\u001b[0m \u001b[43maccount_rt\u001b[49m\u001b[43m(\u001b[49m\u001b[43mtext\u001b[49m\u001b[43m)\u001b[49m\n",
      "Cell \u001b[1;32mIn[8], line 5\u001b[0m, in \u001b[0;36maccount_rt\u001b[1;34m(text)\u001b[0m\n\u001b[0;32m      2\u001b[0m doc \u001b[38;5;241m=\u001b[39m nlp(text)\n\u001b[0;32m      3\u001b[0m \u001b[38;5;28mprint\u001b[39m(text, \u001b[38;5;124m\"\u001b[39m\u001b[38;5;124m --- 1\u001b[39m\u001b[38;5;124m\"\u001b[39m)\n\u001b[1;32m----> 5\u001b[0m pattern \u001b[38;5;241m=\u001b[39m \u001b[38;5;124mr\u001b[39m\u001b[38;5;124m'\u001b[39m\u001b[38;5;124mre \u001b[39m\u001b[38;5;124m\\\u001b[39m\u001b[38;5;124ms\u001b[39m\u001b[38;5;124m'\u001b[39m \u001b[38;5;241m+\u001b[39m \u001b[38;5;124m'\u001b[39m\u001b[38;5;124m|\u001b[39m\u001b[38;5;124m'\u001b[39m\u001b[38;5;241m.\u001b[39mjoin(\u001b[43mtop_accounts\u001b[49m)\n\u001b[0;32m      7\u001b[0m \u001b[38;5;28;01mif\u001b[39;00m re\u001b[38;5;241m.\u001b[39msearch(pattern, text, re\u001b[38;5;241m.\u001b[39mIGNORECASE):     \n\u001b[0;32m      8\u001b[0m     \u001b[38;5;28mprint\u001b[39m(text, \u001b[38;5;124m\"\u001b[39m\u001b[38;5;124m --- 2\u001b[39m\u001b[38;5;124m\"\u001b[39m)   \n",
      "\u001b[1;31mNameError\u001b[0m: name 'top_accounts' is not defined"
     ]
    }
   ],
   "source": [
    "account_rt(text)"
   ]
  },
  {
   "cell_type": "code",
   "execution_count": 11,
   "metadata": {},
   "outputs": [],
   "source": [
    "df = pd.read_json('gg2013.json')['text']"
   ]
  },
  {
   "cell_type": "code",
   "execution_count": 12,
   "metadata": {},
   "outputs": [
    {
     "data": {
      "text/plain": [
       "'RT @goldenglobes: Best Screenplay - Quentin Tarantino - Django Unchained - #GoldenGlobes'"
      ]
     },
     "execution_count": 12,
     "metadata": {},
     "output_type": "execute_result"
    }
   ],
   "source": [
    "df[102541]"
   ]
  },
  {
   "cell_type": "code",
   "execution_count": 13,
   "metadata": {},
   "outputs": [],
   "source": [
    "nominee_data = cleaned_data[cleaned_data.apply(lambda x: re.search(r'(\\bnominated\\b|\\bnominee\\b|\\bnomination\\b|nominated\\b)', x) != None)]\n",
    "\n",
    "nominee_data.to_csv(\"nominees.csv\")"
   ]
  },
  {
   "cell_type": "code",
   "execution_count": 14,
   "metadata": {},
   "outputs": [
    {
     "data": {
      "text/plain": [
       "46        RT @Loki_Page: #GoldenGlobes Times! We wish go...\n",
       "132       I've seen a grand total of one nominated film....\n",
       "290       RT @Zap2itRick: Can Kerry Washington be nomina...\n",
       "391       If Leo could wear a tux everyday ... He still ...\n",
       "629       I wish my dad was an award-winning/nominated a...\n",
       "                                ...                        \n",
       "152540    RT @JessicaCapshaw: Thank u all for your play ...\n",
       "152550    RT @VanityFair: Best nominee cutaway of the ni...\n",
       "152644    RT @JessicaCapshaw: Thank u all for your play ...\n",
       "152707    RT @oskrNYC: \"7 Cajas\" should have been nomina...\n",
       "152787    RT @MaPeel: #Skyfall. Yes. Should have been no...\n",
       "Name: text, Length: 1023, dtype: object"
      ]
     },
     "execution_count": 14,
     "metadata": {},
     "output_type": "execute_result"
    }
   ],
   "source": [
    "nominee_data"
   ]
  },
  {
   "cell_type": "code",
   "execution_count": 15,
   "metadata": {},
   "outputs": [],
   "source": [
    "win_data = pd.read_csv('wins.csv')['text']\n",
    "win_output = win_data.apply(find_award_winner)"
   ]
  },
  {
   "cell_type": "code",
   "execution_count": 16,
   "metadata": {},
   "outputs": [],
   "source": [
    "nominee_data = pd.read_csv('nominees.csv')['text']\n",
    "nom_output = nominee_data.apply(find_nominee)"
   ]
  },
  {
   "cell_type": "code",
   "execution_count": 17,
   "metadata": {},
   "outputs": [],
   "source": [
    "pd.concat([win_output, nom_output]).to_csv('winners_nominees.csv', index=False)"
   ]
  },
  {
   "cell_type": "code",
   "execution_count": 18,
   "metadata": {},
   "outputs": [
    {
     "ename": "TypeError",
     "evalue": "search() missing 1 required positional argument: 'string'",
     "output_type": "error",
     "traceback": [
      "\u001b[1;31m---------------------------------------------------------------------------\u001b[0m",
      "\u001b[1;31mTypeError\u001b[0m                                 Traceback (most recent call last)",
      "Cell \u001b[1;32mIn[18], line 3\u001b[0m\n\u001b[0;32m      1\u001b[0m winner \u001b[38;5;241m=\u001b[39m [\u001b[38;5;124m'\u001b[39m\u001b[38;5;124mdamien\u001b[39m\u001b[38;5;124m'\u001b[39m, \u001b[38;5;124m'\u001b[39m\u001b[38;5;124manne\u001b[39m\u001b[38;5;124m'\u001b[39m, \u001b[38;5;124m'\u001b[39m\u001b[38;5;124mamy\u001b[39m\u001b[38;5;124m'\u001b[39m]\n\u001b[1;32m----> 3\u001b[0m \u001b[43mre\u001b[49m\u001b[38;5;241;43m.\u001b[39;49m\u001b[43msearch\u001b[49m\u001b[43m(\u001b[49m\u001b[38;5;124;43mf\u001b[39;49m\u001b[38;5;124;43m'\u001b[39;49m\u001b[38;5;132;43;01m{\u001b[39;49;00m\u001b[43mwinner\u001b[49m\u001b[38;5;132;43;01m}\u001b[39;49;00m\u001b[38;5;124;43m+but I love+\u001b[39;49m\u001b[38;5;124;43m'\u001b[39;49m\u001b[43m)\u001b[49m\n",
      "\u001b[1;31mTypeError\u001b[0m: search() missing 1 required positional argument: 'string'"
     ]
    }
   ],
   "source": [
    "winner = ['damien', 'anne', 'amy']\n",
    "\n",
    "re.search(f'{winner}+but I love+')"
   ]
  },
  {
   "cell_type": "code",
   "execution_count": 61,
   "metadata": {},
   "outputs": [
    {
     "data": {
      "text/plain": [
       "0                                                     NaN\n",
       "1                                                     NaN\n",
       "2                                                     NaN\n",
       "3                                                     NaN\n",
       "4                                                     NaN\n",
       "                              ...                        \n",
       "4072                   Hugh Jackman | best actor | winner\n",
       "4073                   Hugh Jackman | Best Actor | winner\n",
       "4074                                                  NaN\n",
       "4075    a video Jennifer Lawrence | Best Actress | winner\n",
       "4076        Les Miserables | Best Motion Picture | winner\n",
       "Name: text, Length: 4077, dtype: object"
      ]
     },
     "execution_count": 61,
     "metadata": {},
     "output_type": "execute_result"
    }
   ],
   "source": [
    "answers = pd.read_csv('winners_and_awards.csv')['text']\n",
    "answers"
   ]
  },
  {
   "cell_type": "code",
   "execution_count": 18,
   "metadata": {},
   "outputs": [],
   "source": [
    "# award class to store information about each award\n",
    "class award:\n",
    "    def __init__(self, name):\n",
    "        self.name = name\n",
    "        self.winner = {}\n",
    "        self.nominees = {}\n",
    "        self.presenters = {}\n",
    "        self.votes = 1\n",
    "    \n",
    "    # add a new person associted with the award\n",
    "    def new_person(self, name, role, pcount=1):\n",
    "        if role == 'winner':\n",
    "            self.winner.update({name:pcount})\n",
    "        elif role == 'nominee':\n",
    "            self.nominees.update({name:pcount})\n",
    "        elif role == 'presenter':\n",
    "            self.presenters.update({name:pcount})\n",
    "        \n",
    "        if pcount > 1:\n",
    "            self.votes += pcount - 1\n",
    "    \n",
    "    # a repeat-appearence of a person in a role gives them an additional vote for that role (more votes = more likely)\n",
    "    def person_vote(self, name, role):\n",
    "        if role == 'winner':\n",
    "            self.winner[name] += 1\n",
    "        elif role == 'nominee':\n",
    "            self.nominees[name] += 1\n",
    "        elif role == 'presenter':\n",
    "            self.presenters[name] += 1\n",
    "    \n",
    "    def remove_person(self, name, role):\n",
    "        if role == 'winner':\n",
    "            pcount = self.winner.pop(name)\n",
    "            self.votes -= pcount\n",
    "        elif role == 'nominee':\n",
    "            pcount = self.nominees.pop(name)\n",
    "            self.votes -= pcount\n",
    "        elif role == 'presenter':\n",
    "            pcount = self.presenters.pop(name)\n",
    "            self.votes -= pcount\n",
    "        \n",
    "        return name, role, pcount\n",
    "    \n",
    "    # a repeat award gets more votes (more votes = more likely)\n",
    "    def award_vote(self):\n",
    "        self.votes += 1\n",
    "    \n",
    "    # check if a person is already present in a particular award\n",
    "    def contains(self, name, role):\n",
    "        if role == 'winner':\n",
    "            return name in self.winner\n",
    "        elif role == 'nominee':\n",
    "            return name in self.nominees\n",
    "        elif role == 'presenter':\n",
    "            return name in self.presenters\n",
    "    \n",
    "    def output(self):\n",
    "        return {self.name:\n",
    "                { \n",
    "                    \"nominees\": [(n, self.nominees[n]) for n in self.nominees],\n",
    "                    \"presenters\":[(p, self.presenters[p]) for p in self.presenters], \n",
    "                    \"winner\":[(w, self.winner[w]) for w in self.winner],\n",
    "                    \"votes\":self.votes\n",
    "                }\n",
    "        }"
   ]
  },
  {
   "cell_type": "code",
   "execution_count": 19,
   "metadata": {},
   "outputs": [],
   "source": [
    "# list of awards and their respective winners, nominees, and presenters, along with the number of times they appear in our data\n",
    "awards_list = {}\n",
    "\n",
    "# Split up each row of our dataframe and apply appropriate function to update our answers\n",
    "def extract_answers(text):\n",
    "    nominee, curr_award, role = text.split(' | ')\n",
    "    nominee = nominee.lower()\n",
    "    curr_award = curr_award.lower()\n",
    "    \n",
    "    if curr_award not in awards_list:\n",
    "        awards_list.update({curr_award:award(curr_award)})\n",
    "    else:\n",
    "        awards_list[curr_award].award_vote()\n",
    "        \n",
    "    if not awards_list[curr_award].contains(nominee, role):\n",
    "        awards_list[curr_award].new_person(nominee, role)\n",
    "    else:\n",
    "        awards_list[curr_award].person_vote(nominee, role)"
   ]
  },
  {
   "cell_type": "code",
   "execution_count": 20,
   "metadata": {},
   "outputs": [],
   "source": [
    "answers = answers.dropna()"
   ]
  },
  {
   "cell_type": "code",
   "execution_count": 21,
   "metadata": {},
   "outputs": [
    {
     "data": {
      "text/plain": [
       "18      None\n",
       "25      None\n",
       "26      None\n",
       "30      None\n",
       "36      None\n",
       "        ... \n",
       "4071    None\n",
       "4072    None\n",
       "4073    None\n",
       "4075    None\n",
       "4076    None\n",
       "Name: text, Length: 2729, dtype: object"
      ]
     },
     "execution_count": 21,
     "metadata": {},
     "output_type": "execute_result"
    }
   ],
   "source": [
    "answers.apply(extract_answers)"
   ]
  },
  {
   "cell_type": "code",
   "execution_count": 22,
   "metadata": {},
   "outputs": [
    {
     "name": "stdout",
     "output_type": "stream",
     "text": [
      "{'best actor': {'nominees': [('hugh jackman', 2), ('jean valjean', 4)], 'presenters': [], 'winner': [('damian lewis', 23), ('homeland', 3), ('jon hamm', 1), ('damien lewis', 1), ('brit damien lewis', 2), ('kevin costner', 24), ('goldenglobes kevin costner', 1), ('mccoys', 6), ('ed harris', 1), ('don cheadle', 26), ('.@iamdoncheadle', 4), ('goldenglobes don cheadle', 3), ('yay', 1), ('none', 1), ('brody', 1), ('lena dunham', 4), ('hugh jackman', 172), ('lesmis', 1), ('category hugh jackman', 1), ('crush hugh jackman', 1), ('the guy', 11), ('# hughjackman', 1), ('jean valjean', 1), ('who', 1), ('wolverine', 1), ('daniel day lewis', 90), ('les miserables', 1), ('goldenglobes hugh jackman', 5), ('best actor &', 1), ('lincoln', 1), ('day lewis', 13), ('the best actor', 1), ('goldenglobes', 1), ('this', 1), ('film wajib tonton ini', 1), ('mitt romney', 1)], 'votes': 414}}\n",
      "{'best actress': {'nominees': [('goldenglobes', 1), ('lena dunham', 2)], 'presenters': [], 'winner': [('julianne moore', 26), ('.@_juliannemoore', 4), ('julianna moore', 1), ('juliannemoore', 1), ('goldenglobes julianne moore', 2), ('jennifer lawrence', 108), ('lawrence', 12), ('j law', 2), ('goldenglobes jennifer lawrence', 3), ('anne hathaway', 5), ('a boy', 9), ('j. lawrence', 1), ('claire danes', 55), ('clare danes', 1), ('crush jennifer lawrence', 1), ('goldenglobes claire danes', 1), ('a claire danes', 22), ('lena dunham', 23), ('amy poehler', 1), ('none', 1), ('hbo', 1), ('.@lenadunham', 1), ('best actress', 2), ('the actress', 1), ('winner', 2), ('jessica chastain', 86), ('the jessica chastain', 1), ('review', 1), ('a video jennifer lawrence', 1)], 'votes': 380}}\n",
      "{'best': {'nominees': [('brave', 1)], 'presenters': [], 'winner': [('he', 1), ('tina fey', 1), ('christoph waltz', 67), ('# goldenglobes', 4), ('christopher waltz', 1), ('cristoph waltz', 1), ('maggie smith', 21), ('maggiesmith', 1), ('christophterwaltz', 1), ('# maggiesmith', 7), ('julianne', 1), ('damian lewis', 1), ('who', 1), ('homeland', 1), ('adele', 1), ('r2d2', 1), ('lincoln', 1), ('goldenglobes ed harris', 1), ('ed harris', 4), ('anne hathaway', 164), ('goldenglobes anne hathaway', 1), ('student anne hathaway', 1), ('# annehathaway', 2), ('she', 4), ('hathaway', 1), ('annehathaway', 1), ('brave', 35), ('best animated feature film', 1), ('# brave', 16), ('anne hathway', 1), ('none', 1), ('yay', 1), ('goldenglobes', 2), ('ddl', 1), ('# argo', 2)], 'votes': 352}}\n",
      "{'best motion picture': {'nominees': [('les miserables', 1), ('moonrise kingdom', 1)], 'presenters': [], 'winner': [('les miserables', 130), ('best motion picture', 1), ('lesmis', 4), ('# lesmiserables', 3), ('.@lesmiserables', 9), ('argo', 42), ('the film', 4), ('# argo', 1), ('ben affleck', 2), ('none', 1), ('# lesmis', 1), ('lesmiserables', 1)], 'votes': 201}}\n",
      "{'best director': {'nominees': [('jared leto', 1), ('hope', 3), ('ben affleck', 2)], 'presenters': [], 'winner': [('who', 2), ('tarentino', 1), ('hoping', 1), ('it', 1), ('ben affleck', 117), ('non - oscar', 1), ('argo', 1), ('snub ben affleck', 1), ('benaffleck', 7), ('hooray', 1), ('yay ben affleck', 1), ('.@benaffleck', 4), ('affleck', 2), ('goldenglobes', 1), ('man', 1), ('hey , academy', 1), ('ben afleck', 1), ('he', 1), ('# benaffleck', 2), ('ben afflect', 1), ('a boo', 1), ('argo director', 2), ('none', 1), ('globes', 1), ('india ben affleck', 1)], 'votes': 160}}\n",
      "{'best original song': {'nominees': [('skyfall', 1)], 'presenters': [], 'winner': [('taylor swift', 1), ('yayyyy adele', 1), ('adele', 74), ('skyfall', 29), ('# skyfall', 21), ('singer adele', 1), ('she', 1), ('tv appearance', 1), ('best original song', 1), ('goldenglobes', 1), ('queen madonna', 2)], 'votes': 134}}\n",
      "{'best picture': {'nominees': [('fargo', 1), ('lincoln', 1)], 'presenters': [], 'winner': [('it', 1), ('who', 1), ('anddd les miserables', 1), ('none', 1), ('les miserables', 40), ('les mis', 2), ('# lesmis', 5), ('les miz', 1), ('lesmis', 1), ('goldenglobes', 1), ('goldenglobes les miserables', 1), ('best picture - music or', 1), ('♥ # lesmis', 1), ('argo', 44), ('# argo', 14), ('trouble', 1), ('arsego', 1)], 'votes': 119}}\n",
      "{'best screenplay': {'nominees': [], 'presenters': [], 'winner': [('quentin tarantino', 41), ('tarantino', 7), ('quentin', 2), ('django', 1), ('quentin # tarantino', 2), ('qt', 1)], 'votes': 54}}\n",
      "{'best tv series': {'nominees': [('girls', 1)], 'presenters': [], 'winner': [('homeland', 28), ('girls', 14), ('# girls', 8)], 'votes': 51}}\n",
      "{'best song': {'nominees': [('skyfall', 7)], 'presenters': [], 'winner': [('madonna', 1), ('skyfall', 7), ('adele', 30), ('yaaaaay', 1), ('best song', 1), ('mom adele', 1)], 'votes': 48}}\n",
      "{'best drama': {'nominees': [('homeland', 2)], 'presenters': [], 'winner': [('# homeland', 2), ('homeland', 26), ('argo', 4), ('movies', 1), ('woah ben affleck', 1), ('# argo', 1), ('it', 1)], 'votes': 38}}\n",
      "{'best supporting actor': {'nominees': [('christoph waltz', 1)], 'presenters': [], 'winner': [('christoph waltz', 28), ('actress', 1), ('ed harris', 2), ('goldenglobes ed harris', 1), ('mychael danna', 2)], 'votes': 35}}\n",
      "{'best director category': {'nominees': [], 'presenters': [], 'winner': [('ben affleck', 34)], 'votes': 34}}\n",
      "{'best comedy': {'nominees': [('les mis', 1), ('# lesmiserables', 2)], 'presenters': [], 'winner': [('girls', 13), ('# girls', 1), ('# lesmiserables', 1), ('les miserables', 6), ('les miserable', 1), ('congrats les mis', 1), ('les mis', 3)], 'votes': 29}}\n",
      "{'best director # goldenglobes award': {'nominees': [], 'presenters': [], 'winner': [('ben affleck', 25)], 'votes': 25}}\n",
      "{'best comedy series': {'nominees': [], 'presenters': [], 'winner': [('girls', 18), ('# girls', 1), ('lena dunham', 3)], 'votes': 22}}\n",
      "{'best film': {'nominees': [], 'presenters': [], 'winner': [('les miserables', 18), ('argo', 2)], 'votes': 20}}\n",
      "{'an award': {'nominees': [('goldenglobes', 1), ('someone', 1), ('hope', 1)], 'presenters': [], 'winner': [('christoph waltz', 2), ('a dowager countess', 1), ('everytime life', 1), ('she', 5), ('who', 2), ('anne hathaway', 2), ('anytime angela chase', 1), ('lena dunham', 2)], 'votes': 19}}\n",
      "{'best actress award': {'nominees': [], 'presenters': [], 'winner': [('jennifer lawrence', 17)], 'votes': 17}}\n",
      "{'best tv drama # goldenglobes': {'nominees': [], 'presenters': [], 'winner': [('goldenglobes', 8), ('winner', 2), ('homeland', 6)], 'votes': 16}}\n",
      "{'best score': {'nominees': [], 'presenters': [], 'winner': [('life', 7), ('canada', 5), ('mychael danna', 2)], 'votes': 14}}\n",
      "{'best foreign language film': {'nominees': [], 'presenters': [], 'winner': [('amour', 11), ('globes', 3)], 'votes': 14}}\n",
      "{'best mini': {'nominees': [], 'presenters': [], 'winner': [('# gamechange', 3), ('game change', 6), ('gamechange', 3), ('goldenglobes game change', 1)], 'votes': 13}}\n",
      "{'best performance': {'nominees': [], 'presenters': [], 'winner': [('julianne moore', 1), ('don cheadle', 3), ('claire danes', 2), ('lena dunham', 3), ('.@lenadunham', 2), ('hugh jackman', 1), ('daniel day lewis', 1)], 'votes': 13}}\n",
      "{\"best winner 's reaction # goldenglobes\": {'nominees': [], 'presenters': [], 'winner': [('adele', 13)], 'votes': 13}}\n",
      "{'best foreign film': {'nominees': [], 'presenters': [], 'winner': [('amour', 10)], 'votes': 13}}\n",
      "{'best actor motion picture': {'nominees': [], 'presenters': [], 'winner': [('hugh jackman', 1), ('daniel day lewis', 12)], 'votes': 13}}\n",
      "{'best tv series drama # goldenglobes': {'nominees': [('homeland', 4)], 'presenters': [], 'winner': [('homeland', 6), ('fuckyeah # homeland', 1), ('# homeland', 1)], 'votes': 12}}\n",
      "{'best actress motion picture': {'nominees': [], 'presenters': [], 'winner': [('jenniferlawrence', 11), ('goldenglobes jennifer lawrence', 1)], 'votes': 12}}\n",
      "{'best motion picture screenplay': {'nominees': [], 'presenters': [], 'winner': [('quentin tarantino', 12)], 'votes': 12}}\n",
      "{'the award': {'nominees': [], 'presenters': [], 'winner': [('christoph waltz', 1), ('jennifer lopez', 1), ('adele', 2), ('anne hathaway', 1), ('jodie foster', 4), ('lena dunham', 1), ('hugh jackman', 1)], 'votes': 11}}\n",
      "{'best tv drama': {'nominees': [], 'presenters': [], 'winner': [('# homeland', 3), ('homeland', 3), ('none', 5)], 'votes': 11}}\n",
      "{'best actor who did not': {'nominees': [], 'presenters': [], 'winner': [('bill clinton', 10)], 'votes': 10}}\n",
      "{'best tv movie': {'nominees': [], 'presenters': [], 'winner': [('game change', 6), ('the palin thing', 1), ('hbo', 2)], 'votes': 9}}\n",
      "{'best tv drama series': {'nominees': [], 'presenters': [], 'winner': [('# homeland', 1), ('homeland', 8)], 'votes': 9}}\n",
      "{'best original score': {'nominees': [], 'presenters': [], 'winner': [('lifeofpie', 1), ('goldenglobes life', 2), ('life', 2), ('michael danna', 1), ('skyfall', 1), ('# argo', 1)], 'votes': 8}}\n",
      "{'best musical': {'nominees': [], 'presenters': [], 'winner': [('# girls', 1), ('les miserables', 3), ('# lesmiserables', 1), ('# lesmis', 2), ('les mis', 1)], 'votes': 8}}\n",
      "{'best television series': {'nominees': [], 'presenters': [], 'winner': [('homeland', 6), ('girls', 1)], 'votes': 7}}\n",
      "{'best best television comedy': {'nominees': [], 'presenters': [], 'winner': [('# girls', 7)], 'votes': 7}}\n",
      "{'best movie': {'nominees': [], 'presenters': [], 'winner': [('linings', 1), ('movie', 1), ('whohoooo # jenniferlawrence', 1), ('yay', 1), ('# argo', 1), ('les miserables', 1)], 'votes': 6}}\n",
      "{'best part': {'nominees': [], 'presenters': [], 'winner': [('everybody', 1), ('people', 1), ('thing', 3), ('leo', 1)], 'votes': 6}}\n",
      "{'best original screenplay': {'nominees': [], 'presenters': [], 'winner': [('fuck yes quentin tarantino', 1), ('quentin tarantino', 4), ('quentin', 1)], 'votes': 6}}\n",
      "{'best animated film # goldenglobes': {'nominees': [], 'presenters': [], 'winner': [('brave', 6)], 'votes': 6}}\n",
      "{'best motion picture drama': {'nominees': [], 'presenters': [], 'winner': [('argo', 4), ('# argo', 2)], 'votes': 6}}\n",
      "{'golden globe award': {'nominees': [], 'presenters': [], 'winner': [('canadian', 5)], 'votes': 5}}\n",
      "{'the first award': {'nominees': [], 'presenters': [], 'winner': [('christoph waltz', 2), ('django', 1), ('i', 1)], 'votes': 4}}\n",
      "{'first award': {'nominees': [], 'presenters': [], 'winner': [('christoph waltz', 4)], 'votes': 4}}\n",
      "{'best show': {'nominees': [], 'presenters': [], 'winner': [('damian lewis', 1), ('ooooo # homeland', 1), ('something', 2)], 'votes': 4}}\n",
      "{'best actress comedy': {'nominees': [], 'presenters': [], 'winner': [('jennifer lawrence', 4)], 'votes': 4}}\n",
      "{'golden globes. no award': {'nominees': [], 'presenters': [], 'winner': [('adele', 4)], 'votes': 4}}\n",
      "{'best screenplay for django': {'nominees': [], 'presenters': [], 'winner': [('quentin tarantino', 4)], 'votes': 4}}\n",
      "{'another #goldenglobes award': {'nominees': [], 'presenters': [], 'winner': [('django', 4)], 'votes': 4}}\n",
      "{'cecil b. demille lifetime achievement award': {'nominees': [], 'presenters': [], 'winner': [('jodie foster', 4)], 'votes': 4}}\n",
      "{'best tv comedy': {'nominees': [], 'presenters': [], 'winner': [('# girls', 1), ('# lenadunham', 1)], 'votes': 4}}\n",
      "{'best motion picture comedy': {'nominees': [], 'presenters': [], 'winner': [('# lesmiserables', 2), ('goldenglobes les miserables', 2)], 'votes': 4}}\n",
      "{'best picture drama': {'nominees': [], 'presenters': [], 'winner': [('argo', 3), ('# argo', 1)], 'votes': 4}}\n",
      "{'the last award': {'nominees': [], 'presenters': [], 'winner': [('argo', 4)], 'votes': 4}}\n",
      "{'best drama to': {'nominees': [], 'presenters': [], 'winner': [('argo', 4)], 'votes': 4}}\n",
      "{'best facial hair': {'nominees': [], 'presenters': [], 'winner': [('bill murray', 3)], 'votes': 3}}\n",
      "{'every award': {'nominees': [('walter white', 1)], 'presenters': [], 'winner': [('maggie smith', 1), ('he', 1)], 'votes': 3}}\n",
      "{'the leni riefenstahl award': {'nominees': [], 'presenters': [], 'winner': [('katherine bigelow', 3)], 'votes': 3}}\n",
      "{'best miniseries': {'nominees': [('the hour', 1)], 'presenters': [], 'winner': [('game change', 1), ('yay', 1)], 'votes': 3}}\n",
      "{'award': {'nominees': [], 'presenters': [], 'winner': [('maggie smith', 1), ('michael j. fox', 1), ('daniel day - lewis', 1)], 'votes': 3}}\n",
      "{'best tv actress': {'nominees': [], 'presenters': [], 'winner': [('julianne moore', 1), ('lena dunham', 1), ('jack', 1)], 'votes': 3}}\n",
      "{'her #goldenglobes award': {'nominees': [('adele', 3)], 'presenters': [], 'winner': [], 'votes': 3}}\n",
      "{'best actor tv series': {'nominees': [], 'presenters': [], 'winner': [('damien lewis', 1), ('damian lewis', 2)], 'votes': 3}}\n",
      "{'best original song motion picture': {'nominees': [], 'presenters': [], 'winner': [('skyfall', 3)], 'votes': 3}}\n",
      "{'best pic': {'nominees': [('oscar', 1), ('it', 1)], 'presenters': [], 'winner': [('lincoln', 1)], 'votes': 3}}\n",
      "{'best actress motion picture comedy': {'nominees': [], 'presenters': [], 'winner': [('jennifer lawrence', 3)], 'votes': 3}}\n",
      "{'best actress # goldenglobes': {'nominees': [], 'presenters': [], 'winner': [('jennifer lawrence', 1), ('jessica chastain', 1), ('girl', 1)], 'votes': 3}}\n",
      "{'best dressed': {'nominees': [], 'presenters': [], 'winner': [('john krasinski', 1), ('halle berry', 1), ('jessica chastain', 1)], 'votes': 3}}\n",
      "{'best animated film': {'nominees': [], 'presenters': [], 'winner': [('brave', 3)], 'votes': 3}}\n",
      "{'best director award': {'nominees': [], 'presenters': [], 'winner': [('affleck', 1), ('ben affleck', 2)], 'votes': 3}}\n",
      "{'best husband': {'nominees': [], 'presenters': [], 'winner': [('hugh jackmon', 2), ('aaaand hugh jackman', 1)], 'votes': 3}}\n",
      "{'best lead actor': {'nominees': [], 'presenters': [], 'winner': [('daniel day lewis', 3)], 'votes': 3}}\n",
      "{'best motion picture # goldenglobes': {'nominees': [], 'presenters': [], 'winner': [('argo', 2), ('# argo', 1)], 'votes': 3}}\n",
      "{'best dramatic picture': {'nominees': [], 'presenters': [], 'winner': [('argo', 1), ('# argo', 2)], 'votes': 3}}\n",
      "{'best motion picture drama # goldenglobes': {'nominees': [], 'presenters': [], 'winner': [('argo', 2), ('# argo', 1)], 'votes': 3}}\n",
      "{'best # actor # drama': {'nominees': [], 'presenters': [], 'winner': [('#', 3)], 'votes': 3}}\n",
      "{'best speech': {'nominees': [], 'presenters': [], 'winner': [('she', 1), ('jennifer lawrence', 1)], 'votes': 2}}\n",
      "{'best tv mini series': {'nominees': [], 'presenters': [], 'winner': [('game change', 2)], 'votes': 2}}\n",
      "{'best drama series': {'nominees': [], 'presenters': [], 'winner': [('homeland', 2)], 'votes': 2}}\n",
      "{'best original score # goldenglobes': {'nominees': [], 'presenters': [], 'winner': [('life', 2)], 'votes': 2}}\n",
      "{'best acceptance speech': {'nominees': [], 'presenters': [], 'winner': [('adele', 2)], 'votes': 2}}\n",
      "{'best gauze bandage': {'nominees': [], 'presenters': [], 'winner': [('amanda seyfried', 1), ('lolol amanda seyfried', 1)], 'votes': 2}}\n",
      "{'best actor comedy': {'nominees': [], 'presenters': [], 'winner': [('don cheadle', 1), ('hugh jackman', 1)], 'votes': 2}}\n",
      "{'best facial hair # goldenglobes': {'nominees': [], 'presenters': [], 'winner': [('billy murray', 1), ('bill murray', 1)], 'votes': 2}}\n",
      "{'best foreign film # goldenglobes': {'nominees': [], 'presenters': [], 'winner': [('# amour', 2)], 'votes': 2}}\n",
      "{'one more award': {'nominees': [], 'presenters': [], 'winner': [('amour', 2)], 'votes': 2}}\n",
      "{'best actress tv series- drama': {'nominees': [], 'presenters': [], 'winner': [('# clairedanes', 2)], 'votes': 2}}\n",
      "{'best tv drama actress': {'nominees': [], 'presenters': [], 'winner': [('claire danes', 2)], 'votes': 2}}\n",
      "{'best animated feature': {'nominees': [], 'presenters': [], 'winner': [('brave', 2)], 'votes': 2}}\n",
      "{'best tv comedy actress': {'nominees': [], 'presenters': [], 'winner': [('lena dunham', 2)], 'votes': 2}}\n",
      "{'an extremely deserved honorary cecille b. demille award': {'nominees': [], 'presenters': [], 'winner': [('jodie foster', 2)], 'votes': 2}}\n",
      "{'best director # goldenglobes': {'nominees': [], 'presenters': [], 'winner': [('idiocy of # oscarnoms affleck', 2)], 'votes': 2}}\n",
      "{'best director prize': {'nominees': [], 'presenters': [], 'winner': [('ben affleck', 2)], 'votes': 2}}\n",
      "{'the big award': {'nominees': [], 'presenters': [], 'winner': [('les miz', 1), ('argo', 1)], 'votes': 2}}\n",
      "{'best picture comedy': {'nominees': [], 'presenters': [], 'winner': [('les miserables', 2)], 'votes': 2}}\n",
      "{'best is when': {'nominees': [], 'presenters': [], 'winner': [('the underdog', 2)], 'votes': 2}}\n",
      "{'best drama motion picture # goldenglobes': {'nominees': [], 'presenters': [], 'winner': [('argo', 2)], 'votes': 2}}\n",
      "{'best movie drama': {'nominees': [], 'presenters': [], 'winner': [('# argo', 1), ('argo', 1)], 'votes': 2}}\n",
      "{'the cecil b. demille award': {'nominees': [], 'presenters': [], 'winner': [('chris tucker', 1), ('jodie foster', 1)], 'votes': 2}}\n",
      "{'best personality': {'nominees': [], 'presenters': [], 'winner': [('dustin hoffman', 1)], 'votes': 1}}\n",
      "{'the beard award': {'nominees': [], 'presenters': [], 'winner': [('bill murray', 1)], 'votes': 1}}\n",
      "{\"it's first award\": {'nominees': [], 'presenters': [], 'winner': [('django', 1)], 'votes': 1}}\n",
      "{'best actor alive': {'nominees': [], 'presenters': [], 'winner': [('the actor', 1)], 'votes': 1}}\n",
      "{'supporting actress, foreigners living in america give award': {'nominees': [], 'presenters': [], 'winner': [('maggie smith', 1)], 'votes': 1}}\n",
      "{'a well deserved award': {'nominees': [], 'presenters': [], 'winner': [('christoph waltz', 1)], 'votes': 1}}\n",
      "{'best miniseries/ tv movie': {'nominees': [], 'presenters': [], 'winner': [('game change', 1)], 'votes': 1}}\n",
      "{'special award': {'nominees': [], 'presenters': [], 'winner': [('yoshiki', 1)], 'votes': 1}}\n",
      "{'best supp': {'nominees': [], 'presenters': [], 'winner': [('christoph waltz', 1)], 'votes': 1}}\n",
      "{'best mini series/ tv movie': {'nominees': [], 'presenters': [], 'winner': [('goldenglobes game change', 1)], 'votes': 1}}\n",
      "{'best miniseries # goldenglobes': {'nominees': [], 'presenters': [], 'winner': [('game change', 1)], 'votes': 1}}\n",
      "{'best mini series': {'nominees': [], 'presenters': [], 'winner': [('game change', 1)], 'votes': 1}}\n",
      "{'best tv miniseries': {'nominees': [], 'presenters': [], 'winner': [('game change', 1)], 'votes': 1}}\n",
      "{'best life': {'nominees': [], 'presenters': [], 'winner': [('bill murray', 1)], 'votes': 1}}\n",
      "{'best tv movie # goldenglobes': {'nominees': [('game change', 1)], 'presenters': [], 'winner': [], 'votes': 1}}\n",
      "{'the sassy stereotype in the most overrated sitcom ever award': {'nominees': [], 'presenters': [], 'winner': [('the latina lady', 1)], 'votes': 1}}\n",
      "{'best tux': {'nominees': [], 'presenters': [], 'winner': [('ben affleck', 1)], 'votes': 1}}\n",
      "{'best exotic marigold hotel wins': {'nominees': [('none', 1)], 'presenters': [], 'winner': [], 'votes': 1}}\n",
      "{'best actor drama': {'nominees': [], 'presenters': [], 'winner': [('damien lewis', 1)], 'votes': 1}}\n",
      "{'a gold sphere trophy': {'nominees': [('steven booshemmy', 1)], 'presenters': [], 'winner': [], 'votes': 1}}\n",
      "{'best tv series drama': {'nominees': [], 'presenters': [], 'winner': [('homeland', 1)], 'votes': 1}}\n",
      "{'best drama tv': {'nominees': [], 'presenters': [], 'winner': [('homeland', 1)], 'votes': 1}}\n",
      "{'best series': {'nominees': [], 'presenters': [], 'winner': [('# homeland', 1)], 'votes': 1}}\n",
      "{'best something': {'nominees': [], 'presenters': [], 'winner': [('homeland', 1)], 'votes': 1}}\n",
      "{'best telelvision series': {'nominees': [], 'presenters': [], 'winner': [('homeland', 1)], 'votes': 1}}\n",
      "{'best well': {'nominees': [], 'presenters': [], 'winner': [('homeland', 1)], 'votes': 1}}\n",
      "{'best dress': {'nominees': [('jennifer lawrence', 1)], 'presenters': [], 'winner': [], 'votes': 1}}\n",
      "{'best american accent': {'nominees': [], 'presenters': [], 'winner': [('# goldenglobes', 1)], 'votes': 1}}\n",
      "{'best score category': {'nominees': [], 'presenters': [], 'winner': [('favorite', 1)], 'votes': 1}}\n",
      "{'best soundtrack score': {'nominees': [], 'presenters': [], 'winner': [('who', 1)], 'votes': 1}}\n",
      "{'best bond theme': {'nominees': [], 'presenters': [], 'winner': [('adele', 1)], 'votes': 1}}\n",
      "{'best bond song ever': {'nominees': [], 'presenters': [], 'winner': [('skyfall', 1)], 'votes': 1}}\n",
      "{'best acceptance speeches': {'nominees': [], 'presenters': [], 'winner': [('skyfall', 1)], 'votes': 1}}\n",
      "{'best song # goldenglobes # adel': {'nominees': [], 'presenters': [], 'winner': [('skyfall', 1)], 'votes': 1}}\n",
      "{'best wins': {'nominees': [], 'presenters': [], 'winner': [('goldenglobes', 1)], 'votes': 1}}\n",
      "{'best song #': {'nominees': [], 'presenters': [], 'winner': [('adele', 1)], 'votes': 1}}\n",
      "{\"best loser 's reaction\": {'nominees': [], 'presenters': [], 'winner': [('taylor swift', 1)], 'votes': 1}}\n",
      "{'best tv drama is': {'nominees': [], 'presenters': [], 'winner': [('none', 1)], 'votes': 1}}\n",
      "{'best acceptance speech so far # goldenglobes': {'nominees': [], 'presenters': [], 'winner': [('adele', 1)], 'votes': 1}}\n",
      "{\"best original song w/ ' skyfall\": {'nominees': [], 'presenters': [], 'winner': [('adele', 1)], 'votes': 1}}\n",
      "{'best speech so far': {'nominees': [], 'presenters': [], 'winner': [('adele', 1)], 'votes': 1}}\n",
      "{'a #goldenglobes award': {'nominees': [], 'presenters': [], 'winner': [('adele', 1)], 'votes': 1}}\n",
      "{'best necklace': {'nominees': [], 'presenters': [], 'winner': [('jessica alba', 1)], 'votes': 1}}\n",
      "{'best # animatedfeature someone will get': {'nominees': [], 'presenters': [], 'winner': [('# riseoftheguardians', 1)], 'votes': 1}}\n",
      "{'best animation golden globes': {'nominees': [], 'presenters': [], 'winner': [('who', 1)], 'votes': 1}}\n",
      "{'an acting award': {'nominees': [], 'presenters': [], 'winner': [('kevin costner', 1)], 'votes': 1}}\n",
      "{'best actor mini series': {'nominees': [], 'presenters': [], 'winner': [('kevin costner', 1)], 'votes': 1}}\n",
      "{'best tv drama # hollywood': {'nominees': [], 'presenters': [], 'winner': [('none', 1)], 'votes': 1}}\n",
      "{'best everything': {'nominees': [], 'presenters': [], 'winner': [('jessica alba', 1)], 'votes': 1}}\n",
      "{'best heist': {'nominees': [], 'presenters': [], 'winner': [('adele', 1)], 'votes': 1}}\n",
      "{'best reaction': {'nominees': [], 'presenters': [], 'winner': [('pimp billy', 1)], 'votes': 1}}\n",
      "{'him an award': {'nominees': [], 'presenters': [], 'winner': [('that', 1)], 'votes': 1}}\n",
      "{'best presenter': {'nominees': [], 'presenters': [], 'winner': [('feral', 1)], 'votes': 1}}\n",
      "{'best facial expression': {'nominees': [], 'presenters': [], 'winner': [('tommy lee jones', 1)], 'votes': 1}}\n",
      "{'best picture award': {'nominees': [('any film', 1)], 'presenters': [], 'winner': [], 'votes': 1}}\n",
      "{'best new actor': {'nominees': [('goatee', 1)], 'presenters': [], 'winner': [], 'votes': 1}}\n",
      "{'best face': {'nominees': [], 'presenters': [], 'winner': [('taylor swift', 1)], 'votes': 1}}\n",
      "{'best beard': {'nominees': [], 'presenters': [], 'winner': [('mandy patinkin', 1)], 'votes': 1}}\n",
      "{'a golden globe award': {'nominees': [], 'presenters': [], 'winner': [('andrew mccutchen', 1)], 'votes': 1}}\n",
      "{'best peter pan haircut': {'nominees': [], 'presenters': [], 'winner': [('anne hathaway', 1)], 'votes': 1}}\n",
      "{'best eight year old boy': {'nominees': [], 'presenters': [], 'winner': [('anne hathaway', 1)], 'votes': 1}}\n",
      "{'best # supportingactress # lesmiserables # 4thtake # goldenglobes': {'nominees': [], 'presenters': [], 'winner': [('anne hathaway', 1)], 'votes': 1}}\n",
      "{'the #goldenglobes award': {'nominees': [], 'presenters': [], 'winner': [('anne hathaway', 1)], 'votes': 1}}\n",
      "{'another award': {'nominees': [], 'presenters': [], 'winner': [('game change', 1)], 'votes': 1}}\n",
      "{'best actor miniseries': {'nominees': [], 'presenters': [], 'winner': [('kevin costner', 1)], 'votes': 1}}\n",
      "{'#bestsupportingactress #goldenglobes lucky cow got to snog batman &amp; won an award': {'nominees': [], 'presenters': [], 'winner': [('anne hathaway', 1)], 'votes': 1}}\n",
      "{'best writer': {'nominees': [], 'presenters': [], 'winner': [('tarantino', 1)], 'votes': 1}}\n",
      "{'best screenplay # goldenglobes': {'nominees': [], 'presenters': [], 'winner': [('django unchained', 1)], 'votes': 1}}\n",
      "{'best screenplay well': {'nominees': [], 'presenters': [], 'winner': [('quentin tarantino', 1)], 'votes': 1}}\n",
      "{'screenplay award': {'nominees': [], 'presenters': [], 'winner': [('quentin tarantino', 1)], 'votes': 1}}\n",
      "{'best original screenplay # goldenglobes # django': {'nominees': [], 'presenters': [], 'winner': [('quentin tarantino', 1)], 'votes': 1}}\n",
      "{'best # television comedy': {'nominees': [], 'presenters': [], 'winner': [('don cheadle', 1)], 'votes': 1}}\n",
      "{'best actor tv comedy series': {'nominees': [], 'presenters': [], 'winner': [('don cheadle', 1)], 'votes': 1}}\n",
      "{'the token black award': {'nominees': [], 'presenters': [], 'winner': [('don cheadle', 1)], 'votes': 1}}\n",
      "{'best foreign language film # goldenglobes': {'nominees': [], 'presenters': [], 'winner': [('amour', 1)], 'votes': 1}}\n",
      "{'the foreign film award': {'nominees': [('goldenglobes amour', 1)], 'presenters': [], 'winner': [], 'votes': 1}}\n",
      "{'best foreign language # film # goldenglobes': {'nominees': [], 'presenters': [], 'winner': [('amour', 1)], 'votes': 1}}\n",
      "{'best drama tv actress': {'nominees': [], 'presenters': [], 'winner': [('claire danes', 1)], 'votes': 1}}\n",
      "{'best actess': {'nominees': [], 'presenters': [], 'winner': [('claire danes', 1)], 'votes': 1}}\n",
      "{'too!! i love how her last award': {'nominees': [], 'presenters': [], 'winner': [('claire danes', 1)], 'votes': 1}}\n",
      "{'best actress #': {'nominees': [], 'presenters': [], 'winner': [('claire danes', 1)], 'votes': 1}}\n",
      "{'best actress # bollywood': {'nominees': [], 'presenters': [], 'winner': [('globes jennifer lawrence', 1)], 'votes': 1}}\n",
      "{'best actress tv': {'nominees': [], 'presenters': [], 'winner': [('claire danes', 1)], 'votes': 1}}\n",
      "{'best animated feature film': {'nominees': [], 'presenters': [], 'winner': [('the archery lady', 1)], 'votes': 1}}\n",
      "{'best moments': {'nominees': [], 'presenters': [], 'winner': [('none', 1)], 'votes': 1}}\n",
      "{'best weed backstage': {'nominees': [], 'presenters': [], 'winner': [('# azizansari', 1)], 'votes': 1}}\n",
      "{'best actress is': {'nominees': [], 'presenters': [], 'winner': [('lena dunham', 1)], 'votes': 1}}\n",
      "{'best seat': {'nominees': [], 'presenters': [], 'winner': [('amy', 1)], 'votes': 1}}\n",
      "{'best hosts ever': {'nominees': [], 'presenters': [], 'winner': [('globes', 1)], 'votes': 1}}\n",
      "{'best tv series actress': {'nominees': [], 'presenters': [], 'winner': [('lena dunham', 1)], 'votes': 1}}\n",
      "{'important award': {'nominees': [], 'presenters': [], 'winner': [('star lena dunham', 1)], 'votes': 1}}\n",
      "{'best cleavage award': {'nominees': [], 'presenters': [], 'winner': [('she', 1)], 'votes': 1}}\n",
      "{'best speech writer': {'nominees': [], 'presenters': [], 'winner': [('mel gibson', 1)], 'votes': 1}}\n",
      "{'best wife': {'nominees': [], 'presenters': [], 'winner': [('ben affleck', 1)], 'votes': 1}}\n",
      "{'best movies i ve': {'nominees': [('life', 1)], 'presenters': [], 'winner': [], 'votes': 1}}\n",
      "{'best film director': {'nominees': [], 'presenters': [], 'winner': [('ben affleck', 1)], 'votes': 1}}\n",
      "{'best recovery': {'nominees': [], 'presenters': [], 'winner': [('ben affleck', 1)], 'votes': 1}}\n",
      "{'best director # goldenglobes yet was': {'nominees': [], 'presenters': [], 'winner': [('ben # affleck', 1)], 'votes': 1}}\n",
      "{'the pretty award': {'nominees': [], 'presenters': [], 'winner': [('jennifer gardner', 1)], 'votes': 1}}\n",
      "{'lifetime achievement award': {'nominees': [], 'presenters': [], 'winner': [('jodie foster', 1)], 'votes': 1}}\n",
      "{'best actor # goldenglobes': {'nominees': [], 'presenters': [], 'winner': [('ben affleck', 1)], 'votes': 1}}\n",
      "{'the #goldenglobes director award': {'nominees': [], 'presenters': [], 'winner': [('ha', 1)], 'votes': 1}}\n",
      "{'best # television comedy # goldenglobes': {'nominees': [], 'presenters': [], 'winner': [('girls', 1)], 'votes': 1}}\n",
      "{'again a #goldenglobes award': {'nominees': [], 'presenters': [], 'winner': [('girls', 1)], 'votes': 1}}\n",
      "{'best television show musical': {'nominees': [], 'presenters': [], 'winner': [('xoxoxoxo', 1)], 'votes': 1}}\n",
      "{'best tv series -comedy': {'nominees': [], 'presenters': [], 'winner': [('girls', 1)], 'votes': 1}}\n",
      "{'best tv series comedy': {'nominees': [], 'presenters': [], 'winner': [('girls', 1)], 'votes': 1}}\n",
      "{'best drama tv series': {'nominees': [], 'presenters': [], 'winner': [('homeland', 1)], 'votes': 1}}\n",
      "{'best comedy # parforthecourse # goldenglobes': {'nominees': [], 'presenters': [], 'winner': [('a show', 1)], 'votes': 1}}\n",
      "{'best comedy tv series': {'nominees': [], 'presenters': [], 'winner': [('girls', 1)], 'votes': 1}}\n",
      "{'best director # goldenglobes #': {'nominees': [], 'presenters': [], 'winner': [('ben affleck', 1)], 'votes': 1}}\n",
      "{'best actress tv drama': {'nominees': [], 'presenters': [], 'winner': [('claire danes', 1)], 'votes': 1}}\n",
      "{'the husband award': {'nominees': [], 'presenters': [], 'winner': [('hugh jackman', 1)], 'votes': 1}}\n",
      "{'best motion picture movie': {'nominees': [('none', 1)], 'presenters': [], 'winner': [], 'votes': 1}}\n",
      "{'the hottest human being alive award': {'nominees': [], 'presenters': [], 'winner': [('bradley cooper', 1)], 'votes': 1}}\n",
      "{\"best actress i ' m\": {'nominees': [], 'presenters': [], 'winner': [('chastain', 1)], 'votes': 1}}\n",
      "{'comedy/musical award': {'nominees': [], 'presenters': [], 'winner': [('les mis', 1)], 'votes': 1}}\n",
      "{'best picture musical': {'nominees': [], 'presenters': [], 'winner': [('les miserables', 1)], 'votes': 1}}\n",
      "{'best movie comedy': {'nominees': [], 'presenters': [], 'winner': [('awesome les miserables', 1)], 'votes': 1}}\n",
      "{'best comedy # goldenglobes': {'nominees': [], 'presenters': [], 'winner': [('les miserables', 1)], 'votes': 1}}\n",
      "{'best directorial erasure': {'nominees': [], 'presenters': [], 'winner': [('ben affleck', 1)], 'votes': 1}}\n",
      "{'all the freaking awards. gosh ... moonrise kingdom deserved an award': {'nominees': [], 'presenters': [], 'winner': [('moonrise kingdom', 1)], 'votes': 1}}\n",
      "{'best picture oscar race is pretty much f****ed': {'nominees': [], 'presenters': [], 'winner': [('affleck', 1)], 'votes': 1}}\n",
      "{'best kanye interruption': {'nominees': [], 'presenters': [], 'winner': [('anne hathaway', 1)], 'votes': 1}}\n",
      "{'best director globe': {'nominees': [], 'presenters': [], 'winner': [('affleck', 1)], 'votes': 1}}\n",
      "{'best actress drama # goldenglobes': {'nominees': [], 'presenters': [], 'winner': [('jessica chastain', 1)], 'votes': 1}}\n",
      "{'best bipartisan freak': {'nominees': [], 'presenters': [], 'winner': [('jessica chastain', 1)], 'votes': 1}}\n",
      "{'best musical picture': {'nominees': [], 'presenters': [], 'winner': [('lesmiz movie', 1)], 'votes': 1}}\n",
      "{'best actor- drama': {'nominees': [], 'presenters': [], 'winner': [('best actor- drama', 1)], 'votes': 1}}\n",
      "{'the most excellent human being award': {'nominees': [], 'presenters': [], 'winner': [('jessica chastain', 1)], 'votes': 1}}\n",
      "{'best foreign language film # hollywood': {'nominees': [], 'presenters': [], 'winner': [('amour', 1)], 'votes': 1}}\n",
      "{'best award speech': {'nominees': [], 'presenters': [], 'winner': [('day lewis', 1)], 'votes': 1}}\n",
      "{'#goldenglobes award': {'nominees': [], 'presenters': [], 'winner': [('adele', 1)], 'votes': 1}}\n",
      "{'best actor award': {'nominees': [], 'presenters': [], 'winner': [('day lewis', 1)], 'votes': 1}}\n",
      "{'best actor motion picture drama': {'nominees': [], 'presenters': [], 'winner': [('daniel day lewis', 1)], 'votes': 1}}\n",
      "{'best motiion picture': {'nominees': [], 'presenters': [], 'winner': [('argo', 1)], 'votes': 1}}\n",
      "{'best picture -drama': {'nominees': [], 'presenters': [], 'winner': [('argo', 1)], 'votes': 1}}\n",
      "{'best drama movie': {'nominees': [], 'presenters': [], 'winner': [('argo', 1)], 'votes': 1}}\n",
      "{'best motion picture drama #': {'nominees': [], 'presenters': [], 'winner': [('argo', 1)], 'votes': 1}}\n",
      "{'best picture- drama': {'nominees': [], 'presenters': [], 'winner': [('argo', 1)], 'votes': 1}}\n",
      "{'best surprised face when he': {'nominees': [], 'presenters': [], 'winner': [('he', 1)], 'votes': 1}}\n",
      "{'best drama i': {'nominees': [], 'presenters': [], 'winner': [('# argo', 1)], 'votes': 1}}\n",
      "{\"best motion picture drama yet it was n't\": {'nominees': [], 'presenters': [], 'winner': [('argo', 1)], 'votes': 1}}\n",
      "{'best picture # goldenglobes': {'nominees': [], 'presenters': [], 'winner': [('argo', 1)], 'votes': 1}}\n",
      "{'best film drama # goldenglobes': {'nominees': [], 'presenters': [], 'winner': [('argo', 1)], 'votes': 1}}\n",
      "{'the academy award': {'nominees': [('it', 1)], 'presenters': [], 'winner': [], 'votes': 1}}\n",
      "{'best drama # golden globes what': {'nominees': [], 'presenters': [], 'winner': [('argo', 1)], 'votes': 1}}\n",
      "{'best school': {'nominees': [], 'presenters': [], 'winner': [('gandhi school', 1)], 'votes': 1}}\n",
      "{'best drama film': {'nominees': [], 'presenters': [], 'winner': [('argo', 1)], 'votes': 1}}\n",
      "{'best awards': {'nominees': [('amy', 1)], 'presenters': [], 'winner': [], 'votes': 1}}\n",
      "{'best hollywood movie': {'nominees': [], 'presenters': [], 'winner': [('argo', 1)], 'votes': 1}}\n",
      "{'best original song motion picture golden globes 2013': {'nominees': [], 'presenters': [], 'winner': [('adele', 1)], 'votes': 1}}\n",
      "{'the prize': {'nominees': [], 'presenters': [], 'winner': [('jon hamm', 1)], 'votes': 1}}\n",
      "{'best tv drama # f4f': {'nominees': [], 'presenters': [], 'winner': [('none', 1)], 'votes': 1}}\n",
      "{'the original screenplay award': {'nominees': [], 'presenters': [], 'winner': [('quentin tarantino', 1)], 'votes': 1}}\n",
      "{'for tv comedy/musical - hbo&amp;rsquo;s &amp;ldquo;girls&amp;rdquo; won a golden globe award': {'nominees': [], 'presenters': [], 'winner': [('globes', 1)], 'votes': 1}}\n"
     ]
    }
   ],
   "source": [
    "top_awards = dict(sorted(awards_list.items(), key=lambda item: item[1].votes, reverse=True))\n",
    "\n",
    "for i in top_awards:\n",
    "    print(top_awards[i].output())"
   ]
  },
  {
   "cell_type": "markdown",
   "metadata": {},
   "source": [
    "### How to aggregate award data \n",
    "\n",
    "Top award -> bottom\n",
    "1) Grab names from most popular award\n",
    "2) Find next-closest award name in the dictionary\n",
    "3) Cross-check winners, nominees and presenters --- if similar, move all from old award to new\n",
    "4) Recalculate dictionary and repeat"
   ]
  },
  {
   "cell_type": "code",
   "execution_count": null,
   "metadata": {},
   "outputs": [
    {
     "name": "stdout",
     "output_type": "stream",
     "text": [
      "Next closest element after 'best actor' is 'best supporting actor' with 35 votes.\n"
     ]
    }
   ],
   "source": []
  },
  {
   "cell_type": "code",
   "execution_count": 68,
   "metadata": {},
   "outputs": [
    {
     "data": {
      "text/plain": [
       "1"
      ]
     },
     "execution_count": 68,
     "metadata": {},
     "output_type": "execute_result"
    }
   ],
   "source": [
    "ex = {\"john\":1, 'adam':2}\n",
    "\n",
    "ex.pop(\"john\")"
   ]
  },
  {
   "cell_type": "code",
   "execution_count": null,
   "metadata": {},
   "outputs": [],
   "source": [
    "# function to move data from one award to another\n",
    "def move_data(a1: award, a2:award):\n",
    "    win_temp = a1.winner.keys()\n",
    "    nom_temp = a1.nominees.keys()\n",
    "    pres_temp = a1.presenters.keys()\n",
    "    for w in win_temp:\n",
    "        if a2.contains(w, \"winner\"):\n",
    "            name, role, pcount = a1.remove_person(w, \"winner\")\n",
    "            a2.new_person(name, role, pcount)\n",
    "    for n in nom_temp:\n",
    "        if a2.contains(n, \"nominee\"):\n",
    "            name, role, pcount = a1.remove_person(n, \"nominee\")\n",
    "            a2.new_person(name, role, pcount)\n",
    "    for p in pres_temp:\n",
    "        if a2.contains(p, \"presenters\"):\n",
    "            name, role, pcount = a1.remove_person(p, \"presenters\")\n",
    "            a2.new_person(name, role, pcount)"
   ]
  },
  {
   "cell_type": "code",
   "execution_count": 74,
   "metadata": {},
   "outputs": [],
   "source": [
    "award_1 = top_awards['best actor']\n",
    "award_2 = top_awards['best actor motion picture drama']"
   ]
  },
  {
   "cell_type": "code",
   "execution_count": 75,
   "metadata": {},
   "outputs": [
    {
     "data": {
      "text/plain": [
       "{'best actor motion picture drama': {'nominees': [],\n",
       "  'presenters': [],\n",
       "  'winner': [('daniel day lewis', 90)],\n",
       "  'votes': 90}}"
      ]
     },
     "execution_count": 75,
     "metadata": {},
     "output_type": "execute_result"
    }
   ],
   "source": [
    "award_2.output()"
   ]
  },
  {
   "cell_type": "code",
   "execution_count": 76,
   "metadata": {},
   "outputs": [
    {
     "data": {
      "text/plain": [
       "{'best actor motion picture drama': {'nominees': [],\n",
       "  'presenters': [],\n",
       "  'winner': [('daniel day lewis', 90)],\n",
       "  'votes': 90}}"
      ]
     },
     "execution_count": 76,
     "metadata": {},
     "output_type": "execute_result"
    }
   ],
   "source": [
    "move_data(award_1, award_2)\n",
    "award_2.output()"
   ]
  },
  {
   "cell_type": "code",
   "execution_count": null,
   "metadata": {},
   "outputs": [],
   "source": []
  }
 ],
 "metadata": {
  "kernelspec": {
   "display_name": "gg337",
   "language": "python",
   "name": "python3"
  },
  "language_info": {
   "codemirror_mode": {
    "name": "ipython",
    "version": 3
   },
   "file_extension": ".py",
   "mimetype": "text/x-python",
   "name": "python",
   "nbconvert_exporter": "python",
   "pygments_lexer": "ipython3",
   "version": "3.10.15"
  }
 },
 "nbformat": 4,
 "nbformat_minor": 2
}
