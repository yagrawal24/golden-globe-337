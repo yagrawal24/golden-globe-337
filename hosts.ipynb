{
 "cells": [
  {
   "cell_type": "code",
   "execution_count": 1,
   "metadata": {},
   "outputs": [],
   "source": [
    "import pandas as pd\n",
    "import re\n",
    "from collections import Counter\n",
    "import spacy\n",
    "import wikipediaapi\n",
    "wiki = wikipediaapi.Wikipedia('student_homework')"
   ]
  },
  {
   "cell_type": "code",
   "execution_count": 2,
   "metadata": {},
   "outputs": [],
   "source": [
    "cleaned_data = pd.read_csv('text_cleaned.csv')['text']\n",
    "win_data = pd.read_csv('wins.csv')['text']\n",
    "spacy_data = pd.read_csv('spacy_info.csv')"
   ]
  },
  {
   "cell_type": "code",
   "execution_count": 4,
   "metadata": {},
   "outputs": [],
   "source": [
    "nlp = spacy.load('en_core_web_sm')\n",
    "\n",
    "def extract_person_names(text):\n",
    "    doc = nlp(text)\n",
    "    return [ent.text for ent in doc.ents if ent.label_ == 'PERSON']"
   ]
  },
  {
   "cell_type": "code",
   "execution_count": 14,
   "metadata": {},
   "outputs": [],
   "source": [
    "def extract_and(text):\n",
    "    match = re.match(r\"\\b([A-Z][a-z]+(?: [A-Z][a-z]+)?) and ([A-Z][a-z]+(?: [A-Z][a-z]+)?)\\b\", text)\n",
    "    return match.group(0) if match else None"
   ]
  },
  {
   "cell_type": "code",
   "execution_count": 16,
   "metadata": {},
   "outputs": [],
   "source": [
    "all_pairs = cleaned_data.apply(extract_and).dropna()"
   ]
  },
  {
   "cell_type": "code",
   "execution_count": 17,
   "metadata": {},
   "outputs": [],
   "source": [
    "name_counts = Counter(all_pairs)"
   ]
  },
  {
   "cell_type": "code",
   "execution_count": 32,
   "metadata": {},
   "outputs": [
    {
     "data": {
      "text/plain": [
       "['Tina Fey', 'Amy Poehler']"
      ]
     },
     "execution_count": 32,
     "metadata": {},
     "output_type": "execute_result"
    }
   ],
   "source": [
    "name_counts.most_common(1)[0][0].split(\" and \")"
   ]
  },
  {
   "cell_type": "code",
   "execution_count": 80,
   "metadata": {},
   "outputs": [
    {
     "name": "stderr",
     "output_type": "stream",
     "text": [
      "C:\\Users\\rockm\\AppData\\Local\\Temp\\ipykernel_12312\\4051002869.py:4: UserWarning: This pattern is interpreted as a regular expression, and has match groups. To actually get the groups, use str.extract.\n",
      "  cleaned_data.str.contains(host_keywords, case=False, na=False)\n"
     ]
    }
   ],
   "source": [
    "host_keywords = r'\\b(host|hosts|hosting)\\b'\n",
    "\n",
    "host_data = cleaned_data[\n",
    "    cleaned_data.str.contains(host_keywords, case=False, na=False)\n",
    "]\n",
    "\n",
    "def extract_person_names(text):\n",
    "    doc = nlp(text)\n",
    "    return [ent.text for ent in doc.ents if ent.label_ == 'PERSON']"
   ]
  },
  {
   "cell_type": "code",
   "execution_count": 81,
   "metadata": {},
   "outputs": [],
   "source": [
    "host_data = host_data[:int(0.05*len(host_data))].apply(extract_person_names)\n",
    "\n",
    "all_names = [name for names_list in host_data for name in names_list]\n",
    "\n",
    "name_counts = Counter(all_names)"
   ]
  },
  {
   "cell_type": "code",
   "execution_count": 85,
   "metadata": {},
   "outputs": [],
   "source": [
    "def lookup_wikipedia(name):\n",
    "   page = wiki.page(name)\n",
    "\n",
    "   if page.exists():\n",
    "      return re.search(\"born\", page.summary, re.IGNORECASE) != None \n",
    "   else:\n",
    "      return False"
   ]
  },
  {
   "cell_type": "code",
   "execution_count": 115,
   "metadata": {},
   "outputs": [],
   "source": [
    "hosts = []\n",
    "\n",
    "i = 1\n",
    "potential = name_counts.most_common()\n",
    "while len(hosts) < 2:\n",
    "    curr = potential[i][0]\n",
    "    if lookup_wikipedia(curr):\n",
    "        hosts.append(curr)\n",
    "    i += 1"
   ]
  },
  {
   "cell_type": "code",
   "execution_count": 116,
   "metadata": {},
   "outputs": [
    {
     "data": {
      "text/plain": [
       "['Amy Poehler', 'Tina Fey']"
      ]
     },
     "execution_count": 116,
     "metadata": {},
     "output_type": "execute_result"
    }
   ],
   "source": [
    "hosts"
   ]
  }
 ],
 "metadata": {
  "kernelspec": {
   "display_name": "gg337",
   "language": "python",
   "name": "python3"
  },
  "language_info": {
   "codemirror_mode": {
    "name": "ipython",
    "version": 3
   },
   "file_extension": ".py",
   "mimetype": "text/x-python",
   "name": "python",
   "nbconvert_exporter": "python",
   "pygments_lexer": "ipython3",
   "version": "3.10.15"
  }
 },
 "nbformat": 4,
 "nbformat_minor": 2
}
