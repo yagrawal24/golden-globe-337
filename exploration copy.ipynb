{
 "cells": [
  {
   "cell_type": "code",
   "execution_count": 1,
   "metadata": {},
   "outputs": [],
   "source": [
    "###\n",
    "### PYTHON PACKAGES\n",
    "###\n",
    "import pandas as pd\n",
    "import re\n",
    "import emoji\n",
    "from ftfy import fix_text \n",
    "import unidecode\n",
    "from langdetect import detect, detect_langs\n",
    "import spacy\n",
    "from spacy import displacy\n",
    "\n",
    "###\n",
    "### USER-DEVELOPED IMPORTS\n",
    "###\n",
    "# from project import *\n",
    "from capture_group import *"
   ]
  },
  {
   "cell_type": "markdown",
   "metadata": {},
   "source": [
    "### New Idea\n",
    "\n",
    "1) loop through cleaned dataframe to find tweets with \"win,\" \"present,\" \"nominate,\" \"best\" (maybe), \"award\" (maybe)\n",
    "2) with a match, get any names"
   ]
  },
  {
   "cell_type": "code",
   "execution_count": 2,
   "metadata": {},
   "outputs": [],
   "source": [
    "cleaned_data = pd.read_csv('text_cleaned.csv')['text']\n",
    "win_data = pd.read_csv('wins.csv')['text']\n",
    "spacy_data = pd.read_csv('spacy_info.csv')"
   ]
  },
  {
   "cell_type": "code",
   "execution_count": 3,
   "metadata": {},
   "outputs": [],
   "source": [
    "spacy_size = 1500"
   ]
  },
  {
   "cell_type": "code",
   "execution_count": 138,
   "metadata": {},
   "outputs": [
    {
     "data": {
      "text/plain": [
       "'Yash | best student | nominee'"
      ]
     },
     "execution_count": 138,
     "metadata": {},
     "output_type": "execute_result"
    }
   ],
   "source": [
    "# win_data.head(50).apply(lambda x: find_award_winner(x))x\n",
    "find_award_winner(\"I hope Yash or Sorie wins best student \")"
   ]
  },
  {
   "cell_type": "code",
   "execution_count": 171,
   "metadata": {},
   "outputs": [],
   "source": [
    "def nominee_search(text):\n",
    "    doc = nlp(text)\n",
    "    \n",
    "    entities = extract_entities(doc)\n",
    "    \n",
    "    gen_patterns = r'(is nominated for|is a nominee for)'\n",
    "    if re.search(gen_patterns, text, re.IGNORECASE):\n",
    "        for ent in entities:\n",
    "            if ent[1] == \"PERSON\":\n",
    "                alleged_winner = ent[0]\n",
    "        \n",
    "        award = extract_award_name_after_best(doc)\n",
    "        \n",
    "        if award != None:\n",
    "            return alleged_winner, award\n",
    "        \n",
    "        word_list = [\"award\", \"prize\", \"honor\", \"medal\", \"trophy\"]\n",
    "        pattern = r\"(\\w+)\\s+\" + gen_patterns + r\"(.*?\\b(?:\" + \"|\".join(re.escape(word) for word in word_list) + r\")\\b)\"\n",
    "        match = re.search(pattern, text, re.IGNORECASE)\n",
    "        \n",
    "        return alleged_winner, match.group(3)"
   ]
  },
  {
   "cell_type": "code",
   "execution_count": 174,
   "metadata": {},
   "outputs": [
    {
     "data": {
      "text/plain": [
       "('Yash', 'best student')"
      ]
     },
     "execution_count": 174,
     "metadata": {},
     "output_type": "execute_result"
    }
   ],
   "source": [
    "nominee_search(\"Yash is a nominee for best student\")"
   ]
  },
  {
   "cell_type": "markdown",
   "metadata": {},
   "source": [
    "### Notes from office hours\n",
    "\n",
    "There may be accounts (i.e. newspapers) that HAVE to post who the nominees are, look through data for that\n",
    "Can use ordering of events (i.e. award A goes Speaker -> Nominees -> Winner)\n",
    "Start by looking at data that has information you know you need\n",
    "Try inputting JSON into ChatGPT and ask it to return tweets where nominees for awards are mentioned\n",
    "Somebody mentioned frequently near mention of an award winner\n",
    "\n",
    "For Spacy, find nsubj+, check IMDB to see if it's actually a movie or actor/actress (if time)\n",
    "\n",
    "Based on award name, can tell if you need a movie or actor / actress / song\n",
    "\n",
    "See what Spacy outputs for \"movie wins x award\"\n"
   ]
  },
  {
   "cell_type": "code",
   "execution_count": 38,
   "metadata": {},
   "outputs": [
    {
     "name": "stdout",
     "output_type": "stream",
     "text": [
      "['@goldenglobes', '@eonline', '@perezhilton', '@theellenshow', '@emwatson', '@vanityfair', '@nbcsnl', '@cnnshowbiz', '@ciudadbizarra', '@ew']\n"
     ]
    }
   ],
   "source": [
    "from itertools import islice\n",
    "\n",
    "account_rts = {}\n",
    "\n",
    "for text in cleaned_data:\n",
    "    tweet = text.split(' ')\n",
    "    if tweet[0] == 'rt':\n",
    "        if tweet[1] in account_rts:\n",
    "            account_rts[tweet[1]] += 1\n",
    "        else:\n",
    "            account_rts.update({tweet[1]:1})\n",
    "\n",
    "account_dicts = dict(sorted(account_rts.items(), key=lambda item: item[1], reverse=True))\n",
    "\n",
    "top_accounts = list(islice(account_dicts, 10))\n",
    "top_accounts\n",
    "\n",
    "print(top_accounts)"
   ]
  },
  {
   "cell_type": "code",
   "execution_count": 33,
   "metadata": {},
   "outputs": [],
   "source": [
    "retweet_pattern = r're\\s' + '|'.join(top_accounts)\n",
    "match = re.search(retweet_pattern, text, re.IGNORECASE)"
   ]
  },
  {
   "cell_type": "code",
   "execution_count": 93,
   "metadata": {},
   "outputs": [],
   "source": [
    "def account_rt(text):\n",
    "    doc = nlp(text)\n",
    "    print(text, \" --- 1\")\n",
    "    \n",
    "    pattern = r're \\s' + '|'.join(top_accounts)\n",
    "    \n",
    "    if re.search(pattern, text, re.IGNORECASE):     \n",
    "        print(text, \" --- 2\")   \n",
    "        return find_award_winner(text)"
   ]
  },
  {
   "cell_type": "code",
   "execution_count": 94,
   "metadata": {},
   "outputs": [],
   "source": [
    "text = \"rt @goldenglobes best screenplay quentin tarantino django unchained\""
   ]
  },
  {
   "cell_type": "code",
   "execution_count": 95,
   "metadata": {},
   "outputs": [
    {
     "name": "stdout",
     "output_type": "stream",
     "text": [
      "rt @goldenglobes best screenplay quentin tarantino django unchained  --- 1\n"
     ]
    }
   ],
   "source": [
    "account_rt(text)"
   ]
  },
  {
   "cell_type": "code",
   "execution_count": 96,
   "metadata": {},
   "outputs": [],
   "source": [
    "df = pd.read_json('gg2013.json')['text']"
   ]
  },
  {
   "cell_type": "code",
   "execution_count": 97,
   "metadata": {},
   "outputs": [
    {
     "data": {
      "text/plain": [
       "'RT @goldenglobes: Best Screenplay - Quentin Tarantino - Django Unchained - #GoldenGlobes'"
      ]
     },
     "execution_count": 97,
     "metadata": {},
     "output_type": "execute_result"
    }
   ],
   "source": [
    "df[102541]"
   ]
  },
  {
   "cell_type": "code",
   "execution_count": 98,
   "metadata": {},
   "outputs": [],
   "source": [
    "nominee_data = cleaned_data[cleaned_data.apply(lambda x: re.search(r'\\b(nominee|nominate|nominated)\\b', x) != None)]\n",
    "\n",
    "nominee_data.to_csv(\"nominees.csv\")"
   ]
  },
  {
   "cell_type": "code",
   "execution_count": 99,
   "metadata": {},
   "outputs": [
    {
     "data": {
      "text/plain": [
       "49        rt @lokipage times we wish good luck tonight t...\n",
       "61        rt @twittermovies nominee @officialadele on th...\n",
       "154       ive seen a grand total of one nominated film s...\n",
       "338       rt @zap2itrick can kerry washington be nominat...\n",
       "505       rt @twittermovies nominee @officialadele on th...\n",
       "                                ...                        \n",
       "173040    rt @jessicacapshaw thank u all for your play b...\n",
       "173059    the were amazing im so happy argo won but i th...\n",
       "173107    rt @oskrnyc \"7 cajas\" should have been nominat...\n",
       "173130    \"@itsjerrah i should be nominated as best acto...\n",
       "173203    rt @mapeel yes should have been nominated for ...\n",
       "Name: text, Length: 1037, dtype: object"
      ]
     },
     "execution_count": 99,
     "metadata": {},
     "output_type": "execute_result"
    }
   ],
   "source": [
    "nominee_data"
   ]
  }
 ],
 "metadata": {
  "kernelspec": {
   "display_name": "gg337",
   "language": "python",
   "name": "python3"
  },
  "language_info": {
   "codemirror_mode": {
    "name": "ipython",
    "version": 3
   },
   "file_extension": ".py",
   "mimetype": "text/x-python",
   "name": "python",
   "nbconvert_exporter": "python",
   "pygments_lexer": "ipython3",
   "version": "3.10.15"
  }
 },
 "nbformat": 4,
 "nbformat_minor": 2
}
