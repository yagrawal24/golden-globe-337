{
 "cells": [
  {
   "cell_type": "code",
   "execution_count": 1,
   "metadata": {},
   "outputs": [
    {
     "ename": "ModuleNotFoundError",
     "evalue": "No module named 'pandas'",
     "output_type": "error",
     "traceback": [
      "\u001b[0;31m---------------------------------------------------------------------------\u001b[0m",
      "\u001b[0;31mModuleNotFoundError\u001b[0m                       Traceback (most recent call last)",
      "Cell \u001b[0;32mIn[1], line 4\u001b[0m\n\u001b[1;32m      1\u001b[0m \u001b[38;5;66;03m###\u001b[39;00m\n\u001b[1;32m      2\u001b[0m \u001b[38;5;66;03m### PYTHON PACKAGES\u001b[39;00m\n\u001b[1;32m      3\u001b[0m \u001b[38;5;66;03m###\u001b[39;00m\n\u001b[0;32m----> 4\u001b[0m \u001b[38;5;28;01mimport\u001b[39;00m \u001b[38;5;21;01mpandas\u001b[39;00m \u001b[38;5;28;01mas\u001b[39;00m \u001b[38;5;21;01mpd\u001b[39;00m\n\u001b[1;32m      5\u001b[0m \u001b[38;5;28;01mimport\u001b[39;00m \u001b[38;5;21;01mre\u001b[39;00m\n\u001b[1;32m      6\u001b[0m \u001b[38;5;28;01mimport\u001b[39;00m \u001b[38;5;21;01memoji\u001b[39;00m\n",
      "\u001b[0;31mModuleNotFoundError\u001b[0m: No module named 'pandas'"
     ]
    }
   ],
   "source": [
    "###\n",
    "### PYTHON PACKAGES\n",
    "###\n",
    "import pandas as pd\n",
    "import re\n",
    "import emoji\n",
    "from ftfy import fix_text \n",
    "import unidecode\n",
    "from langdetect import detect, detect_langs\n",
    "import spacy\n",
    "from spacy import displacy\n",
    "\n",
    "###\n",
    "### USER-DEVELOPED IMPORTS\n",
    "###\n",
    "from project import *\n",
    "from capture_group import *"
   ]
  },
  {
   "cell_type": "markdown",
   "metadata": {},
   "source": [
    "### New Idea\n",
    "\n",
    "1) loop through cleaned dataframe to find tweets with \"win,\" \"present,\" \"nominate,\" \"best\" (maybe), \"award\" (maybe)\n",
    "2) with a match, get any names"
   ]
  },
  {
   "cell_type": "code",
   "execution_count": 263,
   "metadata": {},
   "outputs": [],
   "source": [
    "cleaned_data = pd.read_csv('text_cleaned.csv')['text']\n",
    "win_data = pd.read_csv('wins.csv')['text']\n",
    "spacy_data = pd.read_csv('spacy_info.csv')"
   ]
  },
  {
   "cell_type": "code",
   "execution_count": null,
   "metadata": {},
   "outputs": [],
   "source": [
    "nlp = spacy.load('en_core_web_sm')"
   ]
  },
  {
   "cell_type": "code",
   "execution_count": 250,
   "metadata": {},
   "outputs": [],
   "source": [
    "test_tweet_1 = \"rt @galaxiemag lifetime achievement award winner jodie foster is 50 she has been acting for 47 of those years amazing\"\n",
    "test_tweet_2 = \"christoph waltz wins best supporting actor for django unchained\""
   ]
  },
  {
   "cell_type": "code",
   "execution_count": 252,
   "metadata": {},
   "outputs": [],
   "source": [
    "alleged_winner = \"\"\n",
    "subject = []\n",
    "actual_winner = \"\"\n",
    "\n",
    "nlp = spacy.load('en_core_web_sm')\n",
    "\n",
    "doc = nlp(test_tweet_1)\n",
    "\n",
    "def extract_entities_2(doc):\n",
    "    entities = [(ent.text, ent.label_) for ent in doc.ents]\n",
    "    return entities\n",
    "\n",
    "for ent in extract_entities_2(doc):\n",
    "    if ent[1] == \"PERSON\":\n",
    "        alleged_winner = ent[0]\n",
    "\n",
    "# for token in doc:\n",
    "#     if (token.dep_ == 'nsubj'):\n",
    "#         nsubj = token.text\n",
    "#     elif (token.dep_ == 'dobj'):\n",
    "#         dobj = token.text\n",
    "\n",
    "for token in doc:\n",
    "    # extract subject\n",
    "    if (token.dep_ == 'nsubj'):\n",
    "        subject.append(token.text)"
   ]
  },
  {
   "cell_type": "code",
   "execution_count": 253,
   "metadata": {},
   "outputs": [],
   "source": [
    "def pattern(word, text): \n",
    "    pat = re.compile(re.escape(word), re.IGNORECASE) \n",
    "    return bool(re.search(pat, text))"
   ]
  },
  {
   "cell_type": "code",
   "execution_count": 254,
   "metadata": {},
   "outputs": [
    {
     "name": "stdout",
     "output_type": "stream",
     "text": [
      "christoph waltz\n"
     ]
    }
   ],
   "source": [
    "entities = extract_entities_2(doc)\n",
    "for s in subject:\n",
    "    for e, _ in entities:\n",
    "        if pattern(s, e):\n",
    "            print(e)"
   ]
  },
  {
   "cell_type": "code",
   "execution_count": 255,
   "metadata": {},
   "outputs": [
    {
     "data": {
      "text/plain": [
       "(christoph waltz,)"
      ]
     },
     "execution_count": 255,
     "metadata": {},
     "output_type": "execute_result"
    }
   ],
   "source": [
    "doc.ents"
   ]
  },
  {
   "cell_type": "code",
   "execution_count": 256,
   "metadata": {},
   "outputs": [],
   "source": [
    "nlp = spacy.load('en_core_web_sm')\n",
    "def get_winner(text):\n",
    "    alleged_winner = \"\"\n",
    "    subject = []\n",
    "    actual_winner = \"\"\n",
    "    \n",
    "    doc = nlp(text)\n",
    "    entities = [(ent.text, ent.label_) for ent in doc.ents]\n",
    "    \n",
    "    # return entities\n",
    "    \n",
    "    # for ent in entities:\n",
    "    #     if ent[1] == \"PERSON\":\n",
    "    #         alleged_winner = ent[0]\n",
    "            \n",
    "    for token in doc:\n",
    "        # extract subject\n",
    "        if (token.dep_ == 'nsubj'):\n",
    "            subject.append(token.text)\n",
    "    \n",
    "    entities = extract_entities_2(doc)\n",
    "    for s in subject:\n",
    "        for e, _ in entities:\n",
    "            if pattern(s, e):\n",
    "                return e"
   ]
  },
  {
   "cell_type": "code",
   "execution_count": 257,
   "metadata": {},
   "outputs": [
    {
     "data": {
      "text/plain": [
       "4746"
      ]
     },
     "execution_count": 257,
     "metadata": {},
     "output_type": "execute_result"
    }
   ],
   "source": [
    "len(win_data)"
   ]
  },
  {
   "cell_type": "code",
   "execution_count": 258,
   "metadata": {},
   "outputs": [],
   "source": [
    "spacy_size = 1500"
   ]
  },
  {
   "cell_type": "code",
   "execution_count": 259,
   "metadata": {},
   "outputs": [],
   "source": [
    "test = win_data.head(spacy_size).to_frame()"
   ]
  },
  {
   "cell_type": "code",
   "execution_count": 260,
   "metadata": {},
   "outputs": [],
   "source": [
    "test['spacy'] = win_data.head(spacy_size).apply(get_winner)"
   ]
  },
  {
   "cell_type": "code",
   "execution_count": 206,
   "metadata": {},
   "outputs": [],
   "source": [
    "text = \"golden globe winner damian lewis wins best actor in a tv drama for \"\"homeland \"\n",
    "doc = nlp(text)\n",
    "entities = [(ent.text, ent.label_) for ent in doc.ents]\n",
    "subject = []\n",
    "\n",
    "# for ent in entities:\n",
    "#     if ent[1] == \"PERSON\":\n",
    "#         alleged_winner = ent[0]\n",
    "        \n",
    "for token in doc:\n",
    "    # extract subject\n",
    "    # if (token.dep_ == 'nsubj'):\n",
    "    print(token, token.dep_)\n",
    "\n",
    "subject "
   ]
  },
  {
   "cell_type": "code",
   "execution_count": 207,
   "metadata": {},
   "outputs": [],
   "source": [
    "nom_data = cleaned_data[cleaned_data.apply(lambda x: re.search('(nominee|nominate|nominated|nominees)', x) != None)]"
   ]
  },
  {
   "cell_type": "code",
   "execution_count": 208,
   "metadata": {},
   "outputs": [
    {
     "data": {
      "text/plain": [
       "49        rt @lokipage times we wish good luck tonight t...\n",
       "61        rt @twittermovies nominee @officialadele on th...\n",
       "154       ive seen a grand total of one nominated film s...\n",
       "338       rt @zap2itrick can kerry washington be nominat...\n",
       "505       rt @twittermovies nominee @officialadele on th...\n",
       "                                ...                        \n",
       "173059    the were amazing im so happy argo won but i th...\n",
       "173107    rt @oskrnyc \"7 cajas\" should have been nominat...\n",
       "173130    \"@itsjerrah i should be nominated as best acto...\n",
       "173172    congrats to all the 2013 golden globes winners...\n",
       "173203    rt @mapeel yes should have been nominated for ...\n",
       "Name: text, Length: 1385, dtype: object"
      ]
     },
     "execution_count": 208,
     "metadata": {},
     "output_type": "execute_result"
    }
   ],
   "source": [
    "nom_data"
   ]
  },
  {
   "cell_type": "code",
   "execution_count": 217,
   "metadata": {},
   "outputs": [
    {
     "data": {
      "text/plain": [
       "0     {'winner': None, 'nominees': None, 'presenters...\n",
       "1     {'winner': None, 'nominees': None, 'presenters...\n",
       "2     {'winner': None, 'nominees': None, 'presenters...\n",
       "3     {'winner': None, 'nominees': None, 'presenters...\n",
       "4     {'winner': None, 'nominees': None, 'presenters...\n",
       "5     {'winner': None, 'nominees': None, 'presenters...\n",
       "6     {'winner': None, 'nominees': None, 'presenters...\n",
       "7     {'winner': None, 'nominees': None, 'presenters...\n",
       "8     {'winner': None, 'nominees': None, 'presenters...\n",
       "9     {'winner': None, 'nominees': None, 'presenters...\n",
       "10    {'winner': None, 'nominees': None, 'presenters...\n",
       "11    {'winner': None, 'nominees': None, 'presenters...\n",
       "12    {'winner': None, 'nominees': None, 'presenters...\n",
       "13    {'winner': None, 'nominees': None, 'presenters...\n",
       "14    {'winner': None, 'nominees': None, 'presenters...\n",
       "15    {'winner': None, 'nominees': None, 'presenters...\n",
       "16    {'winner': None, 'nominees': None, 'presenters...\n",
       "17    {'winner': None, 'nominees': None, 'presenters...\n",
       "18    {'winner': None, 'nominees': None, 'presenters...\n",
       "19    {'winner': None, 'nominees': None, 'presenters...\n",
       "20    {'winner': None, 'nominees': None, 'presenters...\n",
       "21    {'winner': None, 'nominees': None, 'presenters...\n",
       "22    {'winner': None, 'nominees': None, 'presenters...\n",
       "23    {'winner': None, 'nominees': None, 'presenters...\n",
       "24    {'winner': None, 'nominees': None, 'presenters...\n",
       "25    {'winner': None, 'nominees': None, 'presenters...\n",
       "26    {'winner': None, 'nominees': None, 'presenters...\n",
       "27    {'winner': None, 'nominees': None, 'presenters...\n",
       "28    {'winner': None, 'nominees': None, 'presenters...\n",
       "29    {'winner': None, 'nominees': None, 'presenters...\n",
       "30    {'winner': None, 'nominees': None, 'presenters...\n",
       "31    {'winner': None, 'nominees': None, 'presenters...\n",
       "32    {'winner': None, 'nominees': None, 'presenters...\n",
       "33    {'winner': None, 'nominees': None, 'presenters...\n",
       "34    {'winner': None, 'nominees': None, 'presenters...\n",
       "35    {'winner': None, 'nominees': None, 'presenters...\n",
       "36    {'winner': None, 'nominees': None, 'presenters...\n",
       "37    {'winner': None, 'nominees': None, 'presenters...\n",
       "38    {'winner': None, 'nominees': None, 'presenters...\n",
       "39    {'winner': None, 'nominees': None, 'presenters...\n",
       "40    {'winner': None, 'nominees': None, 'presenters...\n",
       "41    {'winner': None, 'nominees': None, 'presenters...\n",
       "42    {'winner': None, 'nominees': None, 'presenters...\n",
       "43    {'winner': None, 'nominees': None, 'presenters...\n",
       "44    {'winner': None, 'nominees': None, 'presenters...\n",
       "45    {'winner': ['kerry washington'], 'nominees': [...\n",
       "46    {'winner': None, 'nominees': None, 'presenters...\n",
       "47    {'winner': None, 'nominees': None, 'presenters...\n",
       "48    {'winner': None, 'nominees': None, 'presenters...\n",
       "49    {'winner': None, 'nominees': None, 'presenters...\n",
       "Name: text, dtype: object"
      ]
     },
     "execution_count": 217,
     "metadata": {},
     "output_type": "execute_result"
    }
   ],
   "source": [
    "cleaned_data.head(50).apply(lambda x: extract_award_details(x))"
   ]
  },
  {
   "cell_type": "code",
   "execution_count": 228,
   "metadata": {},
   "outputs": [
    {
     "data": {
      "text/plain": [
       "'The award winner is: christoph waltz'"
      ]
     },
     "execution_count": 228,
     "metadata": {},
     "output_type": "execute_result"
    }
   ],
   "source": [
    "find_award_winner(test_tweet_2)"
   ]
  },
  {
   "cell_type": "code",
   "execution_count": 234,
   "metadata": {},
   "outputs": [
    {
     "data": {
      "text/plain": [
       "349                          No award mention found.\n",
       "607                          No award mention found.\n",
       "619               Possible award winner: rt @morocca\n",
       "836                          No award mention found.\n",
       "1462        Possible award winner: jennifer lawrence\n",
       "1466                         No award mention found.\n",
       "1783              Possible award winner: rt @morocca\n",
       "1876              Possible award winner: rt @morocca\n",
       "1919            Possible award winner: anne hathaway\n",
       "2185                         No award mention found.\n",
       "2363                         No award mention found.\n",
       "2507                         No award mention found.\n",
       "2826                         No award mention found.\n",
       "2944                         No award mention found.\n",
       "3088      Possible award winner: rt @vampirediariecw\n",
       "3168              Possible award winner: rt @morocca\n",
       "3320                  Possible award winner: kathryn\n",
       "4191                         No award mention found.\n",
       "4282                         No award mention found.\n",
       "4452                         No award mention found.\n",
       "4944        Possible award winner: jennifer lawrence\n",
       "5305                         No award mention found.\n",
       "5966                The award winner is: bill murray\n",
       "6087                         No award mention found.\n",
       "6106                         No award mention found.\n",
       "6368                         No award mention found.\n",
       "6654                         No award mention found.\n",
       "6932                The award winner is: bill murray\n",
       "7002             Possible award winner: bill murrays\n",
       "7291       Possible award winner: bill fuckin murray\n",
       "7615     The award winner is: bill murrays van buren\n",
       "8152                         No award mention found.\n",
       "8180                         No award mention found.\n",
       "8924                         No award mention found.\n",
       "9374       Possible award winner: james cameron burn\n",
       "9432                         No award mention found.\n",
       "9544         Possible award winner: katheryn bigelow\n",
       "9552                         No award mention found.\n",
       "10082                        No award mention found.\n",
       "10257                        No award mention found.\n",
       "10710                        No award mention found.\n",
       "11452               The award winner is: bill murray\n",
       "12836                        No award mention found.\n",
       "13487                        No award mention found.\n",
       "13571                        No award mention found.\n",
       "13610              The award winner is: daniel craig\n",
       "13777                        No award mention found.\n",
       "13799                        No award mention found.\n",
       "13802                        No award mention found.\n",
       "13836             Possible award winner: rt @morocca\n",
       "Name: text, dtype: object"
      ]
     },
     "execution_count": 234,
     "metadata": {},
     "output_type": "execute_result"
    }
   ],
   "source": [
    "win_data.head(50).apply(lambda x: find_award_winner(x))"
   ]
  },
  {
   "cell_type": "code",
   "execution_count": 1,
   "metadata": {},
   "outputs": [
    {
     "name": "stdout",
     "output_type": "stream",
     "text": [
      "Collecting imdby\n",
      "  Downloading imdby-0.1.5.tar.gz (18 kB)\n",
      "  Preparing metadata (setup.py) ... \u001b[?25ldone\n",
      "\u001b[?25hRequirement already satisfied: beautifulsoup4 in /Users/Sorie/miniconda3/envs/gg337/lib/python3.10/site-packages (from imdby) (4.12.3)\n",
      "Requirement already satisfied: pandas in /Users/Sorie/miniconda3/envs/gg337/lib/python3.10/site-packages (from imdby) (2.2.3)\n",
      "Collecting selenium (from imdby)\n",
      "  Downloading selenium-4.26.0-py3-none-any.whl.metadata (7.1 kB)\n",
      "Collecting vaderSentiment (from imdby)\n",
      "  Downloading vaderSentiment-3.3.2-py2.py3-none-any.whl.metadata (572 bytes)\n",
      "Collecting textblob (from imdby)\n",
      "  Downloading textblob-0.18.0.post0-py3-none-any.whl.metadata (4.5 kB)\n",
      "Collecting chromedriver-binary (from imdby)\n",
      "  Downloading chromedriver_binary-132.0.6806.0.0.tar.gz (5.6 kB)\n",
      "  Preparing metadata (setup.py) ... \u001b[?25ldone\n",
      "\u001b[?25hRequirement already satisfied: soupsieve>1.2 in /Users/Sorie/miniconda3/envs/gg337/lib/python3.10/site-packages (from beautifulsoup4->imdby) (2.5)\n",
      "Requirement already satisfied: numpy>=1.22.4 in /Users/Sorie/miniconda3/envs/gg337/lib/python3.10/site-packages (from pandas->imdby) (1.26.4)\n",
      "Requirement already satisfied: python-dateutil>=2.8.2 in /Users/Sorie/miniconda3/envs/gg337/lib/python3.10/site-packages (from pandas->imdby) (2.9.0.post0)\n",
      "Requirement already satisfied: pytz>=2020.1 in /Users/Sorie/miniconda3/envs/gg337/lib/python3.10/site-packages (from pandas->imdby) (2024.1)\n",
      "Requirement already satisfied: tzdata>=2022.7 in /Users/Sorie/miniconda3/envs/gg337/lib/python3.10/site-packages (from pandas->imdby) (2024.2)\n",
      "Requirement already satisfied: urllib3<3,>=1.26 in /Users/Sorie/miniconda3/envs/gg337/lib/python3.10/site-packages (from urllib3[socks]<3,>=1.26->selenium->imdby) (2.2.3)\n",
      "Collecting trio~=0.17 (from selenium->imdby)\n",
      "  Downloading trio-0.27.0-py3-none-any.whl.metadata (8.6 kB)\n",
      "Collecting trio-websocket~=0.9 (from selenium->imdby)\n",
      "  Downloading trio_websocket-0.11.1-py3-none-any.whl.metadata (4.7 kB)\n",
      "Requirement already satisfied: certifi>=2021.10.8 in /Users/Sorie/miniconda3/envs/gg337/lib/python3.10/site-packages (from selenium->imdby) (2024.8.30)\n",
      "Requirement already satisfied: typing_extensions~=4.9 in /Users/Sorie/miniconda3/envs/gg337/lib/python3.10/site-packages (from selenium->imdby) (4.11.0)\n",
      "Requirement already satisfied: websocket-client~=1.8 in /Users/Sorie/miniconda3/envs/gg337/lib/python3.10/site-packages (from selenium->imdby) (1.8.0)\n",
      "Requirement already satisfied: nltk>=3.8 in /Users/Sorie/miniconda3/envs/gg337/lib/python3.10/site-packages (from textblob->imdby) (3.9.1)\n",
      "Requirement already satisfied: requests in /Users/Sorie/miniconda3/envs/gg337/lib/python3.10/site-packages (from vaderSentiment->imdby) (2.32.3)\n",
      "Requirement already satisfied: click in /Users/Sorie/miniconda3/envs/gg337/lib/python3.10/site-packages (from nltk>=3.8->textblob->imdby) (8.1.7)\n",
      "Requirement already satisfied: joblib in /Users/Sorie/miniconda3/envs/gg337/lib/python3.10/site-packages (from nltk>=3.8->textblob->imdby) (1.4.2)\n",
      "Requirement already satisfied: regex>=2021.8.3 in /Users/Sorie/miniconda3/envs/gg337/lib/python3.10/site-packages (from nltk>=3.8->textblob->imdby) (2024.9.11)\n",
      "Requirement already satisfied: tqdm in /Users/Sorie/miniconda3/envs/gg337/lib/python3.10/site-packages (from nltk>=3.8->textblob->imdby) (4.66.5)\n",
      "Requirement already satisfied: six>=1.5 in /Users/Sorie/miniconda3/envs/gg337/lib/python3.10/site-packages (from python-dateutil>=2.8.2->pandas->imdby) (1.16.0)\n",
      "Collecting attrs>=23.2.0 (from trio~=0.17->selenium->imdby)\n",
      "  Downloading attrs-24.2.0-py3-none-any.whl.metadata (11 kB)\n",
      "Collecting sortedcontainers (from trio~=0.17->selenium->imdby)\n",
      "  Downloading sortedcontainers-2.4.0-py2.py3-none-any.whl.metadata (10 kB)\n",
      "Requirement already satisfied: idna in /Users/Sorie/miniconda3/envs/gg337/lib/python3.10/site-packages (from trio~=0.17->selenium->imdby) (3.7)\n",
      "Collecting outcome (from trio~=0.17->selenium->imdby)\n",
      "  Downloading outcome-1.3.0.post0-py2.py3-none-any.whl.metadata (2.6 kB)\n",
      "Requirement already satisfied: sniffio>=1.3.0 in /Users/Sorie/miniconda3/envs/gg337/lib/python3.10/site-packages (from trio~=0.17->selenium->imdby) (1.3.0)\n",
      "Requirement already satisfied: exceptiongroup in /Users/Sorie/miniconda3/envs/gg337/lib/python3.10/site-packages (from trio~=0.17->selenium->imdby) (1.2.0)\n",
      "Collecting wsproto>=0.14 (from trio-websocket~=0.9->selenium->imdby)\n",
      "  Downloading wsproto-1.2.0-py3-none-any.whl.metadata (5.6 kB)\n",
      "Requirement already satisfied: pysocks!=1.5.7,<2.0,>=1.5.6 in /Users/Sorie/miniconda3/envs/gg337/lib/python3.10/site-packages (from urllib3[socks]<3,>=1.26->selenium->imdby) (1.7.1)\n",
      "Requirement already satisfied: charset-normalizer<4,>=2 in /Users/Sorie/miniconda3/envs/gg337/lib/python3.10/site-packages (from requests->vaderSentiment->imdby) (3.3.2)\n",
      "Requirement already satisfied: h11<1,>=0.9.0 in /Users/Sorie/miniconda3/envs/gg337/lib/python3.10/site-packages (from wsproto>=0.14->trio-websocket~=0.9->selenium->imdby) (0.14.0)\n",
      "Downloading selenium-4.26.0-py3-none-any.whl (9.7 MB)\n",
      "\u001b[2K   \u001b[90m━━━━━━━━━━━━━━━━━━━━━━━━━━━━━━━━━━━━━━━━\u001b[0m \u001b[32m9.7/9.7 MB\u001b[0m \u001b[31m28.6 MB/s\u001b[0m eta \u001b[36m0:00:00\u001b[0ma \u001b[36m0:00:01\u001b[0m\n",
      "\u001b[?25hDownloading textblob-0.18.0.post0-py3-none-any.whl (626 kB)\n",
      "\u001b[2K   \u001b[90m━━━━━━━━━━━━━━━━━━━━━━━━━━━━━━━━━━━━━━━━\u001b[0m \u001b[32m626.3/626.3 kB\u001b[0m \u001b[31m17.1 MB/s\u001b[0m eta \u001b[36m0:00:00\u001b[0m\n",
      "\u001b[?25hDownloading vaderSentiment-3.3.2-py2.py3-none-any.whl (125 kB)\n",
      "Downloading trio-0.27.0-py3-none-any.whl (481 kB)\n",
      "Downloading trio_websocket-0.11.1-py3-none-any.whl (17 kB)\n",
      "Downloading attrs-24.2.0-py3-none-any.whl (63 kB)\n",
      "Downloading wsproto-1.2.0-py3-none-any.whl (24 kB)\n",
      "Downloading outcome-1.3.0.post0-py2.py3-none-any.whl (10 kB)\n",
      "Downloading sortedcontainers-2.4.0-py2.py3-none-any.whl (29 kB)\n",
      "Building wheels for collected packages: imdby, chromedriver-binary\n",
      "  Building wheel for imdby (setup.py) ... \u001b[?25ldone\n",
      "\u001b[?25h  Created wheel for imdby: filename=imdby-0.1.5-py3-none-any.whl size=28156 sha256=048b3bfcbd0f96d57865e55791cc55a0dd7df675de2d58e97ee2e67f78162a5a\n",
      "  Stored in directory: /Users/Sorie/Library/Caches/pip/wheels/bd/ac/c4/1890880a20b33571608810f487b4df5dbed382f2dc2524d2ff\n",
      "  Building wheel for chromedriver-binary (setup.py) ... \u001b[?25ldone\n",
      "\u001b[?25h  Created wheel for chromedriver-binary: filename=chromedriver_binary-132.0.6806.0.0-py3-none-any.whl size=7399827 sha256=08d71ce06d6e21e4908e9b226b15aae3072e980469b8b484d31d8f3b94ae1efd\n",
      "  Stored in directory: /Users/Sorie/Library/Caches/pip/wheels/97/da/5f/a5d77d2ade9a8eaf510b6673a3beb30c78e96ef6ab08ea2934\n",
      "Successfully built imdby chromedriver-binary\n",
      "Installing collected packages: sortedcontainers, chromedriver-binary, wsproto, attrs, vaderSentiment, textblob, outcome, trio, trio-websocket, selenium, imdby\n",
      "  Attempting uninstall: attrs\n",
      "    Found existing installation: attrs 23.1.0\n",
      "    Uninstalling attrs-23.1.0:\n",
      "      Successfully uninstalled attrs-23.1.0\n",
      "Successfully installed attrs-24.2.0 chromedriver-binary-132.0.6806.0.0 imdby-0.1.5 outcome-1.3.0.post0 selenium-4.26.0 sortedcontainers-2.4.0 textblob-0.18.0.post0 trio-0.27.0 trio-websocket-0.11.1 vaderSentiment-3.3.2 wsproto-1.2.0\n"
     ]
    }
   ],
   "source": [
    "!pip install imdby"
   ]
  },
  {
   "cell_type": "code",
   "execution_count": 30,
   "metadata": {},
   "outputs": [
    {
     "name": "stdout",
     "output_type": "stream",
     "text": [
      "Collecting cinemagoer\n",
      "  Downloading cinemagoer-2023.5.1-py3-none-any.whl.metadata (2.9 kB)\n",
      "Collecting SQLAlchemy (from cinemagoer)\n",
      "  Downloading SQLAlchemy-2.0.36-cp310-cp310-macosx_11_0_arm64.whl.metadata (9.7 kB)\n",
      "Collecting lxml (from cinemagoer)\n",
      "  Downloading lxml-5.3.0-cp310-cp310-macosx_10_9_universal2.whl.metadata (3.8 kB)\n",
      "Requirement already satisfied: typing-extensions>=4.6.0 in /Users/Sorie/miniconda3/envs/gg337/lib/python3.10/site-packages (from SQLAlchemy->cinemagoer) (4.11.0)\n",
      "Downloading cinemagoer-2023.5.1-py3-none-any.whl (297 kB)\n",
      "Downloading lxml-5.3.0-cp310-cp310-macosx_10_9_universal2.whl (8.1 MB)\n",
      "\u001b[2K   \u001b[90m━━━━━━━━━━━━━━━━━━━━━━━━━━━━━━━━━━━━━━━━\u001b[0m \u001b[32m8.1/8.1 MB\u001b[0m \u001b[31m20.8 MB/s\u001b[0m eta \u001b[36m0:00:00\u001b[0ma \u001b[36m0:00:01\u001b[0m\n",
      "\u001b[?25hDownloading SQLAlchemy-2.0.36-cp310-cp310-macosx_11_0_arm64.whl (2.1 MB)\n",
      "\u001b[2K   \u001b[90m━━━━━━━━━━━━━━━━━━━━━━━━━━━━━━━━━━━━━━━━\u001b[0m \u001b[32m2.1/2.1 MB\u001b[0m \u001b[31m21.9 MB/s\u001b[0m eta \u001b[36m0:00:00\u001b[0m\n",
      "\u001b[?25hInstalling collected packages: SQLAlchemy, lxml, cinemagoer\n",
      "Successfully installed SQLAlchemy-2.0.36 cinemagoer-2023.5.1 lxml-5.3.0\n"
     ]
    }
   ],
   "source": [
    "!pip install cinemagoer"
   ]
  },
  {
   "cell_type": "code",
   "execution_count": 33,
   "metadata": {},
   "outputs": [],
   "source": [
    "from imdb import Cinemagoer"
   ]
  },
  {
   "cell_type": "code",
   "execution_count": 36,
   "metadata": {},
   "outputs": [
    {
     "name": "stdout",
     "output_type": "stream",
     "text": [
      "0111161\n",
      "The Shawshank Redemption\n",
      "1994\n"
     ]
    }
   ],
   "source": [
    "# Create an instance of the IMDb class\n",
    "ia = Cinemagoer()\n",
    "\n",
    "# Search for a movie\n",
    "movie = ia.search_movie(\"The Shawshank Redemption\")[0]\n",
    "\n",
    "# Get movie details\n",
    "print(movie.movieID)\n",
    "print(movie['title'])\n",
    "print(movie['year'])"
   ]
  },
  {
   "cell_type": "code",
   "execution_count": null,
   "metadata": {},
   "outputs": [],
   "source": []
  }
 ],
 "metadata": {
  "kernelspec": {
   "display_name": "gg337",
   "language": "python",
   "name": "python3"
  },
  "language_info": {
   "codemirror_mode": {
    "name": "ipython",
    "version": 3
   },
   "file_extension": ".py",
   "mimetype": "text/x-python",
   "name": "python",
   "nbconvert_exporter": "python",
   "pygments_lexer": "ipython3",
   "version": "3.10.13"
  }
 },
 "nbformat": 4,
 "nbformat_minor": 2
}
