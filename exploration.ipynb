{
 "cells": [
  {
   "cell_type": "code",
   "execution_count": 106,
   "metadata": {},
   "outputs": [],
   "source": [
    "import pandas as pd\n",
    "import re\n",
    "import emoji\n",
    "from ftfy import fix_text\n",
    "import unidecode\n",
    "from langdetect import detect, detect_langs"
   ]
  },
  {
   "cell_type": "code",
   "execution_count": 196,
   "metadata": {},
   "outputs": [],
   "source": [
    "df = pd.read_json(r'C:\\Users\\rockm\\golden-globe-337\\gg2013.json')['text']"
   ]
  },
  {
   "cell_type": "code",
   "execution_count": 88,
   "metadata": {},
   "outputs": [],
   "source": [
    "df.to_csv('text.csv')"
   ]
  },
  {
   "cell_type": "code",
   "execution_count": 161,
   "metadata": {},
   "outputs": [
    {
     "data": {
      "text/plain": [
       "0                    JLo's dress! #eredcarpet #GoldenGlobes\n",
       "1         What's making Sofia Vergara's boobs stay like ...\n",
       "2         RT @FabSugar: Kerry Washington is EVERYTHING. ...\n",
       "3            Anne Hathaway has got me living. #GoldenGlobes\n",
       "4         Jennifer Lopez's lace dress? Thoughts? #Golden...\n",
       "                                ...                        \n",
       "174638    RT @authorViviAnna: I was sad that Mandy Patin...\n",
       "174639    RT @_ItzelMartinez_: Jennifer Lawrence aceptan...\n",
       "174640    Golden Globes, lots of fashion messes...but gl...\n",
       "174641    Did they have mug shots at the golden globes?!...\n",
       "174642    Says @BenAffleck: \"I also didn't get the Actin...\n",
       "Name: text, Length: 174643, dtype: object"
      ]
     },
     "execution_count": 161,
     "metadata": {},
     "output_type": "execute_result"
    }
   ],
   "source": [
    "df"
   ]
  },
  {
   "cell_type": "code",
   "execution_count": 227,
   "metadata": {},
   "outputs": [],
   "source": [
    "def clean(text):\n",
    "    text = fix_text(text)\n",
    "    # Remove URLs\n",
    "    text = re.sub(r'http\\S+|www\\S+|pic.twitter\\S+', '', text)\n",
    "    # Remove emojis\n",
    "    # new_text = unidecode(text)\n",
    "    text = emoji.replace_emoji(text, replace='')\n",
    "    # Remove hashtags\n",
    "    text = re.sub(r'#\\S+', '', text)\n",
    "    \n",
    "    text = re.sub(r'[^A-Za-z0-9@ \"]+', '', text)\n",
    "    \n",
    "    text = re.sub(' +', ' ', text)\n",
    "    \n",
    "    text = text.lower()\n",
    "    \n",
    "    # if text.str.strip() != '':\n",
    "    #     detect(text.split(' ')[0])\n",
    "    \n",
    "    return text"
   ]
  },
  {
   "cell_type": "code",
   "execution_count": 228,
   "metadata": {},
   "outputs": [],
   "source": [
    "df = df.apply(clean)"
   ]
  },
  {
   "cell_type": "code",
   "execution_count": 230,
   "metadata": {},
   "outputs": [],
   "source": [
    "cleaned_data = df[df.str.strip() != \"\"]"
   ]
  },
  {
   "cell_type": "code",
   "execution_count": 231,
   "metadata": {},
   "outputs": [],
   "source": [
    "cleaned_data.to_csv('text_cleaned.csv')"
   ]
  }
 ],
 "metadata": {
  "kernelspec": {
   "display_name": "gg337",
   "language": "python",
   "name": "python3"
  },
  "language_info": {
   "codemirror_mode": {
    "name": "ipython",
    "version": 3
   },
   "file_extension": ".py",
   "mimetype": "text/x-python",
   "name": "python",
   "nbconvert_exporter": "python",
   "pygments_lexer": "ipython3",
   "version": "3.10.15"
  }
 },
 "nbformat": 4,
 "nbformat_minor": 2
}
